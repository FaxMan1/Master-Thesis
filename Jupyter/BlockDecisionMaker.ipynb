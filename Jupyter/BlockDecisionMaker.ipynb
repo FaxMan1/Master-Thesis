{
 "cells": [
  {
   "cell_type": "code",
   "execution_count": 1,
   "id": "realistic-michigan",
   "metadata": {},
   "outputs": [],
   "source": [
    "import sys\n",
    "import numpy as np\n",
    "sys.path.append('../DE_PyCharm')\n",
    "from Comms_System import Comms_System\n",
    "from train_decision_making import train_DM_model\n",
    "from DE_minibatch import DE\n",
    "#from DE import DE\n",
    "from objective_functions import MSE\n",
    "from objective_functions import crossEntropy\n",
    "from Network import NeuralNetwork\n",
    "import matplotlib.pyplot as plt\n",
    "import scipy.stats"
   ]
  },
  {
   "cell_type": "code",
   "execution_count": 2,
   "id": "basic-manner",
   "metadata": {},
   "outputs": [],
   "source": [
    "symbol_set = [3, 1, -1, -3] # all symbols that we use\n",
    "num_symbols = 1334\n",
    "symbol_seq = np.random.choice(symbol_set, num_symbols, replace=True)\n",
    "m = 8\n",
    "CS = Comms_System(symbol_set=symbol_set, symbol_seq=symbol_seq, num_samples=m, beta=0.35)\n",
    "sigma = 2\n",
    "\n",
    "# calibrate\n",
    "gain_factor = np.max(np.convolve(CS.h, CS.h))\n",
    "\n",
    "# upsample symbol sequence and filter it on transmission side\n",
    "upsampled = CS.upsample(v=False)\n",
    "Tx = np.convolve(upsampled, CS.h)\n",
    "\n",
    "# Transmit the filtered signal (i.e. add noise)\n",
    "Tx = Tx + np.random.normal(0.0, sigma, Tx.shape)  # add gaussian noise\n",
    "\n",
    "# Filter on receiver side\n",
    "Rx = np.convolve(Tx, CS.h)\n",
    "downsampled = CS.downsample(Rx)/gain_factor\n",
    "Rx_ = Rx/gain_factor\n",
    "\n",
    "blocks = CS.get_periods(Rx_)\n",
    "X = np.array(blocks)"
   ]
  },
  {
   "cell_type": "code",
   "execution_count": 3,
   "id": "handy-creativity",
   "metadata": {},
   "outputs": [],
   "source": [
    "X = np.array(blocks)\n",
    "y = symbol_seq\n",
    "classes = np.array(symbol_set)\n",
    "num_classes = len(classes)\n",
    "sizes = [8, 8, 4]\n",
    "sizes[-1] = num_classes\n",
    "\n",
    "# Makes a dictionary that maps a number to each symbol e.g. 3: 0\n",
    "class_idx = {v: i for i, v in enumerate(classes)}\n",
    "\n",
    "# Maps class indexes to each value in targets\n",
    "y = np.array([class_idx[v] for v in y])\n",
    "\n",
    "# Converts to one-hot-encoded\n",
    "y = np.eye(num_classes)[y]\n",
    "\n",
    "# split train-test\n",
    "splitlen = int(X.shape[0] * 0.75)\n",
    "Xtrain, ytrain = X[:splitlen], y[:splitlen]\n",
    "Xtest, ytest = X[splitlen:], y[splitlen:]"
   ]
  },
  {
   "cell_type": "code",
   "execution_count": 9,
   "id": "everyday-equilibrium",
   "metadata": {},
   "outputs": [
    {
     "name": "stdout",
     "output_type": "stream",
     "text": [
      "Rising 0.4221556886227545\n",
      "Rising 0.7155688622754491\n",
      "Rising 0.7574850299401198\n",
      "Rising 0.7754491017964071\n",
      "Rising 0.7994011976047904\n",
      "Rising 0.8383233532934131\n",
      "Rising 0.8562874251497006\n",
      "Rising 0.8832335329341318\n",
      "Rising 0.8982035928143712\n",
      "Optimal number of iterations: 2292\n",
      "Best accuracy: 0.8982035928143712\n",
      "Accuracy at stop: 0.8922155688622755\n"
     ]
    },
    {
     "data": {
      "image/png": "[encoded data removed]",
      "text/plain": [
       "<Figure size 936x576 with 1 Axes>"
      ]
     },
     "metadata": {
      "needs_background": "light"
     },
     "output_type": "display_data"
    }
   ],
   "source": [
    "optimizer = 'DE'\n",
    "early_stop = True\n",
    "\n",
    "if optimizer == 'DE':\n",
    "    D = DE(objective_function=crossEntropy, sizes=sizes, pop_size=50, F=0.55, cr=0.85,\n",
    "           X=Xtrain, y=ytrain, Xtest=Xtest, ytest=ytest, type='classification', afunc='relu')\n",
    "    \n",
    "    if early_stop:\n",
    "        best_agent, opt_agent = D.early_stop_training(patience=4000, batch_size=Xtrain.shape[0], measure='accuracy')\n",
    "    else:\n",
    "        best_agent = D.evolution(num_epochs=1001, batch_size=Xtrain.shape[0], verbose=True, print_epoch=100)\n",
    "        D.evaluate()\n",
    "    \n",
    "elif optimizer == 'BP':\n",
    "    NN = NeuralNetwork(sizes=[8,8,4], afunc='relu')\n",
    "    NN.train_loop(Xtrain, ytrain, Xtest, ytest, epochs=100, batch_size=Xtrain.shape[0], \n",
    "                  cost=True, acc=True, plot=True)\n",
    "    best_agent = NN"
   ]
  },
  {
   "cell_type": "code",
   "execution_count": 10,
   "id": "japanese-bottom",
   "metadata": {},
   "outputs": [
    {
     "name": "stdout",
     "output_type": "stream",
     "text": [
      "Accuracy:  89.82035928143712 %\n"
     ]
    }
   ],
   "source": [
    "# Get predictions\n",
    "predictions = opt_agent.feedforward(Xtest).argmax(axis=1)\n",
    "true = ytest.argmax(axis=1)\n",
    "\n",
    "# Convert back to symbols\n",
    "predicted_symbols = classes[predictions]\n",
    "true_values = classes[true]\n",
    "# print(predicted_symbols, true_values)\n",
    "correct_preds = np.equal(true_values, predicted_symbols)\n",
    "print(\"Accuracy: \", (sum(correct_preds) / len(true_values)) * 100, \"%\")"
   ]
  },
  {
   "cell_type": "markdown",
   "id": "answering-complex",
   "metadata": {},
   "source": [
    "# Error Rate"
   ]
  },
  {
   "cell_type": "code",
   "execution_count": null,
   "id": "bored-thursday",
   "metadata": {},
   "outputs": [],
   "source": [
    "for i in range(5):\n",
    "    \n",
    "    symbol_set = [3, 1, -1, -3] # all symbols that we use\n",
    "    num_symbols = 10000\n",
    "    symbol_seq = np.random.choice(symbol_set, num_symbols, replace=True)\n",
    "    m = 8\n",
    "    CS = Comms_System(symbol_set=symbol_set, symbol_seq=symbol_seq, num_samples=m, beta=0.35)\n",
    "    sigma = 3\n",
    "    classes = np.array(symbol_set)\n",
    "\n",
    "    # calibrate\n",
    "    gain_factor = np.max(np.convolve(CS.h, CS.h))\n",
    "\n",
    "    # upsample symbol sequence and filter it on transmission side\n",
    "    upsampled = CS.upsample(v=False)\n",
    "    Tx = np.convolve(upsampled, CS.h)\n",
    "\n",
    "    # Transmit the filtered signal (i.e. add noise)\n",
    "    Tx = Tx + np.random.normal(0.0, sigma, Tx.shape)  # add gaussian noise\n",
    "\n",
    "    # Filter on receiver side\n",
    "    Rx = np.convolve(Tx, CS.h)\n",
    "    #downsampled = CS.downsample(Rx)/gain_factor\n",
    "    Rx_ = Rx/gain_factor\n",
    "\n",
    "    blocks = CS.get_periods(Rx_)\n",
    "    X = np.array(blocks)\n",
    "    euclid_decisions = CS.transmission(mode='euclidean', noise_level=sigma)\n",
    "    NN_decisions = classes[D.best_agent.feedforward(X).argmax(axis=1)]\n",
    "    \n",
    "    print('Euclidean Distance Error Rate: {}%'.format((CS.evaluate(euclid_decisions)[1]*100).round(2)))\n",
    "    print('Blocks Neural Net Error Rate: {}%'.format((CS.evaluate(NN_decisions)[1]*100).round(2)))"
   ]
  },
  {
   "cell_type": "code",
   "execution_count": null,
   "id": "speaking-personality",
   "metadata": {},
   "outputs": [],
   "source": [
    "save_weights = True\n",
    "\n",
    "if save_weights:\n",
    "    D.save_params('block_decision_making_weights', 'block_decision_making_biases')"
   ]
  },
  {
   "cell_type": "code",
   "execution_count": null,
   "id": "economic-minutes",
   "metadata": {},
   "outputs": [],
   "source": []
  }
 ],
 "metadata": {
  "kernelspec": {
   "display_name": "Python 3",
   "language": "python",
   "name": "python3"
  },
  "language_info": {
   "codemirror_mode": {
    "name": "ipython",
    "version": 3
   },
   "file_extension": ".py",
   "mimetype": "text/x-python",
   "name": "python",
   "nbconvert_exporter": "python",
   "pygments_lexer": "ipython3",
   "version": "3.6.13"
  }
 },
 "nbformat": 4,
 "nbformat_minor": 5
}

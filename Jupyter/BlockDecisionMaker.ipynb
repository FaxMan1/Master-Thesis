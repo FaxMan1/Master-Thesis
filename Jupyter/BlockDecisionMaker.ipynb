{
 "cells": [
  {
   "cell_type": "code",
   "execution_count": null,
   "id": "realistic-michigan",
   "metadata": {},
   "outputs": [],
   "source": [
    "import sys\n",
    "import numpy as np\n",
    "sys.path.append('..')\n",
    "from Comms_System import Comms_System\n",
    "from train_decision_making import train_DM_model\n",
    "from DE_minibatch import DE\n",
    "#from DE import DE\n",
    "from objective_functions import MSE\n",
    "from objective_functions import crossEntropy\n",
    "from Network import NeuralNetwork\n",
    "import matplotlib.pyplot as plt\n",
    "import scipy.stats"
   ]
  },
  {
   "cell_type": "code",
   "execution_count": null,
   "id": "basic-manner",
   "metadata": {},
   "outputs": [],
   "source": [
    "symbol_set = [3, 1, -1, -3] # all symbols that we use\n",
    "num_symbols = 1334\n",
    "symbol_seq = np.random.choice(symbol_set, num_symbols, replace=True)\n",
    "m = 8\n",
    "CS = Comms_System(symbol_set=symbol_set, symbol_seq=symbol_seq, num_samples=m, beta=0.35)\n",
    "sigma = 2\n",
    "\n",
    "# calibrate\n",
    "gain_factor = np.max(np.convolve(CS.h, CS.h))\n",
    "\n",
    "# upsample symbol sequence and filter it on transmission side\n",
    "upsampled = CS.upsample(v=False)\n",
    "Tx = np.convolve(upsampled, CS.h)\n",
    "\n",
    "# Transmit the filtered signal (i.e. add noise)\n",
    "Tx = Tx + np.random.normal(0.0, sigma, Tx.shape)  # add gaussian noise\n",
    "\n",
    "# Filter on receiver side\n",
    "Rx = np.convolve(Tx, CS.h)\n",
    "downsampled = CS.downsample(Rx)/gain_factor\n",
    "Rx_ = Rx/gain_factor\n",
    "\n",
    "blocks = CS.get_periods(Rx_)\n",
    "X = np.array(blocks)"
   ]
  },
  {
   "cell_type": "code",
   "execution_count": null,
   "id": "handy-creativity",
   "metadata": {},
   "outputs": [],
   "source": [
    "X = np.array(blocks)\n",
    "y = symbol_seq\n",
    "classes = np.array(symbol_set)\n",
    "num_classes = len(classes)\n",
    "sizes = [8, 8, 4]\n",
    "sizes[-1] = num_classes\n",
    "\n",
    "# Makes a dictionary that maps a number to each symbol e.g. 3: 0\n",
    "class_idx = {v: i for i, v in enumerate(classes)}\n",
    "\n",
    "# Maps class indexes to each value in targets\n",
    "y = np.array([class_idx[v] for v in y])\n",
    "\n",
    "# Converts to one-hot-encoded\n",
    "y = np.eye(num_classes)[y]\n",
    "\n",
    "# split train-test\n",
    "splitlen = int(X.shape[0] * 0.75)\n",
    "Xtrain, ytrain = X[:splitlen], y[:splitlen]\n",
    "Xtest, ytest = X[splitlen:], y[splitlen:]"
   ]
  },
  {
   "cell_type": "code",
   "execution_count": null,
   "id": "everyday-equilibrium",
   "metadata": {},
   "outputs": [],
   "source": [
    "optimizer = 'DE'\n",
    "early_stop = True\n",
    "\n",
    "if optimizer == 'DE':\n",
    "    D = DE(objective_function=crossEntropy, sizes=sizes, pop_size=50, F=0.55, cr=0.85,\n",
    "           X=Xtrain, y=ytrain, Xtest=Xtest, ytest=ytest, type='classification', afunc='relu')\n",
    "    \n",
    "    if early_stop:\n",
    "        best_agent, opt_agent = D.early_stop_training(patience=300, batch_size=Xtrain.shape[0]//3, measure='accuracy')\n",
    "    else:\n",
    "        best_agent = D.evolution(num_epochs=5001, batch_size=Xtrain.shape[0], verbose=True, print_epoch=100)\n",
    "        D.evaluate()\n",
    "    \n",
    "elif optimizer == 'BP':\n",
    "    NN = NeuralNetwork(sizes=[8,8,4], afunc='relu')\n",
    "    NN.train_loop(Xtrain, ytrain, Xtest, ytest, epochs=100, batch_size=Xtrain.shape[0], \n",
    "                  cost=True, acc=True, plot=True)\n",
    "    best_agent = NN"
   ]
  },
  {
   "cell_type": "code",
   "execution_count": null,
   "id": "japanese-bottom",
   "metadata": {},
   "outputs": [],
   "source": [
    "# Get predictions\n",
    "predictions = best_agent.feedforward(Xtest).argmax(axis=1)\n",
    "true = ytest.argmax(axis=1)\n",
    "\n",
    "# Convert back to symbols\n",
    "predicted_symbols = classes[predictions]\n",
    "true_values = classes[true]\n",
    "# print(predicted_symbols, true_values)\n",
    "correct_preds = np.equal(true_values, predicted_symbols)\n",
    "print(\"Accuracy: \", (sum(correct_preds) / len(true_values)) * 100, \"%\")"
   ]
  },
  {
   "cell_type": "markdown",
   "id": "answering-complex",
   "metadata": {},
   "source": [
    "# Error Rate"
   ]
  },
  {
   "cell_type": "code",
   "execution_count": null,
   "id": "ffc76291",
   "metadata": {},
   "outputs": [],
   "source": [
    "for i in range(10):\n",
    "\n",
    "    symbol_set = [3, 1, -1, -3] # all symbols that we use\n",
    "    num_symbols = 10000\n",
    "    symbol_seq = np.random.choice(symbol_set, num_symbols, replace=True)\n",
    "    m = 8\n",
    "    CS = Comms_System(symbol_set=symbol_set, symbol_seq=symbol_seq, num_samples=m)\n",
    "    noise_level = 1\n",
    "\n",
    "    # Automatic test\n",
    "    euclid_decisions, NN_decisions, block_decisions, filter_decisions, _ = CS.test_CS(noise_level=noise_level, \n",
    "                                                                                      block_model=None)\n",
    "    print('Euclidean Distance Error Rate: {}%'.format((CS.evaluate(euclid_decisions)[1]*100).round(2)))\n",
    "    #print('NN Decision Making Error Rate: {}%'.format((CS.evaluate(NN_decisions)[1]*100).round(2)))\n",
    "    print('NN Block Error Rate: {}%'.format((CS.evaluate(block_decisions)[1]*100).round(2)))\n",
    "    #print('NN Filter Error Rate: {}%'.format((CS.evaluate(filter_decisions)[1]*100).round(2)))\n",
    "    print()"
   ]
  },
  {
   "cell_type": "code",
   "execution_count": null,
   "id": "speaking-personality",
   "metadata": {},
   "outputs": [],
   "source": [
    "save_weights = False\n",
    "\n",
    "if save_weights:\n",
    "    D.save_params('block_decision_making_weights', 'block_decision_making_biases')"
   ]
  },
  {
   "cell_type": "code",
   "execution_count": null,
   "id": "economic-minutes",
   "metadata": {},
   "outputs": [],
   "source": []
  }
 ],
 "metadata": {
  "kernelspec": {
   "display_name": "Python 3 (ipykernel)",
   "language": "python",
   "name": "python3"
  },
  "language_info": {
   "codemirror_mode": {
    "name": "ipython",
    "version": 3
   },
   "file_extension": ".py",
   "mimetype": "text/x-python",
   "name": "python",
   "nbconvert_exporter": "python",
   "pygments_lexer": "ipython3",
   "version": "3.8.12"
  }
 },
 "nbformat": 4,
 "nbformat_minor": 5
}

{
 "cells": [
  {
   "cell_type": "code",
   "execution_count": 1,
   "id": "realistic-michigan",
   "metadata": {},
   "outputs": [],
   "source": [
    "import sys\n",
    "import numpy as np\n",
    "sys.path.append('..')\n",
    "from Comms_System import Comms_System\n",
    "from train_decision_making import train_DM_model\n",
    "from DE import DE\n",
    "from objective_functions import MSE\n",
    "from objective_functions import crossEntropy\n",
    "from Network import NeuralNetwork\n",
    "import matplotlib.pyplot as plt\n",
    "import scipy.stats"
   ]
  },
  {
   "cell_type": "code",
   "execution_count": 3,
   "id": "basic-manner",
   "metadata": {},
   "outputs": [],
   "source": [
    "symbol_set = [3, 1, -1, -3] # all symbols that we use\n",
    "num_symbols = 2000\n",
    "symbol_seq = np.random.choice(symbol_set, num_symbols, replace=True)\n",
    "m = 8\n",
    "CS = Comms_System(symbol_set=symbol_set, symbol_seq=symbol_seq, num_samples=m, beta=0.35)\n",
    "sigma = 2\n",
    "\n",
    "# calibrate\n",
    "gain_factor = np.max(np.convolve(CS.h, CS.h))\n",
    "\n",
    "# upsample symbol sequence and filter it on transmission side\n",
    "upsampled = CS.upsample(v=False)\n",
    "Tx = np.convolve(upsampled, CS.h)\n",
    "\n",
    "# Transmit the filtered signal (i.e. add noise)\n",
    "Tx = Tx + np.random.normal(0.0, sigma, Tx.shape)  # add gaussian noise\n",
    "\n",
    "# Filter on receiver side\n",
    "Rx = np.convolve(Tx, CS.h)\n",
    "downsampled = CS.downsample(Rx)/gain_factor\n",
    "Rx_ = Rx/gain_factor\n",
    "\n",
    "blocks = CS.get_periods(Rx_)\n",
    "X = np.array(blocks)"
   ]
  },
  {
   "cell_type": "code",
   "execution_count": 4,
   "id": "handy-creativity",
   "metadata": {},
   "outputs": [],
   "source": [
    "X = np.array(blocks)\n",
    "y = symbol_seq\n",
    "classes = np.array(symbol_set)\n",
    "num_classes = len(classes)\n",
    "sizes = [8, 8, 4]\n",
    "sizes[-1] = num_classes\n",
    "\n",
    "# Makes a dictionary that maps a number to each symbol e.g. 3: 0\n",
    "class_idx = {v: i for i, v in enumerate(classes)}\n",
    "\n",
    "# Maps class indexes to each value in targets\n",
    "y = np.array([class_idx[v] for v in y])\n",
    "\n",
    "# Converts to one-hot-encoded\n",
    "y = np.eye(num_classes)[y]\n",
    "\n",
    "# split train-test\n",
    "splitlen = int(X.shape[0] * 0.5)\n",
    "Xtrain, ytrain = X[:splitlen], y[:splitlen]\n",
    "Xtest, ytest = X[splitlen:], y[splitlen:]"
   ]
  },
  {
   "cell_type": "code",
   "execution_count": 7,
   "id": "everyday-equilibrium",
   "metadata": {
    "scrolled": false
   },
   "outputs": [
    {
     "name": "stdout",
     "output_type": "stream",
     "text": [
      "0: cost= 0.42334\n",
      "0: testcost= 0.43205\n",
      "0: acc=0.52700\n",
      "0: testacc=0.54300\n",
      "\n",
      "100: cost= 0.23449\n",
      "100: testcost= 0.27260\n",
      "100: acc=0.81400\n",
      "100: testacc=0.79000\n",
      "\n",
      "200: cost= 0.20184\n",
      "200: testcost= 0.22349\n",
      "200: acc=0.82000\n",
      "200: testacc=0.83000\n",
      "\n",
      "300: cost= 0.20184\n",
      "300: testcost= 0.22349\n",
      "300: acc=0.82000\n",
      "300: testacc=0.83000\n",
      "\n",
      "400: cost= 0.20184\n",
      "400: testcost= 0.22349\n",
      "400: acc=0.82000\n",
      "400: testacc=0.83000\n",
      "\n",
      "500: cost= 0.20034\n",
      "500: testcost= 0.21316\n",
      "500: acc=0.83400\n",
      "500: testacc=0.83000\n",
      "\n",
      "600: cost= 0.17717\n",
      "600: testcost= 0.18986\n",
      "600: acc=0.85100\n",
      "600: testacc=0.84400\n",
      "\n",
      "700: cost= 0.17717\n",
      "700: testcost= 0.18986\n",
      "700: acc=0.85100\n",
      "700: testacc=0.84400\n",
      "\n",
      "800: cost= 0.17150\n",
      "800: testcost= 0.20806\n",
      "800: acc=0.86400\n",
      "800: testacc=0.83500\n",
      "\n",
      "900: cost= 0.17150\n",
      "900: testcost= 0.20806\n",
      "900: acc=0.86400\n",
      "900: testacc=0.83500\n",
      "\n",
      "1000: cost= 0.17150\n",
      "1000: testcost= 0.20806\n",
      "1000: acc=0.86400\n",
      "1000: testacc=0.83500\n",
      "\n",
      "1100: cost= 0.17150\n",
      "1100: testcost= 0.20806\n",
      "1100: acc=0.86400\n",
      "1100: testacc=0.83500\n",
      "\n",
      "1200: cost= 0.15564\n",
      "1200: testcost= 0.17506\n",
      "1200: acc=0.88600\n",
      "1200: testacc=0.85900\n",
      "\n",
      "1300: cost= 0.15564\n",
      "1300: testcost= 0.17506\n",
      "1300: acc=0.88600\n",
      "1300: testacc=0.85900\n",
      "\n",
      "1400: cost= 0.15564\n",
      "1400: testcost= 0.17506\n",
      "1400: acc=0.88600\n",
      "1400: testacc=0.85900\n",
      "\n",
      "1500: cost= 0.15564\n",
      "1500: testcost= 0.17506\n",
      "1500: acc=0.88600\n",
      "1500: testacc=0.85900\n",
      "\n",
      "1600: cost= 0.15564\n",
      "1600: testcost= 0.17506\n",
      "1600: acc=0.88600\n",
      "1600: testacc=0.85900\n",
      "\n",
      "1700: cost= 0.15564\n",
      "1700: testcost= 0.17506\n",
      "1700: acc=0.88600\n",
      "1700: testacc=0.85900\n",
      "\n",
      "1800: cost= 0.15564\n",
      "1800: testcost= 0.17506\n",
      "1800: acc=0.88600\n",
      "1800: testacc=0.85900\n",
      "\n",
      "1900: cost= 0.15564\n",
      "1900: testcost= 0.17506\n",
      "1900: acc=0.88600\n",
      "1900: testacc=0.85900\n",
      "\n",
      "2000: cost= 0.15564\n",
      "2000: testcost= 0.17506\n",
      "2000: acc=0.88600\n",
      "2000: testacc=0.85900\n",
      "\n"
     ]
    },
    {
     "data": {
      "image/png": "[encoded data removed]",
      "text/plain": [
       "<Figure size 936x576 with 1 Axes>"
      ]
     },
     "metadata": {
      "needs_background": "light"
     },
     "output_type": "display_data"
    },
    {
     "name": "stdout",
     "output_type": "stream",
     "text": [
      "Best agent is <Network.NeuralNetwork object at 0x1a41189e10> with a train cost of 0.15564.\n",
      "And a test cost of 0.17506\n"
     ]
    }
   ],
   "source": [
    "optimizer = 'DE'\n",
    "early_stop = False\n",
    "\n",
    "if optimizer == 'DE':\n",
    "    D = DE(objective_function=crossEntropy, sizes=sizes, pop_size=50, F=0.55, cr=0.85,\n",
    "           X=Xtrain, y=ytrain, Xtest=Xtest, ytest=ytest, type='classification', afunc='identity')\n",
    "    \n",
    "    if early_stop:\n",
    "        best_agent, opt_agent = D.early_stop_training(patience=300, batch_size=Xtrain.shape[0]//3, measure='accuracy')\n",
    "    else:\n",
    "        best_agent = D.evolution(num_epochs=2001, verbose=True, print_epoch=100)\n",
    "        D.evaluate()\n",
    "    \n",
    "elif optimizer == 'BP':\n",
    "    NN = NeuralNetwork(sizes=[8,8,4], afunc='identity')\n",
    "    NN.train_loop(Xtrain, ytrain, Xtest, ytest, epochs=15000, batch_size=Xtrain.shape[0], \n",
    "                  cost=True, acc=True, plot=True)\n",
    "    best_agent = NN"
   ]
  },
  {
   "cell_type": "code",
   "execution_count": 8,
   "id": "japanese-bottom",
   "metadata": {},
   "outputs": [
    {
     "name": "stdout",
     "output_type": "stream",
     "text": [
      "Accuracy:  85.9 %\n"
     ]
    }
   ],
   "source": [
    "# Get predictions\n",
    "predictions = best_agent.feedforward(Xtest).argmax(axis=1)\n",
    "true = ytest.argmax(axis=1)\n",
    "\n",
    "# Convert back to symbols\n",
    "predicted_symbols = classes[predictions]\n",
    "true_values = classes[true]\n",
    "# print(predicted_symbols, true_values)\n",
    "correct_preds = np.equal(true_values, predicted_symbols)\n",
    "print(\"Accuracy: \", (sum(correct_preds) / len(true_values)) * 100, \"%\")"
   ]
  },
  {
   "cell_type": "markdown",
   "id": "answering-complex",
   "metadata": {},
   "source": [
    "# Error Rate"
   ]
  },
  {
   "cell_type": "code",
   "execution_count": null,
   "id": "ffc76291",
   "metadata": {},
   "outputs": [],
   "source": [
    "for i in range(1):\n",
    "\n",
    "    symbol_set = [3, 1, -1, -3] # all symbols that we use\n",
    "    num_symbols = 100000\n",
    "    symbol_seq = np.random.choice(symbol_set, num_symbols, replace=True)\n",
    "    m = 8\n",
    "    CS = Comms_System(symbol_set=symbol_set, symbol_seq=symbol_seq, num_samples=m)\n",
    "    SNRdb = 10\n",
    "    sigma = CS.SNRdb_to_sigma(SNRdb, use_gain=True)\n",
    "    print(sigma)\n",
    "\n",
    "    # Automatic test\n",
    "    \n",
    "    euclid_decisions, NN_decisions, block_decisions = CS.transmit_small_components(SNRdb, block=True, block_model=best_agent)\n",
    "    \n",
    "    print('Euclidean Distance Error Rate: {}%'.format((CS.evaluate(euclid_decisions)[1]*100).round(2)))\n",
    "    #print('NN Decision Making Error Rate: {}%'.format((CS.evaluate(NN_decisions)[1]*100).round(2)))\n",
    "    print('NN Block Error Rate: {}%'.format((CS.evaluate(block_decisions)[1]*100).round(2)))\n",
    "    #print('NN Filter Error Rate: {}%'.format((CS.evaluate(filter_decisions)[1]*100).round(2)))\n",
    "    print()"
   ]
  },
  {
   "cell_type": "code",
   "execution_count": 18,
   "id": "removed-sphere",
   "metadata": {},
   "outputs": [
    {
     "name": "stdout",
     "output_type": "stream",
     "text": [
      "Avg symbol energy 4.9883733333333335\n",
      "gain 7.997651076371556\n"
     ]
    }
   ],
   "source": [
    "symbol_set = [3, 1, -1, -3]  # all symbols that we use\n",
    "symbol_seq = np.random.choice(symbol_set, 300000, replace=True)\n",
    "CS = Comms_System(symbol_set=symbol_set, symbol_seq=symbol_seq, num_samples=8, beta=0.35)\n",
    "SNRdbs = np.linspace(0, 19, 50)\n",
    "euclid_error_rates = np.zeros(len(SNRdbs))\n",
    "block_error_rates = np.zeros(len(SNRdbs))\n",
    "avg_symbol_energy = np.mean(symbol_seq ** 2)\n",
    "print('Avg symbol energy', avg_symbol_energy)\n",
    "gain_factor = np.max(np.convolve(CS.h, CS.h))\n",
    "print('gain', gain_factor)\n",
    "\n",
    "for i, SNRdb in enumerate(SNRdbs):\n",
    "    euclid_decisions, _, block_decisions = CS.transmit_small_components(SNRdb=SNRdb, block_model=net, block=True)\n",
    "    euclid_error_rates[i] = CS.evaluate(euclid_decisions)[1]\n",
    "    block_error_rates[i] = CS.evaluate(block_decisions)[1]\n",
    "\n",
    "sigmas = np.array([CS.SNRdb_to_sigma(SNRdb, avg_symbol_energy, use_gain=True) for SNRdb in SNRdbs])\n",
    "error_theory = 1.5 * (1 - scipy.stats.norm.cdf(np.sqrt(gain_factor / sigmas ** 2)))"
   ]
  },
  {
   "cell_type": "code",
   "execution_count": 20,
   "id": "italian-azerbaijan",
   "metadata": {},
   "outputs": [
    {
     "data": {
      "image/png": "[encoded data removed]",
      "text/plain": [
       "<Figure size 936x576 with 1 Axes>"
      ]
     },
     "metadata": {
      "needs_background": "light"
     },
     "output_type": "display_data"
    }
   ],
   "source": [
    "plt.figure(figsize=(13,8))\n",
    "plt.xlabel('SNR (dB)', fontsize=20)\n",
    "plt.ylabel('$P_e$', fontsize=24)\n",
    "num = 0\n",
    "plt.semilogy(SNRdbs[num:], euclid_error_rates[num:], alpha=1, linewidth=3, label='Euclidean')\n",
    "plt.semilogy(SNRdbs[num:], block_error_rates[num:], alpha=0.75, linewidth=3, label='Time Delayed Network')\n",
    "#plt.semilogy(SNRdbs[num:], error_theory[num:], alpha=0.75, linewidth=3, label='Theory')\n",
    "plt.legend(fontsize=16)\n",
    "#plt.show()\n",
    "plt.savefig('BlockPerformance', bbox_inches='tight', transparent=True)"
   ]
  },
  {
   "cell_type": "code",
   "execution_count": null,
   "id": "speaking-personality",
   "metadata": {},
   "outputs": [],
   "source": [
    "save_weights = False\n",
    "\n",
    "if save_weights:\n",
    "    D.save_params('block_decision_making_weights', 'block_decision_making_biases')"
   ]
  },
  {
   "cell_type": "code",
   "execution_count": null,
   "id": "economic-minutes",
   "metadata": {},
   "outputs": [],
   "source": []
  }
 ],
 "metadata": {
  "kernelspec": {
   "display_name": "Python 3",
   "language": "python",
   "name": "python3"
  },
  "language_info": {
   "codemirror_mode": {
    "name": "ipython",
    "version": 3
   },
   "file_extension": ".py",
   "mimetype": "text/x-python",
   "name": "python",
   "nbconvert_exporter": "python",
   "pygments_lexer": "ipython3",
   "version": "3.6.13"
  }
 },
 "nbformat": 4,
 "nbformat_minor": 5
}

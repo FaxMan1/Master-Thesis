{
 "cells": [
  {
   "cell_type": "code",
   "execution_count": 6,
   "id": "brilliant-daisy",
   "metadata": {},
   "outputs": [],
   "source": [
    "import sys\n",
    "sys.path.append('..')\n",
    "from Comms_System import Comms_System, SNR_plot, SNR_plot_vanilla\n",
    "import numpy as np\n",
    "import matplotlib.pyplot as plt\n",
    "#import matplotlib.axes as axes\n",
    "#import scipy.stats\n",
    "#from ML_components import load_params\n",
    "#from Network import NeuralNetwork\n",
    "#from sklearn.preprocessing import StandardScaler\n",
    "#scaler = StandardScaler()"
   ]
  },
  {
   "cell_type": "code",
   "execution_count": null,
   "id": "canadian-psychiatry",
   "metadata": {},
   "outputs": [],
   "source": [
    "print('Yo, welcome to Main CS')"
   ]
  },
  {
   "cell_type": "markdown",
   "id": "demonstrated-science",
   "metadata": {},
   "source": [
    "## Automatic Tests"
   ]
  },
  {
   "cell_type": "code",
   "execution_count": 32,
   "id": "corporate-silence",
   "metadata": {},
   "outputs": [
    {
     "name": "stdout",
     "output_type": "stream",
     "text": [
      "0.7095348738859334\n",
      "E: 0.9999994781112497\n",
      "Ratio: 10.0\n"
     ]
    },
    {
     "data": {
      "text/plain": [
       "(963, 0.0963)"
      ]
     },
     "execution_count": 32,
     "metadata": {},
     "output_type": "execute_result"
    }
   ],
   "source": [
    "#symbol_set = [7, 5, 3, 1, -1, -3, -5, -7] # all symbols that we use\n",
    "symbol_set = [3, 1, -1, 3]\n",
    "num_symbols = 10000\n",
    "symbol_seq = np.random.choice(symbol_set, num_symbols, replace=True)\n",
    "m = 8\n",
    "CS = Comms_System(symbol_set=symbol_set, symbol_seq=symbol_seq, num_samples=m, norm_h=True)\n",
    "SNR = 10\n",
    "sigma = CS.SNRdb_to_sigma(SNR, use_gain=True)\n",
    "print(sigma)\n",
    "\n",
    "#sigma = 0.35 # corresponds roughly to SNR 16 (old sigma=1)\n",
    "#sigma = 0.7 # corresponds roughly to SNR 10 (old sigma=2)\n",
    "#sigma = 1.06 # corresponds roughly to SNR 6.4 (old sigma=3)\n",
    "\n",
    "decisions = CS.transmission(noise_level=sigma, mode='euclidean', norm_signal=False)\n",
    "CS.evaluate(decisions)"
   ]
  },
  {
   "cell_type": "code",
   "execution_count": null,
   "id": "mediterranean-grant",
   "metadata": {},
   "outputs": [],
   "source": [
    "SNRdbs, euclid_error_rates, error_theory = SNR_plot_vanilla(norm_h=False, use_gain=True)\n",
    "# can be True, True\n",
    "# True, False\n",
    "# False, True\n",
    "# but not False, False"
   ]
  },
  {
   "cell_type": "markdown",
   "id": "checked-journalism",
   "metadata": {},
   "source": [
    "### Manual Test"
   ]
  },
  {
   "cell_type": "code",
   "execution_count": null,
   "id": "controlling-afternoon",
   "metadata": {
    "scrolled": false
   },
   "outputs": [],
   "source": [
    "symbol_set = [3, 1, -1, -3] # all symbols that we use\n",
    "num_symbols = 1000\n",
    "\n",
    "symbol_seq = np.random.choice(symbol_set, num_symbols, replace=True)\n",
    "m = 8\n",
    "CS = Comms_System(symbol_set=symbol_set, symbol_seq=symbol_seq, num_samples=m, beta=0.35, norm_h=False)\n",
    "symbol_seq_power = np.mean(np.square(symbol_seq))\n",
    "print(\"Symbol seq power:\", symbol_seq_power)\n",
    "sigma = 1\n",
    "\n",
    "# calibrate\n",
    "gain_factor = np.max(np.convolve(CS.h, CS.h))\n",
    "gain_tx = np.max(CS.h)\n",
    "print(\"gain_factor:\", gain_factor)\n",
    "\n",
    "# upsample symbol sequence and filter it on transmission side\n",
    "upsampled = CS.upsample(v=False)\n",
    "Tx = np.convolve(upsampled, CS.h)\n",
    "\n",
    "#plt.title('Before entering channel')\n",
    "#plt.plot(Tx)\n",
    "#plt.show()\n",
    "\n",
    "# Normalize signal with RMS\n",
    "Tx = Tx / np.sqrt(np.mean(np.square(Tx)))\n",
    "print(\"power of normalized signal:\", np.mean(np.square(Tx)))\n",
    "#Tx = Tx / np.max(Tx)\n",
    "\n",
    "\n",
    "# Transmit the filtered signal (i.e. add noise)\n",
    "Tx = Tx + np.random.normal(0.0, 0, Tx.shape)  # add gaussian noise\n",
    "\n",
    "# Filter on receiver side\n",
    "Rx = np.convolve(Tx, CS.h)#/np.sqrt(gain_factor)\n",
    "print(\"Power of Rx:\", np.mean(np.square(Rx)))\n",
    "\n",
    "# Normalize received signal with RMS * squareroot of symbol seq power?\n",
    "Rx = (Rx / np.sqrt(np.mean(np.square(Rx)))) * np.sqrt(symbol_seq_power)\n",
    "print(\"Power of Normalized Rx:\", np.mean(np.square(Rx)))\n",
    "#plt.title('After Filtering on Receiver')\n",
    "#plt.plot(Rx)\n",
    "#plt.show()\n",
    "\n",
    "# Downsample the signal on the receiver side\n",
    "downsampled = CS.downsample(Rx) #/gain_factor\n",
    "print(\"power of downsampled:\", np.mean(np.square(downsampled)))\n",
    "\n",
    "# Decision-making using new_values\n",
    "decisions = CS.decision_making(downsampled, False)\n",
    "\n",
    "CS.evaluate(decisions)"
   ]
  },
  {
   "cell_type": "markdown",
   "id": "decimal-integer",
   "metadata": {},
   "source": [
    "## Display filter"
   ]
  },
  {
   "cell_type": "code",
   "execution_count": null,
   "id": "earlier-stereo",
   "metadata": {},
   "outputs": [],
   "source": [
    "betas = [0, 0.35, 0.7, 1]\n",
    "plt.figure(figsize=(13,8))\n",
    "plt.title('Root Raised Cosine', fontsize=24)\n",
    "plt.xlabel('Time', fontsize=20)\n",
    "plt.ylabel('Amplitude', fontsize=20)\n",
    "z = np.zeros(len(CS.h))\n",
    "for beta in betas:\n",
    "    CS = Comms_System(symbol_set=symbol_set, symbol_seq=symbol_seq, num_samples=m, beta=beta, norm_h=True)\n",
    "    #f = np.fft.fft(CS.h)\n",
    "    plt.plot(CS.h)\n",
    "plt.grid(True)\n",
    "plt.legend(betas, fontsize=12)\n",
    "plt.show()\n",
    "\n",
    "\n",
    "plt.figure(figsize=(13,8))\n",
    "plt.title('Raised Cosine', fontsize=24)\n",
    "plt.xlabel('Time', fontsize=20)\n",
    "plt.ylabel('Amplitude', fontsize=20)\n",
    "z = np.zeros(len(CS.h))\n",
    "CS = Comms_System(symbol_set=symbol_set, symbol_seq=symbol_seq, num_samples=m, beta=0.35, norm_h=True)\n",
    "plt.stem(np.convolve(CS.h, CS.h))\n",
    "plt.grid(True)\n",
    "plt.show()"
   ]
  },
  {
   "cell_type": "markdown",
   "id": "related-learning",
   "metadata": {},
   "source": [
    "____"
   ]
  },
  {
   "cell_type": "markdown",
   "id": "mathematical-representative",
   "metadata": {},
   "source": [
    "# Evaluation of pretrained Decision Making models"
   ]
  },
  {
   "cell_type": "code",
   "execution_count": null,
   "id": "78a6698e",
   "metadata": {},
   "outputs": [],
   "source": [
    "for i in range(5):\n",
    "    symbol_set = [3, 1, -1, -3] # all symbols that we use\n",
    "    num_symbols = 10000\n",
    "    symbol_seq = np.random.choice(symbol_set, num_symbols, replace=True)\n",
    "    m = 8\n",
    "    CS = Comms_System(symbol_set=symbol_set, symbol_seq=symbol_seq, num_samples=m, norm_h=True)\n",
    "    noise_level = CS.SNR_to_sigma(16)\n",
    "    \n",
    "    # Automatic test\n",
    "    euclid_decisions, NN_decisions, block_decisions, filter_decisions, conv_decisions, _ = CS.test_CS(noise_level=noise_level)\n",
    "    print('Euclidean Distance Error Rate: {}%'.format((CS.evaluate(euclid_decisions)[1]*100).round(2)))\n",
    "    #print('NN Decision Making Error Rate: {}%'.format((CS.evaluate(NN_decisions)[1]*100).round(2)))\n",
    "    #print('NN Block Error Rate: {}%'.format((CS.evaluate(block_decisions)[1]*100).round(2)))\n",
    "    #print('NN Filter Error Rate: {}%'.format((CS.evaluate(filter_decisions)[1]*100).round(2)))\n",
    "    print('Conv Filter Error Rate: {}%'.format((CS.evaluate(conv_decisions)[1]*100).round(2)))\n",
    "\n",
    "    print()"
   ]
  },
  {
   "cell_type": "markdown",
   "id": "young-shelter",
   "metadata": {},
   "source": [
    "### SNR Calculations"
   ]
  },
  {
   "cell_type": "code",
   "execution_count": null,
   "id": "261dfffc",
   "metadata": {},
   "outputs": [],
   "source": [
    "SNRsDB, euclid_er, NN_er, NN_blocks_er, NN_filter_er, conv_er, error_theory = SNR_plot(100000, lowpass=None, \n",
    "                                                                                       conv_model=None, \n",
    "                                                                                       norm_h=True)"
   ]
  },
  {
   "cell_type": "code",
   "execution_count": null,
   "id": "wrapped-handbook",
   "metadata": {},
   "outputs": [],
   "source": [
    "plt.figure(figsize=(18,11))\n",
    "plt.title('Noise Plot with lowpass', fontsize=24)\n",
    "plt.xlabel('SNR (dB)', fontsize=20)\n",
    "plt.ylabel('$P_e$', fontsize=20)\n",
    "num = 0\n",
    "plt.semilogy(SNRsDB[num:], euclid_er[num:], alpha=1)\n",
    "#plt.semilogy(SNRsDB[num:], NN_er[num:], alpha=1)\n",
    "#plt.semilogy(SNRsDB[num:], NN_blocks_er[num:])\n",
    "#plt.semilogy(SNRsDB[num:], NN_filter_er[num:])\n",
    "#plt.semilogy(SNRsDB[num:], conv_er[num:])\n",
    "plt.semilogy(SNRsDB[num:], error_theory[num:])\n",
    "plt.legend(['Euclidean', 'Theory'], fontsize=16)\n",
    "#plt.ylim([1e-3, 1])\n",
    "plt.show()"
   ]
  },
  {
   "cell_type": "code",
   "execution_count": null,
   "id": "warming-dutch",
   "metadata": {},
   "outputs": [],
   "source": [
    "error_rate_for_sigma3 = 1.5 * (1 - scipy.stats.norm.cdf(np.sqrt(gain_factor/(3**2))))\n",
    "error_rate_for_sigma2 = 1.5 * (1 - scipy.stats.norm.cdf(np.sqrt(gain_factor/(2**2))))\n",
    "error_rate_for_sigma1 = 1.5 * (1 - scipy.stats.norm.cdf(np.sqrt(gain_factor/(1**2))))"
   ]
  },
  {
   "cell_type": "markdown",
   "id": "accessible-ideal",
   "metadata": {},
   "source": [
    "# Inspect Decision Boundaries"
   ]
  },
  {
   "cell_type": "code",
   "execution_count": null,
   "id": "allied-electric",
   "metadata": {},
   "outputs": [],
   "source": [
    "weights, biases, sizes = load_params('../Weights/decision_making_weights.npz',\n",
    "                                         '../Weights/decision_making_biases.npz')\n",
    "NN = NeuralNetwork(sizes, startweights=weights, startbiases=biases,\n",
    "                           type='classification', afunc='relu')\n",
    "classes = np.array(symbol_set)"
   ]
  },
  {
   "cell_type": "markdown",
   "id": "thirty-seller",
   "metadata": {},
   "source": [
    "## Plot 1"
   ]
  },
  {
   "cell_type": "code",
   "execution_count": null,
   "id": "muslim-pound",
   "metadata": {},
   "outputs": [],
   "source": [
    "test_seq = np.linspace(-4, 4, 40)\n",
    "test_seq = np.array(test_seq, ndmin=2).T\n",
    "yhat_onehot = NN.feedforward(test_seq)\n",
    "\n",
    "\n",
    "plt.figure(figsize=(13,8))\n",
    "plt.title('Decision Boundaries', fontsize=24)\n",
    "for i in range(yhat_onehot.shape[1]):\n",
    "    plt.plot(test_seq, yhat_onehot[:,i], '-x')\n",
    "#plt.axvline(x=-2, color='black')\n",
    "#plt.axvline(x=0, color='black')\n",
    "#plt.axvline(x=2, color='black')\n",
    "plt.xlabel('Input', fontsize=20)\n",
    "plt.ylabel('Probability of choosing', fontsize=20)\n",
    "plt.legend(symbol_set + ['Euclidean Boundaries'], fontsize=14)\n",
    "plt.show()"
   ]
  },
  {
   "cell_type": "markdown",
   "id": "extraordinary-precipitation",
   "metadata": {},
   "source": [
    "## Plot 2"
   ]
  },
  {
   "cell_type": "code",
   "execution_count": null,
   "id": "integrated-leadership",
   "metadata": {},
   "outputs": [],
   "source": [
    "classes = np.array(symbol_set)\n",
    "test_seq = np.linspace(-4, 4+1, 100)\n",
    "test_seq = np.array(test_seq, ndmin=2).T\n",
    "\n",
    "yhat_idx = NN.feedforward(test_seq).argmax(axis=1)\n",
    "yhat = classes[yhat_idx]\n",
    "euclid_decisions = CS.decision_making(test_seq)\n",
    "\n",
    "\n",
    "num = len(test_seq)\n",
    "plt.figure(figsize=(13,8))\n",
    "plt.xlabel('Sample Value (input)', fontsize=20)\n",
    "plt.ylabel('Decided value (output)', fontsize=20)\n",
    "plt.plot(test_seq[:num], yhat[:num], '-rx', alpha=0.5)\n",
    "plt.plot(test_seq[:num], euclid_decisions[:num], '-bx', alpha=1)\n",
    "plt.legend(['Neural Network', 'Euclidean'], fontsize=14)\n",
    "plt.show()"
   ]
  },
  {
   "cell_type": "markdown",
   "id": "adequate-reserve",
   "metadata": {},
   "source": [
    "##### Want to time something? Use following code stump"
   ]
  },
  {
   "cell_type": "code",
   "execution_count": null,
   "id": "demanding-class",
   "metadata": {},
   "outputs": [],
   "source": [
    "# %%timeit -o -r 5"
   ]
  }
 ],
 "metadata": {
  "kernelspec": {
   "display_name": "Python 3",
   "language": "python",
   "name": "python3"
  },
  "language_info": {
   "codemirror_mode": {
    "name": "ipython",
    "version": 3
   },
   "file_extension": ".py",
   "mimetype": "text/x-python",
   "name": "python",
   "nbconvert_exporter": "python",
   "pygments_lexer": "ipython3",
   "version": "3.6.13"
  }
 },
 "nbformat": 4,
 "nbformat_minor": 5
}

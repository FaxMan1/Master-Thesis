{
 "cells": [
  {
   "cell_type": "code",
   "execution_count": 1,
   "id": "brilliant-daisy",
   "metadata": {},
   "outputs": [
    {
     "name": "stdout",
     "output_type": "stream",
     "text": [
      "Yo, welcome to Main CS\n"
     ]
    }
   ],
   "source": [
    "import sys\n",
    "sys.path.append('..')\n",
    "from Comms_System import Comms_System, SNR_plot\n",
    "import numpy as np\n",
    "import matplotlib.pyplot as plt\n",
    "from ML_components import load_params\n",
    "from Network import NeuralNetwork\n",
    "import scipy\n",
    "from scipy.signal import TransferFunction, bode\n",
    "import torch\n",
    "from filters import butter_lowpass\n",
    "print('Yo, welcome to Main CS')"
   ]
  },
  {
   "cell_type": "markdown",
   "id": "demonstrated-science",
   "metadata": {},
   "source": [
    "## Automatic Tests"
   ]
  },
  {
   "cell_type": "code",
   "execution_count": 2,
   "id": "corporate-silence",
   "metadata": {},
   "outputs": [
    {
     "name": "stdout",
     "output_type": "stream",
     "text": [
      "1.9999143216392348\n",
      "Accuracy: 0.88004\n"
     ]
    }
   ],
   "source": [
    "#symbol_set = [7, 5, 3, 1, -1, -3, -5, -7] # all symbols that we use\n",
    "symbol_set = [3, 1, -1, -3] # all symbols that we use\n",
    "num_symbols = 100000\n",
    "symbol_seq = np.random.choice(symbol_set, num_symbols, replace=True)\n",
    "m = 8\n",
    "CS = Comms_System(symbol_set=symbol_set, symbol_seq=symbol_seq, num_samples=m, beta=0.35)\n",
    "SNR = 10\n",
    "\n",
    "\n",
    "# can never not normalize and not use gain. Either one or both.\n",
    "decisions = CS.transmission(SNRdb=SNR, mode='euclidean', v=True)\n",
    "\n",
    "print(\"Accuracy:\", 1 - CS.evaluate(decisions)[1])"
   ]
  },
  {
   "cell_type": "markdown",
   "id": "checked-journalism",
   "metadata": {},
   "source": [
    "### Manual Test"
   ]
  },
  {
   "cell_type": "code",
   "execution_count": null,
   "id": "electrical-clinton",
   "metadata": {
    "scrolled": false
   },
   "outputs": [],
   "source": [
    "symbol_set = [3, 1, -1, -3] # all symbols that we use\n",
    "num_symbols = 1000\n",
    "\n",
    "symbol_seq = np.random.choice(symbol_set, num_symbols, replace=True)\n",
    "m = 8\n",
    "CS = Comms_System(symbol_set=symbol_set, symbol_seq=symbol_seq, num_samples=m, beta=0.35)\n",
    "sigma = 2\n",
    "\n",
    "# calibrate\n",
    "gain_factor = np.max(np.convolve(CS.h, CS.h))\n",
    "\n",
    "# upsample symbol sequence and filter it on transmission side\n",
    "upsampled = CS.upsample()\n",
    "Tx = np.convolve(upsampled, CS.h)\n",
    "\n",
    "# Transmit the filtered signal (i.e. add noise)\n",
    "Tx = Tx + np.random.normal(0.0, sigma, Tx.shape)  # add gaussian noise\n",
    "\n",
    "# Filter on receiver side\n",
    "Rx = np.convolve(Tx, CS.h)#/np.sqrt(gain_factor)\n",
    "\n",
    "# Downsample the signal on the receiver side\n",
    "downsampled = CS.downsample(Rx)/gain_factor\n",
    "\n",
    "# Decision-making using new_values\n",
    "decisions = CS.decision_making(downsampled, False)\n",
    "\n",
    "1 - CS.evaluate(decisions)[1]"
   ]
  },
  {
   "cell_type": "markdown",
   "id": "heard-netherlands",
   "metadata": {},
   "source": [
    "### Manual Test with normalization of signal instead of gain_factor"
   ]
  },
  {
   "cell_type": "code",
   "execution_count": null,
   "id": "controlling-afternoon",
   "metadata": {
    "scrolled": false
   },
   "outputs": [],
   "source": [
    "symbol_set = [3, 1, -1, -3] # all symbols that we use\n",
    "num_symbols = 1000\n",
    "\n",
    "symbol_seq = np.random.choice(symbol_set, num_symbols, replace=True)\n",
    "m = 8\n",
    "CS = Comms_System(symbol_set=symbol_set, symbol_seq=symbol_seq, num_samples=m, beta=0.35)\n",
    "symbol_seq_power = np.mean(np.square(symbol_seq))\n",
    "SNR = 10\n",
    "sigma = CS.SNRdb_to_sigma(SNR, 8, use_gain=False)\n",
    "print(sigma)\n",
    "\n",
    "# upsample symbol sequence and filter it on transmission side\n",
    "upsampled = CS.upsample(v=False)\n",
    "Tx = np.convolve(upsampled, CS.h)\n",
    "\n",
    "# Normalize signal with RMS\n",
    "Tx = Tx / np.sqrt(np.mean(np.square(Tx)))\n",
    "\n",
    "# Transmit the filtered signal (i.e. add noise)\n",
    "Tx = Tx + np.random.normal(0.0, sigma, Tx.shape)  # add gaussian noise\n",
    "\n",
    "# Filter on receiver side\n",
    "Rx = np.convolve(Tx, CS.h)\n",
    "\n",
    "# Normalize received signal with RMS * squareroot of symbol seq power?\n",
    "Rx = (Rx / np.sqrt(np.mean(np.square(Rx)))) * np.sqrt(symbol_seq_power)\n",
    "\n",
    "# Downsample the signal on the receiver side\n",
    "downsampled = CS.downsample(Rx)\n",
    "\n",
    "# Decision-making using new_values\n",
    "decisions = CS.decision_making(downsampled, False)\n",
    "\n",
    "1 - CS.evaluate(decisions)[1]"
   ]
  },
  {
   "cell_type": "markdown",
   "id": "decimal-integer",
   "metadata": {},
   "source": [
    "## Display filter"
   ]
  },
  {
   "cell_type": "code",
   "execution_count": null,
   "id": "earlier-stereo",
   "metadata": {
    "scrolled": false
   },
   "outputs": [],
   "source": [
    "betas = [0, 0.35, 0.7, 1]\n",
    "plt.figure(figsize=(13,8))\n",
    "plt.title('Root Raised Cosine', fontsize=24)\n",
    "plt.xlabel('Time', fontsize=20)\n",
    "plt.ylabel('Amplitude', fontsize=20)\n",
    "z = np.zeros(len(CS.h))\n",
    "for beta in betas:\n",
    "    CS = Comms_System(symbol_set=symbol_set, symbol_seq=symbol_seq, num_samples=m, beta=beta)\n",
    "    #f = np.fft.fft(CS.h)\n",
    "    plt.plot(CS.h)\n",
    "plt.grid(True)\n",
    "plt.legend(betas, fontsize=12)\n",
    "plt.show()\n",
    "\n",
    "plt.figure(figsize=(13,8))\n",
    "plt.title('Raised Cosine', fontsize=24)\n",
    "plt.xlabel('Time', fontsize=20)\n",
    "plt.ylabel('Amplitude', fontsize=20)\n",
    "z = np.zeros(len(CS.h))\n",
    "CS = Comms_System(symbol_set=symbol_set, symbol_seq=symbol_seq, num_samples=m, beta=0.35)\n",
    "plt.stem(np.convolve(CS.h, CS.h))\n",
    "plt.grid(True)\n",
    "plt.show()\n",
    "\n",
    "\n",
    "plt.figure(figsize=(13,8))\n",
    "plt.title('Root Raised Cosine (Frequency Spectrum)', fontsize=24)\n",
    "plt.xlabel('Frequency', fontsize=20)\n",
    "plt.ylabel('Magnitude (Energy)', fontsize=20)\n",
    "for beta in betas:\n",
    "    CS = Comms_System(symbol_set=symbol_set, symbol_seq=symbol_seq, num_samples=m, beta=beta)\n",
    "    plt.magnitude_spectrum(CS.h, CS.m, sides='twosided')\n",
    "plt.grid(True)\n",
    "plt.legend(betas, fontsize=12)\n",
    "plt.show()\n",
    "\n",
    "plt.figure(figsize=(13,8))\n",
    "plt.title('Raised Cosine (Frequency Spectrum)', fontsize=24)\n",
    "plt.xlabel('Frequency', fontsize=20)\n",
    "plt.ylabel('Magnitude (Energy)', fontsize=20)\n",
    "CS = Comms_System(symbol_set=symbol_set, symbol_seq=symbol_seq, num_samples=m, beta=0.35)\n",
    "plt.magnitude_spectrum(np.convolve(CS.h, CS.h), CS.m, sides='twosided', color='C1')\n",
    "plt.grid(True)\n",
    "plt.show()"
   ]
  },
  {
   "cell_type": "markdown",
   "id": "related-learning",
   "metadata": {},
   "source": [
    "____"
   ]
  },
  {
   "cell_type": "markdown",
   "id": "mathematical-representative",
   "metadata": {},
   "source": [
    "# Evaluation of pretrained Decision Making models"
   ]
  },
  {
   "cell_type": "code",
   "execution_count": null,
   "id": "seventh-intellectual",
   "metadata": {},
   "outputs": [],
   "source": [
    "for i in range(5):\n",
    "\n",
    "    symbol_set = [3, 1, -1, -3] # all symbols that we use\n",
    "    num_symbols = 10000\n",
    "    symbol_seq = np.random.choice(symbol_set, num_symbols, replace=True)\n",
    "    m = 8\n",
    "    CS = Comms_System(symbol_set=symbol_set, symbol_seq=symbol_seq, num_samples=m)\n",
    "    SNRdb = 16    \n",
    "    \n",
    "    euclid_decs, NN_decs, block_decs, network_decs, joint_decs = CS.transmit_all(SNRdb, joint_cutoff=2)\n",
    "    \n",
    "\n",
    "    print('Euclidean Error Rate: {}%'.format((CS.evaluate(euclid_decs)[1]*100).round(2)))\n",
    "    print('NN Error Rate: {}%'.format((CS.evaluate(euclid_decs)[1]*100).round(2)))\n",
    "    print('Block Error Rate: {}%'.format((CS.evaluate(block_decs)[1]*100).round(2)))\n",
    "    print('Receiver Network Error Rate: {}%'.format((CS.evaluate(network_decs)[1]*100).round(2)))\n",
    "    print('Joint Sender-Receiver Network Error Rate: {}%'.format((CS.evaluate(joint_decs)[1]*100).round(2)))\n",
    "    print()"
   ]
  },
  {
   "cell_type": "markdown",
   "id": "young-shelter",
   "metadata": {},
   "source": [
    "### SNR Calculations"
   ]
  },
  {
   "cell_type": "code",
   "execution_count": null,
   "id": "becoming-party",
   "metadata": {},
   "outputs": [],
   "source": [
    "SNRdbs, euclid_error_rates, network_error_rates, NN_error_rates, block_error_rates, \\\n",
    "joint_error_rates, error_theory = SNR_plot(num_symbols=1000,\n",
    "                                           rx_cutoff=None)"
   ]
  },
  {
   "cell_type": "code",
   "execution_count": null,
   "id": "superb-price",
   "metadata": {},
   "outputs": [],
   "source": [
    "plt.figure(figsize=(16,10))\n",
    "plt.title('Joint Networks Noise Plot with cutoff  ' r'$\\frac{1}{2}$', fontsize=24)\n",
    "plt.xlabel('SNR (dB)', fontsize=20)\n",
    "plt.ylabel('$P_e$', fontsize=20)\n",
    "num = 0\n",
    "plt.semilogy(SNRdbs[num:], euclid_error_rates[num:], alpha=1, linewidth=3)\n",
    "#plt.semilogy(SNRdbs[num:], NN_error_rates[num:])\n",
    "#plt.semilogy(SNRdbs[num:], block_error_rates[num:])\n",
    "#plt.semilogy(SNRdbs[num:], network_error_rates[num:], alpha=1, linewidth=3)\n",
    "plt.semilogy(SNRdbs[num:], joint_error_rates[num:], alpha=1, linewidth=3)\n",
    "plt.semilogy(SNRdbs[num:], error_theory[num:], alpha=0.5, linewidth=3)\n",
    "legend1 = ['Euclidean','Joint Networks', 'Theory']\n",
    "legend2 = ['Euclidean', 'Receiver Network', 'Joint Network', 'Theory']\n",
    "legend3 = ['Euclidean', 'NN Dec Maker', 'Block', 'Receiver Network', 'Joint Network', 'Theory']\n",
    "plt.legend(legend1, fontsize=16)\n",
    "plt.show()"
   ]
  },
  {
   "cell_type": "code",
   "execution_count": null,
   "id": "warming-dutch",
   "metadata": {},
   "outputs": [],
   "source": [
    "er_for_sigma3 = 1.5 * (1 - scipy.stats.norm.cdf(np.sqrt(8/(3**2))))\n",
    "er_for_sigma2 = 1.5 * (1 - scipy.stats.norm.cdf(np.sqrt(8/(2**2))))\n",
    "er_for_sigma1 = 1.5 * (1 - scipy.stats.norm.cdf(np.sqrt(8/(1**2))))\n",
    "print(1-er_for_sigma1, 1-er_for_sigma2, 1-er_for_sigma3)"
   ]
  },
  {
   "cell_type": "markdown",
   "id": "accessible-ideal",
   "metadata": {},
   "source": [
    "# Inspect Decision Boundaries for NN Decision Making"
   ]
  },
  {
   "cell_type": "code",
   "execution_count": null,
   "id": "allied-electric",
   "metadata": {},
   "outputs": [],
   "source": [
    "weights, biases, sizes = load_params('../Weights/decision_making_weights.npz',\n",
    "                                         '../Weights/decision_making_biases.npz')\n",
    "NN = NeuralNetwork(sizes, startweights=weights, startbiases=biases,\n",
    "                           type='classification', afunc='relu')\n",
    "classes = np.array(symbol_set)"
   ]
  },
  {
   "cell_type": "markdown",
   "id": "thirty-seller",
   "metadata": {},
   "source": [
    "## Plot 1"
   ]
  },
  {
   "cell_type": "code",
   "execution_count": null,
   "id": "muslim-pound",
   "metadata": {},
   "outputs": [],
   "source": [
    "test_seq = np.linspace(-4, 4, 40)\n",
    "test_seq = np.array(test_seq, ndmin=2).T\n",
    "yhat_onehot = NN.feedforward(test_seq)\n",
    "\n",
    "\n",
    "plt.figure(figsize=(13,8))\n",
    "plt.title('Decision Boundaries', fontsize=24)\n",
    "for i in range(yhat_onehot.shape[1]):\n",
    "    plt.plot(test_seq, yhat_onehot[:,i], '-x')\n",
    "#plt.axvline(x=-2, color='black')\n",
    "#plt.axvline(x=0, color='black')\n",
    "#plt.axvline(x=2, color='black')\n",
    "plt.xlabel('Input', fontsize=20)\n",
    "plt.ylabel('Probability of choosing', fontsize=20)\n",
    "plt.legend(symbol_set + ['Euclidean Boundaries'], fontsize=14)\n",
    "plt.show()"
   ]
  },
  {
   "cell_type": "markdown",
   "id": "extraordinary-precipitation",
   "metadata": {},
   "source": [
    "## Plot 2"
   ]
  },
  {
   "cell_type": "code",
   "execution_count": null,
   "id": "integrated-leadership",
   "metadata": {},
   "outputs": [],
   "source": [
    "classes = np.array(symbol_set)\n",
    "test_seq = np.linspace(-4, 4+1, 100)\n",
    "test_seq = np.array(test_seq, ndmin=2).T\n",
    "\n",
    "yhat_idx = NN.feedforward(test_seq).argmax(axis=1)\n",
    "yhat = classes[yhat_idx]\n",
    "euclid_decisions = CS.decision_making(test_seq)\n",
    "\n",
    "\n",
    "num = len(test_seq)\n",
    "plt.figure(figsize=(13,8))\n",
    "plt.xlabel('Sample Value (input)', fontsize=20)\n",
    "plt.ylabel('Decided value (output)', fontsize=20)\n",
    "plt.plot(test_seq[:num], yhat[:num], '-rx', alpha=0.5)\n",
    "plt.plot(test_seq[:num], euclid_decisions[:num], '-bx', alpha=1)\n",
    "plt.legend(['Neural Network', 'Euclidean'], fontsize=14)\n",
    "plt.show()"
   ]
  },
  {
   "cell_type": "markdown",
   "id": "varied-intent",
   "metadata": {},
   "source": [
    "# Plot Lowpass Filters"
   ]
  },
  {
   "cell_type": "code",
   "execution_count": null,
   "id": "emotional-benchmark",
   "metadata": {},
   "outputs": [],
   "source": [
    "# Butterworth\n",
    "\n",
    "cutoff = 0.675\n",
    "b_10, a_10 = butter_lowpass(cutoff_freq=cutoff, sampling_rate=CS.m, order=10)\n",
    "b_4, a_4 = butter_lowpass(cutoff_freq=cutoff, sampling_rate=CS.m, order=4)\n",
    "w_range = np.linspace(-4, 4, 10000)\n",
    "w_10, m_10, _ = TransferFunction(b_10, a_10/7.3, dt=CS.m).bode(n=10000, w=w_range)\n",
    "#w_10, m_10, _ = TransferFunction(b_10, a_10, dt=CS.m).bode(n=10000, w=w_range)\n",
    "w_4, m_4, _ = TransferFunction(b_4, a_4, dt=CS.m).bode(n=10000, w=w_range)\n",
    "\n",
    "\n",
    "# Raised Cosine\n",
    "h = CS.h / max(CS.h)\n",
    "raised_cosine = np.convolve(CS.h, CS.h)\n",
    "raised_cosine /= max(raised_cosine)\n",
    "w_raised, m_raised, _ = TransferFunction(raised_cosine, 1, dt=CS.m).bode(n=10000, w=w_range) #65\n",
    "\n",
    "# Root-Raised Cosine\n",
    "w_rrc, m_rrc, _ = TransferFunction(h, 1, dt=CS.m).bode(n=10000, w=w_range) # 8\n",
    "\n",
    "# Ideal Lowpass Filter\n",
    "w10 = w_10*10\n",
    "idx1 = np.where(w10.round(3) == -cutoff)[0][0]\n",
    "idx2 = np.where(w10.round(3) == cutoff)[0][0]\n",
    "ideal = np.ones(len(w10)) * -70\n",
    "ideal[idx1: idx2+1] = 17.34 # 0\n",
    "\n",
    "plt.figure(figsize=(13,8))\n",
    "plt.plot(w10, ideal, linewidth=3, color='C2', label='Ideal Lowpass Filter') # ideal\n",
    "#plt.plot(w_4*10, m_4, linewidth=3, color='C4', alpha=0.5, label='Butterworth (order=4)') # butterworth order 4\n",
    "plt.plot(w_10*10, m_10, linewidth=3, color='C0', label='Butterworth (order=10)') # butterworth order 10\n",
    "plt.plot(w_rrc*10, m_rrc, linewidth=3, color='C1', label='RRC (rolloff=0.35)') # rrc\n",
    "plt.plot(w_raised*10, m_raised, linewidth=3, color='C5', label='Raised Cosine (rolloff=0.35)')\n",
    "plt.title('Filters Frequency Response (cutoff = '+str(cutoff)+'Hz)', fontsize=20)\n",
    "plt.xlabel('Frequency [Hz]', fontsize=16)\n",
    "plt.ylabel('Magnitude [dB]', fontsize=16)\n",
    "plt.legend(fontsize=12, loc='upper right')\n",
    "plt.grid(True)\n",
    "plt.ylim([-5, 20])\n",
    "plt.xlim([-2, 2])\n",
    "plt.show()"
   ]
  },
  {
   "cell_type": "markdown",
   "id": "adequate-reserve",
   "metadata": {},
   "source": [
    "##### Want to time something? Use following code stump"
   ]
  },
  {
   "cell_type": "code",
   "execution_count": null,
   "id": "demanding-class",
   "metadata": {},
   "outputs": [],
   "source": [
    "# %%timeit -o -r 5"
   ]
  }
 ],
 "metadata": {
  "kernelspec": {
   "display_name": "Python 3",
   "language": "python",
   "name": "python3"
  },
  "language_info": {
   "codemirror_mode": {
    "name": "ipython",
    "version": 3
   },
   "file_extension": ".py",
   "mimetype": "text/x-python",
   "name": "python",
   "nbconvert_exporter": "python",
   "pygments_lexer": "ipython3",
   "version": "3.6.13"
  }
 },
 "nbformat": 4,
 "nbformat_minor": 5
}

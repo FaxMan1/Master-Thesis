{
 "cells": [
  {
   "cell_type": "code",
   "execution_count": null,
   "id": "brilliant-daisy",
   "metadata": {},
   "outputs": [],
   "source": [
    "import sys\n",
    "sys.path.append('..')\n",
    "from Comms_System import Comms_System, SNR_plot\n",
    "import numpy as np\n",
    "import matplotlib.pyplot as plt\n",
    "from ML_components import load_params\n",
    "from Network import NeuralNetwork\n",
    "import scipy\n",
    "from scipy.signal import TransferFunction, bode, filtfilt, lfilter\n",
    "import torch\n",
    "from filters import butter_lowpass\n",
    "from ML_components import network_receiver\n",
    "from commpy import rcosfilter, rrcosfilter\n",
    "print('Yo, welcome to Main CS')"
   ]
  },
  {
   "cell_type": "markdown",
   "id": "demonstrated-science",
   "metadata": {},
   "source": [
    "## Automatic Tests"
   ]
  },
  {
   "cell_type": "code",
   "execution_count": null,
   "id": "corporate-silence",
   "metadata": {},
   "outputs": [],
   "source": [
    "#symbol_set = [7, 5, 3, 1, -1, -3, -5, -7] # all symbols that we use\n",
    "symbol_set = [3, 1, -1, -3] # all symbols that we use\n",
    "num_symbols = 10000\n",
    "symbol_seq = np.random.choice(symbol_set, num_symbols, replace=True)\n",
    "m = 8\n",
    "CS = Comms_System(symbol_set=symbol_set, symbol_seq=symbol_seq, num_samples=m, beta=0.35)\n",
    "SNR = 10\n",
    "\n",
    "# can never not normalize and not use gain. Either one or both.\n",
    "decisions = CS.transmission(SNRdb=SNR, mode='euclidean', v=True)\n",
    "\n",
    "print(\"Accuracy:\", 1 - CS.evaluate(decisions)[1])"
   ]
  },
  {
   "cell_type": "markdown",
   "id": "chinese-grant",
   "metadata": {},
   "source": [
    "### This is interesting. It clearly shows that the lowpass filter removes a lot of bandwidth at cutoff=0.5 - so much so that it doesn't work. At 0.55 it removes some, but it still works. Which actually proves that we've band-limited the signal even more, but still have same performance, which is a significant discovery. Same performance, lower bandwidth. At 0.675, there is no difference."
   ]
  },
  {
   "cell_type": "code",
   "execution_count": null,
   "id": "greater-record",
   "metadata": {},
   "outputs": [],
   "source": [
    "symbol_set = [3, 1, -1, -3] # all symbols that we use\n",
    "num_symbols = 10000\n",
    "symbol_seq = np.random.choice(symbol_set, num_symbols, replace=True)\n",
    "m = 8\n",
    "CS = Comms_System(symbol_set=symbol_set, symbol_seq=symbol_seq, num_samples=m, beta=0.35)\n",
    "SNR = 10\n",
    "\n",
    "up = CS.upsample()\n",
    "Tx = np.convolve(up, CS.h)\n",
    "\n",
    "plt.figure(figsize=(13,8))\n",
    "plt.magnitude_spectrum(Tx, sides='twosided', scale='dB', Fs=8, color='C1')\n",
    "plt.ylim([-40, -20])\n",
    "plt.grid(True)\n",
    "\n",
    "b, a = butter_lowpass(0.55, CS.m, 10)\n",
    "Tx = lfilter(b, a, Tx)\n",
    "\n",
    "plt.magnitude_spectrum(Tx, sides='twosided', scale='dB', Fs=8, color='C2')\n",
    "plt.ylim([-40, -20])\n",
    "plt.grid(True)\n",
    "plt.show()\n",
    "\n",
    "#Tx = Tx + np.random.normal(0.0, sigma, Tx.shape)  # add gaussian noise\n"
   ]
  },
  {
   "cell_type": "markdown",
   "id": "checked-journalism",
   "metadata": {},
   "source": [
    "### Manual Test"
   ]
  },
  {
   "cell_type": "code",
   "execution_count": null,
   "id": "electrical-clinton",
   "metadata": {
    "scrolled": false
   },
   "outputs": [],
   "source": [
    "symbol_set = [3, 1, -1, -3] # all symbols that we use\n",
    "num_symbols = 10000\n",
    "\n",
    "symbol_seq = np.random.choice(symbol_set, num_symbols, replace=True)\n",
    "m = 8\n",
    "CS = Comms_System(symbol_set=symbol_set, symbol_seq=symbol_seq, num_samples=m, beta=0.35)\n",
    "sigma = 2\n",
    "\n",
    "# calibrate\n",
    "gain_factor = np.max(np.convolve(CS.h, CS.h))\n",
    "\n",
    "# upsample symbol sequence and filter it on transmission side\n",
    "upsampled = CS.upsample()\n",
    "Tx = np.convolve(upsampled, CS.h)\n",
    "\n",
    "# Transmit the filtered signal (i.e. add noise)\n",
    "Tx = Tx + np.random.normal(0.0, sigma, Tx.shape)  # add gaussian noise\n",
    "\n",
    "# Filter on receiver side\n",
    "Rx = np.convolve(Tx, CS.h)\n",
    "\n",
    "# Filter on receiver side\n",
    "Rx = np.convolve(Tx, CS.h)#/np.sqrt(gain_factor)\n",
    "\n",
    "# Downsample the signal on the receiver side\n",
    "downsampled = CS.downsample(Rx)/gain_factor\n",
    "\n",
    "# Decision-making using new_values\n",
    "decisions = CS.decision_making(downsampled, False)\n",
    "\n",
    "print(1 - CS.evaluate(decisions)[1])"
   ]
  },
  {
   "cell_type": "markdown",
   "id": "heard-netherlands",
   "metadata": {},
   "source": [
    "### Manual Test with normalization of signal instead of gain_factor"
   ]
  },
  {
   "cell_type": "code",
   "execution_count": null,
   "id": "controlling-afternoon",
   "metadata": {
    "scrolled": false
   },
   "outputs": [],
   "source": [
    "symbol_set = [3, 1, -1, -3] # all symbols that we use\n",
    "num_symbols = 10\n",
    "\n",
    "symbol_seq = np.random.choice(symbol_set, num_symbols, replace=True)\n",
    "m = 8\n",
    "CS = Comms_System(symbol_set=symbol_set, symbol_seq=symbol_seq, num_samples=m, beta=0.35)\n",
    "symbol_seq_power = np.mean(np.square(symbol_seq))\n",
    "SNR = 10\n",
    "sigma = CS.SNRdb_to_sigma(SNR, 8, use_gain=False)\n",
    "print('sigma:', sigma)\n",
    "\n",
    "# upsample symbol sequence and filter it on transmission side\n",
    "upsampled = CS.upsample(v=False)\n",
    "Tx = np.convolve(upsampled, CS.h)\n",
    "\n",
    "# Normalize signal with RMS\n",
    "Tx = Tx / np.sqrt(np.mean(np.square(Tx)))\n",
    "\n",
    "# Transmit the filtered signal (i.e. add noise)\n",
    "Tx = Tx + np.random.normal(0.0, sigma, Tx.shape)  # add gaussian noise\n",
    "plt.title('received')\n",
    "plt.plot(Tx)\n",
    "plt.show()\n",
    "network_decisions = network_receiver(Tx, classes=symbol_set)\n",
    "ml_filtered = np.convolve(lf_DE, Tx) # change if you use bad\n",
    "plt.title('filtered with learned filter')\n",
    "plt.plot(ml_filtered)\n",
    "plt.show()\n",
    "\n",
    "# Filter on receiver side\n",
    "Rx = np.convolve(Tx, CS.h)\n",
    "plt.title('filtered with RRC')\n",
    "plt.plot(Rx)\n",
    "plt.show()\n",
    "\n",
    "# Normalize received signal with RMS * squareroot of symbol seq power?\n",
    "Rx = (Rx / np.sqrt(np.mean(np.square(Rx)))) * np.sqrt(symbol_seq_power)\n",
    "\n",
    "# Downsample the signal on the receiver side\n",
    "downsampled = CS.downsample(Rx)\n",
    "\n",
    "# Decision-making using new_values\n",
    "decisions = CS.decision_making(downsampled, False)\n",
    "\n",
    "print(1 - CS.evaluate(decisions)[1])\n",
    "print(1 - CS.evaluate(network_decisions)[1])"
   ]
  },
  {
   "cell_type": "markdown",
   "id": "decimal-integer",
   "metadata": {},
   "source": [
    "## Display filters in various ways"
   ]
  },
  {
   "cell_type": "code",
   "execution_count": null,
   "id": "earlier-stereo",
   "metadata": {
    "scrolled": false
   },
   "outputs": [],
   "source": [
    "m = 8\n",
    "betas = [0, 0.35, 0.7, 1]\n",
    "plt.figure(figsize=(13,8))\n",
    "plt.title('Root Raised Cosine', fontsize=24)\n",
    "plt.xlabel('Time', fontsize=20)\n",
    "plt.ylabel('Amplitude', fontsize=20)\n",
    "z = np.zeros(len(CS.h))\n",
    "for beta in betas:\n",
    "    CS = Comms_System(symbol_set=symbol_set, symbol_seq=symbol_seq, num_samples=m, beta=beta)\n",
    "    #h = rrcosfilter(N=8 * m, alpha=beta, Ts=1, Fs=m)[1]\n",
    "    #f = np.fft.fft(CS.h)\n",
    "    plt.plot(CS.h)\n",
    "    \n",
    "x_axis = [x for x in range(len(CS.h)) if x % 8 == 0]\n",
    "x_labels = [str(i)+' T' for i,x in enumerate(x_axis)]\n",
    "plt.xticks(ticks=x_axis, labels=x_labels)\n",
    "plt.grid(True)\n",
    "plt.legend(betas, fontsize=12)\n",
    "plt.show()\n",
    "\n",
    "\n",
    "plt.figure(figsize=(13,8))\n",
    "plt.title('Raised Cosine', fontsize=24)\n",
    "plt.xlabel('Time', fontsize=20)\n",
    "plt.ylabel('Amplitude', fontsize=20)\n",
    "CS = Comms_System(symbol_set=symbol_set, symbol_seq=symbol_seq, num_samples=m, beta=0.35)\n",
    "raised = np.convolve(CS.h, CS.h)\n",
    "#raised = rcosfilter(N=127, alpha=0.35, Ts=1, Fs=m)[1]\n",
    "plt.stem(raised)\n",
    "x_axis = [x for x in range(len(raised)) if x % 8 == 0]\n",
    "x_labels = [str(i)+' T' for i,x in enumerate(x_axis)]\n",
    "plt.xticks(ticks=x_axis, labels=x_labels)\n",
    "plt.grid(True)\n",
    "plt.show()\n",
    "\n",
    "\n",
    "m = 8\n",
    "betas = [0, 0.35, 0.7, 1]\n",
    "plt.figure(figsize=(13,8))\n",
    "plt.title('Raised Cosine', fontsize=24)\n",
    "plt.xlabel('Time', fontsize=20)\n",
    "plt.ylabel('Amplitude', fontsize=20)\n",
    "z = np.zeros(len(CS.h))\n",
    "for beta in betas:\n",
    "    raised = rcosfilter(N=8 * m, alpha=beta, Ts=1, Fs=m)[1]\n",
    "    #f = np.fft.fft(CS.h)\n",
    "    plt.plot(raised)\n",
    "    \n",
    "x_axis = [x for x in range(len(raised)) if x % 8 == 0]\n",
    "x_labels = [str(i)+' T' for i,x in enumerate(x_axis)]\n",
    "plt.xticks(ticks=x_axis, labels=x_labels)\n",
    "plt.grid(True)\n",
    "plt.legend(betas, fontsize=12)\n",
    "plt.show()\n",
    "\n",
    "\n",
    "plt.figure(figsize=(13,8))\n",
    "plt.title('Root Raised Cosine (Frequency Spectrum)', fontsize=24)\n",
    "plt.xlabel('Frequency', fontsize=20)\n",
    "plt.ylabel('Magnitude (Energy)', fontsize=20)\n",
    "for beta in betas:\n",
    "    CS = Comms_System(symbol_set=symbol_set, symbol_seq=symbol_seq, num_samples=m, beta=beta)\n",
    "    plt.magnitude_spectrum(CS.h, CS.m, sides='twosided')\n",
    "plt.grid(True)\n",
    "plt.legend(betas, fontsize=12)\n",
    "plt.show()\n",
    "\n",
    "plt.figure(figsize=(13,8))\n",
    "plt.title('Raised Cosine (Frequency Spectrum)', fontsize=24)\n",
    "plt.xlabel('Frequency', fontsize=20)\n",
    "plt.ylabel('Magnitude (Energy)', fontsize=20)\n",
    "#CS = Comms_System(symbol_set=symbol_set, symbol_seq=symbol_seq, num_samples=m, beta=0.35)\n",
    "#raised = np.convolve(CS.h, CS.h)\n",
    "#plt.magnitude_spectrum(raised, CS.m, sides='twosided', color='C1')\n",
    "raised = rcosfilter(N=8 * m, alpha=0.35, Ts=1, Fs=m)[1]\n",
    "plt.magnitude_spectrum(raised, CS.m, sides='twosided', color='C1')\n",
    "plt.grid(True)\n",
    "plt.show()"
   ]
  },
  {
   "cell_type": "code",
   "execution_count": null,
   "id": "average-tactics",
   "metadata": {},
   "outputs": [],
   "source": [
    "symbol_seq = np.random.choice(symbol_set, 1000, replace=True)\n",
    "CS = Comms_System(symbol_set=symbol_set, symbol_seq=symbol_seq, num_samples=8, beta=0.35)\n",
    "CS2 = Comms_System(symbol_set=symbol_set, symbol_seq=symbol_seq, num_samples=8, beta=0.7)\n",
    "raised = np.convolve(CS.h, CS2.h)\n",
    "raised2 = np.convolve(CS.h, CS.h)\n",
    "plt.figure(figsize=(13,8))\n",
    "plt.plot(raised, label='different')\n",
    "plt.plot(raised2, label='same')\n",
    "plt.legend(fontsize=14)\n",
    "plt.show()"
   ]
  },
  {
   "cell_type": "code",
   "execution_count": null,
   "id": "fuzzy-investor",
   "metadata": {},
   "outputs": [],
   "source": [
    "# NOT WORKING RIGHT. USE RCOSFILTER INSTEAD\n",
    "\n",
    "m = 8\n",
    "betas = [0, 0.35, 0.7, 1]\n",
    "plt.figure(figsize=(13,8))\n",
    "plt.title('Raised Cosine by double convolution of RRC', fontsize=24)\n",
    "plt.xlabel('Time', fontsize=20)\n",
    "plt.ylabel('Amplitude', fontsize=20)\n",
    "z = np.zeros(len(CS.h))\n",
    "for beta in betas:\n",
    "    #CS = Comms_System(symbol_set=symbol_set, symbol_seq=symbol_seq, num_samples=m, beta=beta)\n",
    "    h = rrcosfilter(N=8 * m, alpha=beta, Ts=1, Fs=m)[1]\n",
    "    raised = np.convolve(h, h)\n",
    "    #f = np.fft.fft(CS.h)\n",
    "    plt.plot(raised)\n",
    "plt.grid(True)\n",
    "plt.legend(betas, fontsize=12)\n",
    "plt.show()"
   ]
  },
  {
   "cell_type": "markdown",
   "id": "related-learning",
   "metadata": {},
   "source": [
    "____"
   ]
  },
  {
   "cell_type": "markdown",
   "id": "mathematical-representative",
   "metadata": {},
   "source": [
    "# Evaluation of pretrained Decision Making models"
   ]
  },
  {
   "cell_type": "code",
   "execution_count": null,
   "id": "seventh-intellectual",
   "metadata": {},
   "outputs": [],
   "source": [
    "for i in range(5):\n",
    "\n",
    "    symbol_set = [3, 1, -1, -3] # all symbols that we use\n",
    "    num_symbols = 10000\n",
    "    symbol_seq = np.random.choice(symbol_set, num_symbols, replace=True)\n",
    "    m = 8\n",
    "    CS = Comms_System(symbol_set=symbol_set, symbol_seq=symbol_seq, num_samples=m)\n",
    "    SNRdb = 16\n",
    "    \n",
    "    euclid_decs, NN_decs, block_decs, network_decs, joint_decs = CS.transmit_all(SNRdb, joint_cutoff=0.675)\n",
    "    \n",
    "\n",
    "    print('Euclidean Error Rate: {}%'.format((CS.evaluate(euclid_decs)[1]*100).round(2)))\n",
    "    print('NN Error Rate: {}%'.format((CS.evaluate(euclid_decs)[1]*100).round(2)))\n",
    "    print('Block Error Rate: {}%'.format((CS.evaluate(block_decs)[1]*100).round(2)))\n",
    "    print('Receiver Network Error Rate: {}%'.format((CS.evaluate(network_decs)[1]*100).round(2)))\n",
    "    print('Joint Sender-Receiver Network Error Rate: {}%'.format((CS.evaluate(joint_decs)[1]*100).round(2)))\n",
    "    print()"
   ]
  },
  {
   "cell_type": "markdown",
   "id": "young-shelter",
   "metadata": {},
   "source": [
    "### SNR Calculations"
   ]
  },
  {
   "cell_type": "code",
   "execution_count": null,
   "id": "greatest-underwear",
   "metadata": {},
   "outputs": [],
   "source": [
    "RX_net_BP = torch.load('../Conv1DModels/RX_Network2')\n",
    "RX_net_DE = torch.load('../Conv1DModels/Best_DE_Model2')"
   ]
  },
  {
   "cell_type": "code",
   "execution_count": null,
   "id": "becoming-party",
   "metadata": {},
   "outputs": [],
   "source": [
    "SNRdbs, euclid_error_rates, network_error_rates_BP, NN_error_rates, block_error_rates, \\\n",
    "joint_error_rates, error_theory = SNR_plot(num_symbols=30000, rx_model=RX_net_BP, range=[-30, 0])"
   ]
  },
  {
   "cell_type": "code",
   "execution_count": null,
   "id": "vital-category",
   "metadata": {},
   "outputs": [],
   "source": [
    "lf = list(RX_net_DE.parameters())[0].detach()[0][0]\n",
    "plt.plot(lf)"
   ]
  },
  {
   "cell_type": "code",
   "execution_count": null,
   "id": "superb-price",
   "metadata": {},
   "outputs": [],
   "source": [
    "plt.figure(figsize=(13,8))\n",
    "#plt.title('Joint Networks Noise Plot with cutoff  ' r'$\\frac{1}{2}$', fontsize=24)\n",
    "#plt.title('Noise Plot')\n",
    "plt.xlabel('SNR (dB)', fontsize=20)\n",
    "plt.ylabel('$P_e$', fontsize=24)\n",
    "num = 0\n",
    "plt.semilogy(SNRdbs[num:], euclid_error_rates[num:], alpha=1, linewidth=3, label='Euclidean')\n",
    "#plt.semilogy(SNRdbs[num:], NN_error_rates[num:], label='NN Dec Maker')\n",
    "#plt.semilogy(SNRdbs[num:], block_error_rates[num:], label='Block')\n",
    "plt.semilogy(SNRdbs[num:], network_error_rates_BP[num:], alpha=1, linewidth=3, label='Receiver Network (BP)')\n",
    "plt.semilogy(SNRdbs[num:], network_error_rates_DE[num:], alpha=0.75, linewidth=3, label='Receiver Network (DE)')\n",
    "#plt.semilogy(SNRdbs[num:], joint_error_rates[num:], alpha=1, linewidth=3, label='Joint Networks')\n",
    "#plt.semilogy(SNRdbs[num:], error_theory[num:], alpha=0.75, linewidth=3, label='Theory')\n",
    "plt.legend(fontsize=16)\n",
    "plt.show()\n",
    "#plt.savefig('RX_BP_and_DE2', bbox_inches='tight', transparent=True)"
   ]
  },
  {
   "cell_type": "code",
   "execution_count": null,
   "id": "warming-dutch",
   "metadata": {},
   "outputs": [],
   "source": [
    "er_for_sigma3 = 1.5 * (1 - scipy.stats.norm.cdf(np.sqrt(8/(3**2))))\n",
    "er_for_sigma2 = 1.5 * (1 - scipy.stats.norm.cdf(np.sqrt(8/(2**2))))\n",
    "er_for_sigma1 = 1.5 * (1 - scipy.stats.norm.cdf(np.sqrt(8/(1**2))))\n",
    "print(1-er_for_sigma1, 1-er_for_sigma2, 1-er_for_sigma3)"
   ]
  },
  {
   "cell_type": "markdown",
   "id": "accessible-ideal",
   "metadata": {},
   "source": [
    "# Inspect Decision Boundaries for NN Decision Making"
   ]
  },
  {
   "cell_type": "markdown",
   "id": "thirty-seller",
   "metadata": {},
   "source": [
    "## Plot 1"
   ]
  },
  {
   "cell_type": "code",
   "execution_count": null,
   "id": "muslim-pound",
   "metadata": {},
   "outputs": [],
   "source": [
    "weights, biases, sizes = load_params('../Weights/decision_making_weights.npz',\n",
    "                                         '../Weights/decision_making_biases.npz')\n",
    "NN = NeuralNetwork(sizes, startweights=weights, startbiases=biases,\n",
    "                           type='classification', afunc='relu')\n",
    "classes = np.array(symbol_set)\n",
    "\n",
    "test_seq = np.linspace(-4, 4, 40)\n",
    "test_seq = np.array(test_seq, ndmin=2).T\n",
    "yhat_onehot = NN.feedforward(test_seq)\n",
    "print(yhat_onehot.shape)\n",
    "\n",
    "\n",
    "plt.figure(figsize=(13,8))\n",
    "#plt.title('Decision Boundaries', fontsize=24)\n",
    "for i in range(yhat_onehot.shape[1]):\n",
    "    plt.plot(test_seq, yhat_onehot[:,i], '-x')\n",
    "#plt.axvline(x=-2, color='black')\n",
    "#plt.axvline(x=0, color='black')\n",
    "#plt.axvline(x=2, color='black')\n",
    "plt.xlabel('Input', fontsize=20)\n",
    "plt.ylabel('Probability of choosing', fontsize=20)\n",
    "plt.legend(symbol_set + ['Euclidean Boundaries'], fontsize=14)\n",
    "plt.show()\n",
    "#plt.savefig('Boundaries', bbox_inches='tight', transparent=True)"
   ]
  },
  {
   "cell_type": "markdown",
   "id": "extraordinary-precipitation",
   "metadata": {},
   "source": [
    "## Plot 2"
   ]
  },
  {
   "cell_type": "code",
   "execution_count": null,
   "id": "integrated-leadership",
   "metadata": {},
   "outputs": [],
   "source": [
    "classes = np.array(symbol_set)\n",
    "test_seq = np.linspace(-4, 4+1, 100)\n",
    "test_seq = np.array(test_seq, ndmin=2).T\n",
    "\n",
    "yhat_idx = NN.feedforward(test_seq).argmax(axis=1)\n",
    "yhat = classes[yhat_idx]\n",
    "euclid_decisions = CS.decision_making(test_seq)\n",
    "\n",
    "\n",
    "num = len(test_seq)\n",
    "plt.figure(figsize=(13,8))\n",
    "plt.xlabel('Sample Value (input)', fontsize=20)\n",
    "plt.ylabel('Decided value (output)', fontsize=20)\n",
    "plt.plot(test_seq[:num], euclid_decisions[:num], '-bx', alpha=1, label='Euclidean')\n",
    "plt.plot(test_seq[:num], yhat[:num], '-rx', alpha=1, label='Neural Network')\n",
    "plt.legend(fontsize=14)\n",
    "plt.show()"
   ]
  },
  {
   "cell_type": "markdown",
   "id": "prime-manufacturer",
   "metadata": {},
   "source": [
    "# Inspect Decision Boundaries for RX_Network (How should this be interpreted??)"
   ]
  },
  {
   "cell_type": "code",
   "execution_count": null,
   "id": "popular-excitement",
   "metadata": {
    "scrolled": false
   },
   "outputs": [],
   "source": [
    "test_seq = np.random.choice(symbol_set, 10000, replace=True)\n",
    "CS = Comms_System(symbol_set=symbol_set, symbol_seq=test_seq, num_samples=8, beta=0.35)\n",
    "classes = np.array(symbol_set)\n",
    "\n",
    "upsampled = CS.upsample()\n",
    "Tx = np.convolve(upsampled, CS.h)\n",
    "#test_seq = np.sort(Tx)\n",
    "#Tx = Tx + np.random.normal(0.0, , Tx.shape)  # add gaussian noise\n",
    "\n",
    "\n",
    "net = torch.load('../Conv1DModels/RX_Network2')\n",
    "net2 = torch.load('../Conv1DModels/Best_DE_Model2')\n",
    "test_seq = np.linspace(-4, 4, 400)\n",
    "test_seq = torch.Tensor(test_seq)\n",
    "x = test_seq.view(1, 1, -1)\n",
    "print(x.shape)\n",
    "yhat = net(x)[0].T\n",
    "yhat2 = net2(x)[0].T\n",
    "softmax = torch.nn.Softmax(dim=1)\n",
    "probs = softmax(yhat).detach().numpy()\n",
    "probs2 = softmax(yhat2).detach().numpy()\n",
    "decisions = classes[np.argmax(probs, axis=1)]\n",
    "decisions2 = classes[np.argmax(probs2, axis=1)]\n",
    "\n",
    "\n",
    "plt.figure(figsize=(13,8))\n",
    "#plt.title('Decision Boundaries', fontsize=24)\n",
    "for i in range(probs.shape[1]):\n",
    "    plt.plot(probs[:,i], '-x')\n",
    "for i in range(probs2.shape[1]):\n",
    "    plt.plot(probs2[:,i], '-o')\n",
    "#plt.axvline(x=-2, color='black')\n",
    "#plt.axvline(x=0, color='black')\n",
    "#plt.axvline(x=2, color='black')\n",
    "#plt.xlabel('Input', fontsize=20)\n",
    "x_axis = range(len(decisions))\n",
    "x_labels = ['Vector'+str(i) for i in range(len(x_axis))]\n",
    "plt.xticks(ticks=x_axis, labels=x_labels, rotation=60)\n",
    "plt.ylabel('Probability of choosing', fontsize=20)\n",
    "plt.legend(symbol_set + symbol_set, fontsize=14)\n",
    "plt.show()\n",
    "\n",
    "print(test_seq.reshape(-1, 8))\n",
    "print(decisions)"
   ]
  },
  {
   "cell_type": "markdown",
   "id": "civic-leisure",
   "metadata": {},
   "source": [
    "# Inspect effect of filtering with learned filters versus with RRC"
   ]
  },
  {
   "cell_type": "code",
   "execution_count": null,
   "id": "adequate-lawyer",
   "metadata": {
    "scrolled": false
   },
   "outputs": [],
   "source": [
    "net_BP = torch.load('../Conv1DModels/RX_Network2')\n",
    "net_DE = torch.load('../Conv1DModels/Best_DE_Model2')\n",
    "#net_DE = torch.load('../Conv1DModels/LF_DE_100kSNR6.5_2', map_location=torch.device('cpu'))\n",
    "\n",
    "\n",
    "lf_BP = list(net_BP.parameters())[0].detach()[0][0].numpy()\n",
    "lf_BP /= np.sqrt(np.sum(np.square(lf_BP)))\n",
    "\n",
    "lf_DE = list(net_DE.parameters())[0].detach()[0][0].numpy()\n",
    "lf_DE /= np.sqrt(np.sum(np.square(lf_DE)))\n",
    "\n",
    "h = CS.h/np.sqrt(np.sum(np.square(CS.h)))\n",
    "\n",
    "plt.figure(figsize=(13,8))\n",
    "plt.plot(lf_BP, label='Learned Filter (BP)', linewidth=3, color='C1')\n",
    "plt.plot(lf_DE, label='Learned Filter (DE)', linewidth=3, color='C2')\n",
    "plt.plot(h, label='Root-Raised Cosine', alpha=.8, linewidth=3, color='C0')\n",
    "plt.legend(fontsize=14)\n",
    "plt.grid(True)\n",
    "plt.show()\n",
    "#plt.savefig('LF_ALL', bbox_inches='tight', transparent=True)"
   ]
  },
  {
   "cell_type": "code",
   "execution_count": null,
   "id": "sudden-elements",
   "metadata": {},
   "outputs": [],
   "source": [
    "symbol_set = [3, 1, -1, -3] # all symbols that we use\n",
    "num_symbols = 10\n",
    "symbol_seq = np.random.choice(symbol_set, num_symbols, replace=True)\n",
    "m = 8\n",
    "CS = Comms_System(symbol_set=symbol_set, symbol_seq=symbol_seq, num_samples=m, beta=0.35)\n",
    "SNR = 10\n",
    "sigma = CS.SNRdb_to_sigma(SNRdb=SNR, energy=8, use_gain=False)\n",
    "print(sigma)\n",
    "\n",
    "up = CS.upsample()\n",
    "Tx = np.convolve(up, h)\n",
    "Tx = Tx / np.sqrt(np.mean(np.square(Tx)))\n",
    "Tx = Tx + np.random.normal(0.0, sigma, Tx.shape)  # add gaussian noise\n",
    "\n",
    "# Filter on receiver side with learned filter\n",
    "Rx1 = np.convolve(Tx, h)\n",
    "#Rx1 /= np.sqrt(np.mean(np.square(Rx1)))\n",
    "plt.plot(Rx1, label='Filt w/ RRC')\n",
    "Rx2 = np.convolve(Tx, lf_BP)\n",
    "#Rx2 /= np.sqrt(np.mean(np.square(Rx2)))\n",
    "plt.plot(Rx2, label='Filt w/ lf_BP')\n",
    "Rx3 = np.convolve(Tx, lf_DE)\n",
    "#Rx3 /= np.sqrt(np.mean(np.square(Rx3)))\n",
    "plt.plot(Rx3, label='Filt w/ lf_DE')\n",
    "plt.legend()\n",
    "plt.show()"
   ]
  },
  {
   "cell_type": "markdown",
   "id": "identical-calgary",
   "metadata": {},
   "source": [
    "# Plot full responses "
   ]
  },
  {
   "cell_type": "code",
   "execution_count": null,
   "id": "desirable-barbados",
   "metadata": {},
   "outputs": [],
   "source": [
    "CS = Comms_System(symbol_set=symbol_set, symbol_seq=symbol_seq, num_samples=m, beta=0.35)\n",
    "#raised_cosine = np.convolve(CS.h, CS.h)\n",
    "raised_cosine = rcosfilter(N=127, alpha=0.35, Ts=1, Fs=m)[1]\n",
    "full_response_BP = np.convolve(CS.h, lf_BP)\n",
    "full_response_DE = np.convolve(CS.h, lf_DE)\n",
    "raised_cosine /= np.sqrt(np.sum(np.square(raised_cosine)))\n",
    "full_response_BP /= np.sqrt(np.sum(np.square(full_response_BP)))\n",
    "full_response_DE /= np.sqrt(np.sum(np.square(full_response_DE)))\n",
    "x_axis = [x for x in range(len(raised_cosine)) if x % 8 == 0]\n",
    "x_labels = [str(i)+' T' for i,x in enumerate(x_axis)]\n",
    "\n",
    "\n",
    "plt.figure(figsize=(13,8))\n",
    "plt.plot(raised_cosine, label='Raised Cosine Impulse Response', linewidth=3)\n",
    "plt.plot(full_response_BP, label='Full System Response (BP)', linewidth=3)\n",
    "plt.plot(full_response_DE, label='Full System Response (DE)', linewidth=3, alpha=.8, color='C2')\n",
    "#for i in range(0, 128, 4):\n",
    " #   plt.axvline(x=i, color='black', alpha=0.5)\n",
    "plt.xticks(ticks=x_axis, labels=x_labels)\n",
    "plt.legend(fontsize=14)\n",
    "plt.grid(True)\n",
    "plt.xlabel('Time', fontsize=16)\n",
    "plt.ylabel('Amplitude', fontsize=16)\n",
    "plt.show()\n",
    "#plt.savefig('FullResponsesAll', bbox_inches='tight', transparent=True)"
   ]
  },
  {
   "cell_type": "markdown",
   "id": "varied-intent",
   "metadata": {},
   "source": [
    "# Plot Lowpass Filters"
   ]
  },
  {
   "cell_type": "code",
   "execution_count": null,
   "id": "emotional-benchmark",
   "metadata": {},
   "outputs": [],
   "source": [
    "# Butterworth\n",
    "\n",
    "cutoff = 0.55\n",
    "b_10, a_10 = butter_lowpass(cutoff_freq=cutoff, sampling_rate=CS.m, order=10)\n",
    "#b_4, a_4 = butter_lowpass(cutoff_freq=cutoff, sampling_rate=CS.m, order=4)\n",
    "w_range = np.linspace(-4, 4, 10000)\n",
    "w_10, m_10, _ = TransferFunction(b_10, a_10/7.3, dt=CS.m).bode(n=10000, w=w_range)\n",
    "#w_10, m_10, _ = TransferFunction(b_10, a_10, dt=CS.m).bode(n=10000, w=w_range)\n",
    "#w_4, m_4, _ = TransferFunction(b_4, a_4, dt=CS.m).bode(n=10000, w=w_range)\n",
    "\n",
    "\n",
    "# Raised Cosine\n",
    "h = CS.h / max(CS.h)\n",
    "#raised_cosine = rcosfilter(N=8*m, alpha=0.35, Ts=1, Fs=8)[1]\n",
    "raised_cosine = np.convolve(CS.h, CS.h)\n",
    "raised_cosine /= max(raised_cosine)\n",
    "\n",
    "#w_raised, m_raised, _ = TransferFunction(raised_cosine, 1.1, dt=CS.m).bode(n=10000, w=w_range) #65\n",
    "\n",
    "# Root-Raised Cosine\n",
    "w_rrc, m_rrc, _ = TransferFunction(h, 1, dt=CS.m).bode(n=10000, w=w_range) # 8\n",
    "\n",
    "# Ideal Lowpass Filter\n",
    "w10 = w_10*10\n",
    "idx1 = np.where(w10.round(3) == -cutoff)[0][0]\n",
    "idx2 = np.where(w10.round(3) == cutoff)[0][0]\n",
    "ideal = np.ones(len(w10)) * -70\n",
    "ideal[idx1: idx2+1] = 17.34 # 0\n",
    "\n",
    "plt.figure(figsize=(13,8))\n",
    "#plt.plot(w10, ideal, linewidth=2, color='C2', label='Ideal Lowpass Filter') # ideal\n",
    "#plt.plot(w_4*10, m_4, linewidth=3, color='C4', alpha=0.5, label='Butterworth (order=4)') # butterworth order 4\n",
    "plt.plot(w_10*10, m_10, linewidth=2, color='C0', label='Butterworth (order=10)') # butterworth order 10\n",
    "plt.plot(w_rrc*10, m_rrc, linewidth=2, color='C1', label='RRC (rolloff=0.35)') # rrc\n",
    "#plt.plot(w_raised*10, m_raised, linewidth=3, color='C5', label='Raised Cosine (rolloff=0.35)')\n",
    "plt.title('Filters Frequency Response (cutoff = '+str(cutoff)+'Hz)', fontsize=20)\n",
    "plt.xlabel('Frequency [Hz]', fontsize=16)\n",
    "plt.ylabel('Magnitude [dB]', fontsize=16)\n",
    "plt.legend(fontsize=12, loc='upper right')\n",
    "plt.grid(True)\n",
    "#plt.yticks(np.arange(-20, 20, 1))\n",
    "plt.ylim([-20, 20])\n",
    "plt.xlim([-1.5, 1.5])\n",
    "plt.show()"
   ]
  },
  {
   "cell_type": "code",
   "execution_count": null,
   "id": "valid-forth",
   "metadata": {},
   "outputs": [],
   "source": [
    "# Butterworth\n",
    "CS = Comms_System(symbol_set=symbol_set, symbol_seq=symbol_seq, num_samples=8, beta=0.35)\n",
    "cutoff = 0.54\n",
    "b, a = butter_lowpass(cutoff_freq=cutoff, sampling_rate=CS.m, order=12)\n",
    "w_range = np.linspace(-4, 4, 10000)\n",
    "w, m, _ = TransferFunction(b, a, dt=CS.m).bode(n=10000, w=w_range)\n",
    "\n",
    "# Root-Raised Cosine\n",
    "h = CS.h / max(CS.h)\n",
    "w_rrc, m_rrc, _ = TransferFunction(CS.h, 8, dt=CS.m).bode(n=10000, w=w_range) # 8\n",
    "\n",
    "# Ideal Lowpass Filter\n",
    "w10 = w*10\n",
    "idx1 = np.where(w10.round(3) == -cutoff)[0][0]\n",
    "idx2 = np.where(w10.round(3) == cutoff)[0][0]\n",
    "ideal = np.ones(len(w10)) * -70\n",
    "ideal[idx1+2: idx2+1] = 0\n",
    "\n",
    "plt.figure(figsize=(13,8))\n",
    "#plt.plot(w10, ideal, linewidth=1, color='C2', label='Ideal Lowpass Filter') # ideal\n",
    "plt.plot(w*10, m, linewidth=1, color='C0', label='Butterworth (order=10)') # butterworth order 10\n",
    "plt.plot(w_rrc*10, m_rrc, linewidth=1, color='C1', label='RRC (rolloff=0.35)') # rrc\n",
    "plt.title('Filters Frequency Response (cutoff = '+str(cutoff)+'Hz)', fontsize=20)\n",
    "plt.xlabel('Frequency [Hz]', fontsize=16)\n",
    "plt.ylabel('Magnitude [dB]', fontsize=16)\n",
    "plt.legend(fontsize=12, loc='lower center')\n",
    "plt.grid(True)\n",
    "plt.yticks(np.arange(-40, 3, 1))\n",
    "plt.xticks(np.arange(-1, 1, 0.1))\n",
    "plt.axhline(y=-3, color='black')\n",
    "plt.ylim([-40, 3])\n",
    "plt.xlim([-1, 1])\n",
    "plt.show()"
   ]
  },
  {
   "cell_type": "code",
   "execution_count": null,
   "id": "active-scheduling",
   "metadata": {},
   "outputs": [],
   "source": [
    "CS = Comms_System(symbol_set=symbol_set, symbol_seq=symbol_seq, num_samples=8, beta=0.35)\n",
    "\n",
    "plt.figure(figsize=(13,8))\n",
    "plt.magnitude_spectrum(CS.h, sides='twosided', scale='dB', Fs=8, color='C1')\n",
    "plt.ylim([-40, -10])\n",
    "plt.xlim([-1, 1])\n",
    "plt.axhline(y=-15, color='black')\n",
    "plt.yticks(np.arange(-40, -10, 1))\n",
    "plt.xticks(np.arange(-1, 1, 0.1))\n",
    "plt.grid(True)\n",
    "plt.show()"
   ]
  },
  {
   "cell_type": "markdown",
   "id": "adequate-reserve",
   "metadata": {},
   "source": [
    "##### Want to time something? Use following code stump"
   ]
  },
  {
   "cell_type": "code",
   "execution_count": null,
   "id": "demanding-class",
   "metadata": {},
   "outputs": [],
   "source": [
    "# %%timeit -o -r 5"
   ]
  }
 ],
 "metadata": {
  "kernelspec": {
   "display_name": "Python 3",
   "language": "python",
   "name": "python3"
  },
  "language_info": {
   "codemirror_mode": {
    "name": "ipython",
    "version": 3
   },
   "file_extension": ".py",
   "mimetype": "text/x-python",
   "name": "python",
   "nbconvert_exporter": "python",
   "pygments_lexer": "ipython3",
   "version": "3.6.13"
  }
 },
 "nbformat": 4,
 "nbformat_minor": 5
}

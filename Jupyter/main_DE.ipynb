{
 "cells": [
  {
   "cell_type": "code",
   "execution_count": 6,
   "id": "czech-rogers",
   "metadata": {},
   "outputs": [],
   "source": [
    "import sys\n",
    "sys.path.append('../DE_PyCharm')\n",
    "from DE import DE\n",
    "from objective_functions import MSE\n",
    "from data import create_3d_gauss_data\n",
    "from data import create_simple_data\n",
    "from visualizer import plot_2d_gauss, plot_simple_data\n",
    "\n",
    "Xtrain, ytrain, Xtest, ytest = create_simple_data('parabola', 30)"
   ]
  },
  {
   "cell_type": "code",
   "execution_count": 12,
   "id": "earned-withdrawal",
   "metadata": {},
   "outputs": [],
   "source": [
    "D = DE(objective_function=MSE, sizes=[1,8,1], pop_size=50, F=0.55, cr=0.85, \n",
    "        X=Xtrain, y=ytrain, Xtest=Xtest, ytest=ytest, type='regression')\n",
    "\n",
    "best_agent, opt_agent = D.early_stop_training(patience=1000)\n",
    "best_agent = D.evolution(num_epochs=4001, verbose=True, print_epoch=100)\n",
    "D.evaluate(plot_function=plot_simple_data)"
   ]
  },
  {
   "cell_type": "code",
   "execution_count": 13,
   "id": "corrected-export",
   "metadata": {},
   "outputs": [
    {
     "name": "stdout",
     "output_type": "stream",
     "text": [
      "1.23 s ± 0 ns per loop (mean ± std. dev. of 1 run, 1 loop each)\n"
     ]
    },
    {
     "data": {
      "text/plain": [
       "<TimeitResult : 1.23 s ± 0 ns per loop (mean ± std. dev. of 1 run, 1 loop each)>"
      ]
     },
     "execution_count": 13,
     "metadata": {},
     "output_type": "execute_result"
    }
   ],
   "source": [
    "%%timeit -o -r 1\n",
    "D.evolution(num_epochs=1)"
   ]
  },
  {
   "cell_type": "code",
   "execution_count": null,
   "id": "frozen-nothing",
   "metadata": {},
   "outputs": [],
   "source": []
  }
 ],
 "metadata": {
  "kernelspec": {
   "display_name": "Python 3",
   "language": "python",
   "name": "python3"
  },
  "language_info": {
   "codemirror_mode": {
    "name": "ipython",
    "version": 3
   },
   "file_extension": ".py",
   "mimetype": "text/x-python",
   "name": "python",
   "nbconvert_exporter": "python",
   "pygments_lexer": "ipython3",
   "version": "3.6.13"
  }
 },
 "nbformat": 4,
 "nbformat_minor": 5
}

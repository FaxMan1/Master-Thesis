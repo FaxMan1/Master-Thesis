{
 "cells": [
  {
   "cell_type": "code",
   "execution_count": null,
   "id": "czech-rogers",
   "metadata": {},
   "outputs": [],
   "source": [
    "import sys\n",
    "sys.path.append('..')\n",
    "from DE import DE\n",
    "from objective_functions import MSE\n",
    "from data import create_3d_gauss_data\n",
    "from data import create_simple_data\n",
    "from visualizer import plot_2d_gauss, plot_simple_data\n",
    "import numpy as np\n",
    "from Network import NeuralNetwork"
   ]
  },
  {
   "cell_type": "markdown",
   "id": "portuguese-management",
   "metadata": {},
   "source": [
    "# Neural Network DE: Simple Problem"
   ]
  },
  {
   "cell_type": "code",
   "execution_count": null,
   "id": "wrong-flavor",
   "metadata": {
    "scrolled": false
   },
   "outputs": [],
   "source": [
    "Xtrain, ytrain, Xtest, ytest = create_simple_data('sine', 30, noise=0.1)\n",
    "\n",
    "D = DE(objective_function=MSE, sizes=[1,12,1], pop_size=50, F=0.55, cr=0.85, \n",
    "        X=Xtrain, y=ytrain, Xtest=Xtest, ytest=ytest, type='regression')\n",
    "\n",
    "#best_agent, opt_agent = D.early_stop_training(patience=1000)\n",
    "best_agent = D.evolution(num_epochs=10001, verbose=True, print_epoch=1000)\n",
    "D.evaluate(plot_function=plot_simple_data, title=r'Fit of $y = x^2$')"
   ]
  },
  {
   "cell_type": "markdown",
   "id": "sustainable-bottle",
   "metadata": {},
   "source": [
    "# Neural Network DE: 3D Gaussian"
   ]
  },
  {
   "cell_type": "code",
   "execution_count": null,
   "id": "welcome-guard",
   "metadata": {
    "scrolled": false
   },
   "outputs": [],
   "source": [
    "Xtrain, ytrain, Xtest, ytest = create_3d_gauss_data(mu=[0,0], sigma=[1,1], num_data_points=600)\n",
    "\n",
    "D = DE(objective_function=MSE, sizes=[2,20,1], pop_size=50, F=0.55, cr=0.85, \n",
    "        X=Xtrain, y=ytrain, Xtest=Xtest, ytest=ytest, type='regression', softmax=False)\n",
    "\n",
    "best_agent = D.evolution(num_epochs=30001, verbose=True, print_epoch=1000)\n",
    "D.evaluate(plot_function=plot_2d_gauss, title='Fit of 2D Gauss', savefig=False)"
   ]
  },
  {
   "cell_type": "markdown",
   "id": "christian-chart",
   "metadata": {},
   "source": [
    "# Classic DE"
   ]
  },
  {
   "cell_type": "code",
   "execution_count": null,
   "id": "informational-oriental",
   "metadata": {},
   "outputs": [],
   "source": [
    "from DE_old import DE as DEO\n",
    "from objective_functions import paraboloid, ackley\n",
    "from visualizer import plot_ackley\n",
    "import matplotlib.pyplot as plt"
   ]
  },
  {
   "cell_type": "code",
   "execution_count": null,
   "id": "joined-energy",
   "metadata": {},
   "outputs": [],
   "source": [
    "D = DEO(objective_function=ackley, bounds=[-5, 5], pop_size=10, num_dimensions=2, F=0.5, cr=0.5)\n",
    "D.evolution(num_epochs=40)\n",
    "D.evaluate(plot_function=plot_ackley, bounds=[-5, 5])"
   ]
  },
  {
   "cell_type": "code",
   "execution_count": null,
   "id": "analyzed-backup",
   "metadata": {},
   "outputs": [],
   "source": []
  }
 ],
 "metadata": {
  "kernelspec": {
   "display_name": "Python 3",
   "language": "python",
   "name": "python3"
  },
  "language_info": {
   "codemirror_mode": {
    "name": "ipython",
    "version": 3
   },
   "file_extension": ".py",
   "mimetype": "text/x-python",
   "name": "python",
   "nbconvert_exporter": "python",
   "pygments_lexer": "ipython3",
   "version": "3.6.13"
  }
 },
 "nbformat": 4,
 "nbformat_minor": 5
}

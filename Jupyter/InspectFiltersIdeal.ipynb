{
 "cells": [
  {
   "cell_type": "code",
   "execution_count": null,
   "id": "brilliant-daisy",
   "metadata": {},
   "outputs": [],
   "source": [
    "import sys\n",
    "sys.path.append('..')\n",
    "from Comms_System import Comms_System, SNR_plot\n",
    "import numpy as np\n",
    "import matplotlib.pyplot as plt\n",
    "from ML_components import load_params\n",
    "from Network import NeuralNetwork\n",
    "import scipy\n",
    "import torch\n",
    "from filters import butter_lowpass"
   ]
  },
  {
   "cell_type": "code",
   "execution_count": null,
   "id": "pending-arthur",
   "metadata": {},
   "outputs": [],
   "source": [
    "symbol_set = [3, 1, -1, -3] # all symbols that we use\n",
    "num_symbols = 10000\n",
    "symbol_seq = np.random.choice(symbol_set, num_symbols, replace=True)\n",
    "m = 8\n",
    "CS = Comms_System(symbol_set=symbol_set, symbol_seq=symbol_seq, num_samples=m, beta=0.35)\n"
   ]
  },
  {
   "cell_type": "code",
   "execution_count": null,
   "id": "inner-conjunction",
   "metadata": {},
   "outputs": [],
   "source": [
    "def ideal_lpf(Tx, cutoff_freq):\n",
    "    Tx_freq = torch.fft.rfft(Tx)\n",
    "    xf = torch.fft.rfftfreq(Tx.shape[0], 1/8)\n",
    "    Tx_freq[xf > cutoff_freq] = 0\n",
    "    Tx_low = torch.fft.irfft(Tx_freq, n=Tx.shape[0])\n",
    "    return Tx_low"
   ]
  },
  {
   "cell_type": "code",
   "execution_count": null,
   "id": "julian-affairs",
   "metadata": {},
   "outputs": [],
   "source": [
    "cutoffs = ['2', '1', '06', '05']\n",
    "cutoff_ints = [2, 1, 0.6, 0.5]\n",
    "#cutoffs = ['06']\n",
    "#cutoff_ints = [0.6]\n",
    "figsize=(6.4, 4.8)\n",
    "#figsize=(13, 8)"
   ]
  },
  {
   "cell_type": "markdown",
   "id": "increasing-savage",
   "metadata": {},
   "source": [
    "# Inspect learned filters from Joint Training"
   ]
  },
  {
   "cell_type": "markdown",
   "id": "outstanding-pursuit",
   "metadata": {},
   "source": [
    "### Sender Weights"
   ]
  },
  {
   "cell_type": "code",
   "execution_count": null,
   "id": "rubber-utility",
   "metadata": {
    "scrolled": false
   },
   "outputs": [],
   "source": [
    "for cutoff, c_int in zip(cutoffs, cutoff_ints):\n",
    "    print('Cutoff Frequency =', c_int)\n",
    "    path = '../Joint_Models/'\n",
    "    net = torch.load(path + 'SenderIdeal' + cutoff)\n",
    "    learned_filter = list(net.parameters())[0].detach()[0][0]\n",
    "    learned_filter = learned_filter / torch.sqrt(torch.sum(torch.square(learned_filter))) # normalize\n",
    "    plt.figure(figsize=figsize)\n",
    "    plt.title('Sender Filter (Time)', fontsize=20)\n",
    "    plt.plot(learned_filter)\n",
    "    plt.ylabel('Amplitude', fontsize=16)\n",
    "    plt.show()\n",
    "    plt.figure(figsize=figsize)\n",
    "    plt.title('Sender Filter (Frequency)', fontsize=20)\n",
    "    plt.magnitude_spectrum(learned_filter, Fs=CS.m, color='C1', sides='twosided', scale='dB')\n",
    "    plt.xlabel('Frequency', fontsize=16)\n",
    "    plt.ylabel('Magnitude (dB)', fontsize=16)\n",
    "    plt.ylim([-95, -20])\n",
    "    plt.show()\n",
    "    print('_________________________________________________________')\n",
    "    print()"
   ]
  },
  {
   "cell_type": "markdown",
   "id": "endless-wagon",
   "metadata": {},
   "source": [
    "### Receiver Weights"
   ]
  },
  {
   "cell_type": "code",
   "execution_count": null,
   "id": "hollywood-johnson",
   "metadata": {
    "scrolled": false
   },
   "outputs": [],
   "source": [
    "for cutoff, c_int in zip(cutoffs, cutoff_ints):\n",
    "    print('Cutoff Frequency =', c_int)\n",
    "    path = '../Joint_Models/'\n",
    "    net = torch.load(path + 'ReceiverIdeal' + cutoff)\n",
    "    learned_filter = list(net.parameters())[0].detach()[0][0]\n",
    "    learned_filter = learned_filter / torch.sqrt(torch.sum(torch.square(learned_filter))) # normalize\n",
    "    plt.figure(figsize=figsize)\n",
    "    plt.title('Receiver Filter (Time)', fontsize=20)\n",
    "    plt.plot(learned_filter)\n",
    "    plt.ylabel('Amplitude', fontsize=16)\n",
    "    plt.show()\n",
    "    plt.figure(figsize=figsize)\n",
    "    plt.title('Receiver Filter (Frequency)', fontsize=20)\n",
    "    plt.magnitude_spectrum(learned_filter, Fs=CS.m, color='C1', sides='twosided', scale='dB')\n",
    "    plt.xlabel('Frequency', fontsize=16)\n",
    "    plt.ylabel('Magnitude (dB)', fontsize=16)\n",
    "    plt.ylim([-120, 0])\n",
    "    plt.show()\n",
    "    print('_________________________________________________________')\n",
    "    print()"
   ]
  },
  {
   "cell_type": "markdown",
   "id": "imported-bailey",
   "metadata": {},
   "source": [
    "### Total Impulse Response of Sender (i.e. sender filter convolved with LPF)"
   ]
  },
  {
   "cell_type": "code",
   "execution_count": null,
   "id": "middle-sleeping",
   "metadata": {
    "scrolled": false
   },
   "outputs": [],
   "source": [
    "for cutoff, c_int in zip(cutoffs, cutoff_ints):\n",
    "    print('Cutoff Frequency =', c_int)\n",
    "    path = '../Joint_Models/'\n",
    "    net = torch.load(path + 'SenderIdeal' + cutoff)\n",
    "    learned_filter = list(net.parameters())[0].detach()[0][0]\n",
    "    learned_filter = learned_filter / torch.sqrt(torch.sum(torch.square(learned_filter))) # normalize\n",
    "    total_sender_response = ideal_lpf(learned_filter, c_int)\n",
    "    total_sender_response = total_sender_response / torch.sqrt(torch.sum(torch.square(total_sender_response))) # normalize\n",
    "    plt.figure(figsize=figsize)\n",
    "    plt.title('Full Sender Response (Time)', fontsize=20)\n",
    "    plt.plot(total_sender_response)\n",
    "    plt.ylabel('Amplitude', fontsize=16)\n",
    "    plt.show()\n",
    "    plt.figure(figsize=figsize)\n",
    "    plt.title('Full Sender Response (Frequency)', fontsize=20)\n",
    "    plt.magnitude_spectrum(total_sender_response, Fs=8, sides='twosided', scale='dB', color='C1')\n",
    "    plt.xlabel('Frequency', fontsize=16)\n",
    "    plt.ylabel('Magnitude (dB)', fontsize=16)\n",
    "    plt.ylim([-130, 0])\n",
    "    plt.show()\n",
    "    print('_________________________________________________________')\n",
    "    print()"
   ]
  },
  {
   "cell_type": "markdown",
   "id": "prescription-lafayette",
   "metadata": {},
   "source": [
    "### Total Response of Whole System"
   ]
  },
  {
   "cell_type": "code",
   "execution_count": null,
   "id": "boxed-civilization",
   "metadata": {
    "scrolled": false
   },
   "outputs": [],
   "source": [
    "for cutoff, c_int in zip(cutoffs, cutoff_ints):\n",
    "    print('Cutoff Frequency =', c_int)\n",
    "    path = '../Joint_Models/'\n",
    "    tx_net = torch.load(path + 'SenderIdeal'+cutoff)\n",
    "    rx_net = torch.load(path + 'ReceiverIdeal'+cutoff)\n",
    "    \n",
    "    learned_tx_filter = list(tx_net.parameters())[0].detach()[0][0]\n",
    "    learned_rx_filter = list(rx_net.parameters())[0].detach()[0][0]\n",
    "    total_sender_response = ideal_lpf(learned_tx_filter, c_int)\n",
    "    \n",
    "    total_sender_response = total_sender_response / torch.sqrt(torch.sum(torch.square(total_sender_response))) # normalize\n",
    "    total_sender_response = total_sender_response.detach().numpy()\n",
    "    learned_rx_filter = learned_rx_filter.detach().numpy()\n",
    "    \n",
    "    full_response = np.convolve(total_sender_response, learned_rx_filter)\n",
    "    full_response = full_response / np.sqrt(np.sum(np.square(full_response))) # normalize\n",
    "    \n",
    "    plt.figure(figsize=figsize)\n",
    "    plt.title('Full Reponse of System (Time)', fontsize=16)\n",
    "    plt.plot(full_response)\n",
    "    plt.ylabel('Amplitude', fontsize=16)\n",
    "    plt.show()\n",
    "    \n",
    "    plt.figure(figsize=figsize)\n",
    "    plt.title('Full Response of System (Frequency)', fontsize=16)\n",
    "    plt.xlabel('Frequency', fontsize=16)\n",
    "    plt.ylabel('Magnitude (dB)', fontsize=16)\n",
    "    plt.ylim([-130, 0])\n",
    "    plt.magnitude_spectrum(full_response, Fs=8, scale='dB', sides='twosided', color='C1')\n",
    "    plt.show()"
   ]
  },
  {
   "cell_type": "code",
   "execution_count": null,
   "id": "sudden-constitutional",
   "metadata": {},
   "outputs": [],
   "source": []
  }
 ],
 "metadata": {
  "kernelspec": {
   "display_name": "Python 3",
   "language": "python",
   "name": "python3"
  },
  "language_info": {
   "codemirror_mode": {
    "name": "ipython",
    "version": 3
   },
   "file_extension": ".py",
   "mimetype": "text/x-python",
   "name": "python",
   "nbconvert_exporter": "python",
   "pygments_lexer": "ipython3",
   "version": "3.6.13"
  }
 },
 "nbformat": 4,
 "nbformat_minor": 5
}

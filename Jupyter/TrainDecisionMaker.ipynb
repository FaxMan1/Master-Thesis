{
 "cells": [
  {
   "cell_type": "code",
   "execution_count": null,
   "id": "public-companion",
   "metadata": {},
   "outputs": [],
   "source": [
    "import sys\n",
    "import numpy as np\n",
    "sys.path.append('..')\n",
    "from Comms_System import Comms_System\n",
    "from train_decision_making import train_DM_model\n",
    "#from DE_minibatch import DE\n",
    "from DE import DE\n",
    "from objective_functions import MSE\n",
    "from objective_functions import crossEntropy\n",
    "from objective_functions import crossEntropyPytorch\n",
    "from Network import NeuralNetwork\n",
    "import matplotlib.pyplot as plt\n",
    "import scipy.stats\n",
    "from objective_functions import stablesoftmax as softmax"
   ]
  },
  {
   "cell_type": "markdown",
   "id": "fifteen-shepherd",
   "metadata": {},
   "source": [
    "# Train Model"
   ]
  },
  {
   "cell_type": "code",
   "execution_count": null,
   "id": "packed-hands",
   "metadata": {},
   "outputs": [],
   "source": [
    "symbol_set = [3, 1, -1, -3] # all symbols that we use\n",
    "num_symbols = 1334\n",
    "symbol_seq = np.random.choice(symbol_set, num_symbols, replace=True)\n",
    "m = 8\n",
    "CS = Comms_System(symbol_set=symbol_set, symbol_seq=symbol_seq, num_samples=m)\n",
    "noise_level = 0\n",
    "# Automatic test\n",
    "decisions, _, _, _, downsampled = CS.test_CS(noise_level=noise_level, v=False)\n",
    "\n",
    "X = np.array(downsampled, ndmin=2).T\n",
    "y = symbol_seq\n",
    "classes = np.array(symbol_set)\n",
    "num_classes = len(classes)\n",
    "sizes = [1, 8, 4]\n",
    "sizes[-1] = num_classes\n",
    "\n",
    "# Makes a dictionary that maps a number to each symbol e.g. 3: 0\n",
    "class_idx = {v: i for i, v in enumerate(classes)}\n",
    "\n",
    "# Maps class indexes to each value in targets\n",
    "y = np.array([class_idx[v] for v in y])\n",
    "\n",
    "# Converts to one-hot-encoded\n",
    "y = np.eye(num_classes)[y]\n",
    "\n",
    "# split train-test\n",
    "splitlen = int(X.shape[0] * 0.75)\n",
    "Xtrain, ytrain = X[:splitlen], y[:splitlen]\n",
    "Xtest, ytest = X[splitlen:], y[splitlen:]"
   ]
  },
  {
   "cell_type": "code",
   "execution_count": null,
   "id": "ac04b3f9",
   "metadata": {},
   "outputs": [],
   "source": [
    "# Inspect symbol distribution in training (downsampled) data\n",
    "\n",
    "for symbol in symbol_set:\n",
    "\n",
    "    idx_ = symbol_seq[:splitlen] == symbol\n",
    "    plt.hist(Xtrain[idx_])"
   ]
  },
  {
   "cell_type": "code",
   "execution_count": null,
   "id": "7268f386",
   "metadata": {},
   "outputs": [],
   "source": [
    "optimizer = 'DE'\n",
    "early_stop = False\n",
    "\n",
    "if optimizer == 'DE':\n",
    "    D = DE(objective_function=crossEntropy, sizes=sizes, pop_size=50, F=0.55, cr=0.85,\n",
    "           X=Xtrain, y=ytrain, Xtest=Xtest, ytest=ytest, type='classification', afunc='relu')\n",
    "    \n",
    "    if early_stop:\n",
    "        best_agent = D.early_stop_training(patience=15)\n",
    "    else:\n",
    "        best_agent = D.evolution(num_epochs=200, verbose=True, print_epoch=500)\n",
    "        D.evaluate()\n",
    "    \n",
    "elif optimizer == 'BP':\n",
    "    NN = NeuralNetwork(sizes=sizes, afunc='relu')\n",
    "    NN.train_loop(Xtrain, ytrain, Xtest, ytest, epochs=1000, batch_size=Xtrain.shape[0], \n",
    "                  cost=True, acc=True, plot=True)\n",
    "    best_agent = NN"
   ]
  },
  {
   "cell_type": "markdown",
   "id": "dependent-stanford",
   "metadata": {},
   "source": [
    "# Prediction Accuracy"
   ]
  },
  {
   "cell_type": "code",
   "execution_count": null,
   "id": "modified-aquarium",
   "metadata": {},
   "outputs": [],
   "source": [
    "# Get predictions\n",
    "predictions = D.best_agent.feedforward(Xtest).argmax(axis=1)\n",
    "true = ytest.argmax(axis=1)\n",
    "\n",
    "# Convert back to symbols\n",
    "predicted_symbols = classes[predictions]\n",
    "true_values = classes[true]\n",
    "# print(predicted_symbols, true_values)\n",
    "correct_preds = np.equal(true_values, predicted_symbols)\n",
    "print(\"Accuracy: \", (sum(correct_preds) / len(true_values)) * 100, \"%\")"
   ]
  },
  {
   "cell_type": "markdown",
   "id": "capable-statement",
   "metadata": {},
   "source": [
    "# Error Rate"
   ]
  },
  {
   "cell_type": "code",
   "execution_count": null,
   "id": "arranged-carter",
   "metadata": {},
   "outputs": [],
   "source": [
    "symbol_set = [3, 1, -1, -3] # all symbols that we use\n",
    "num_symbols = 10000\n",
    "symbol_seq = np.random.choice(symbol_set, num_symbols, replace=True)"
   ]
  },
  {
   "cell_type": "code",
   "execution_count": null,
   "id": "african-climb",
   "metadata": {},
   "outputs": [],
   "source": [
    "for i in range(10):\n",
    "\n",
    "    m = 8\n",
    "    CS = Comms_System(symbol_set=symbol_set, symbol_seq=symbol_seq, num_samples=m)\n",
    "    sigma = 2\n",
    "\n",
    "    decisions, NN_decisions, _, _, _ = CS.test_CS(noise_level=sigma, dec_model=D.best_agent, v=False)\n",
    "    #X = np.array(downsampled, ndmin=2).T\n",
    "\n",
    "    print('Euclidean Distance Error Rate: {}%'.format((CS.evaluate(decisions)[1]*100).round(2)))\n",
    "    print('Neural Net Error Rate: {}%'.format((CS.evaluate(NN_decisions)[1]*100).round(2)))"
   ]
  },
  {
   "cell_type": "markdown",
   "id": "academic-squad",
   "metadata": {},
   "source": [
    "----"
   ]
  },
  {
   "cell_type": "markdown",
   "id": "resident-import",
   "metadata": {},
   "source": [
    "# How to retrain automatically"
   ]
  },
  {
   "cell_type": "code",
   "execution_count": null,
   "id": "reflected-litigation",
   "metadata": {},
   "outputs": [],
   "source": [
    "train = False\n",
    "if train:\n",
    "    D = train_DM_model(sizes=[1,8,4], num_symbols=1000, epochs=2001)"
   ]
  },
  {
   "cell_type": "code",
   "execution_count": null,
   "id": "alien-trading",
   "metadata": {},
   "outputs": [],
   "source": [
    "# Evaluate\n",
    "symbol_set = [3, 1, -1, -3] # all symbols that we use\n",
    "num_symbols = 10000\n",
    "symbol_seq = np.random.choice(symbol_set, num_symbols, replace=True)\n",
    "m = 8\n",
    "CS = Comms_System(symbol_set=symbol_set, symbol_seq=symbol_seq, num_samples=m)\n",
    "noise_level = 1\n",
    "\n",
    "decisions, _ , _, downsampled = CS.test_CS(noise_level=noise_level, v=False)\n",
    "X = np.array(downsampled, ndmin=2).T\n",
    "classes = np.array(symbol_set)\n",
    "new_NN_decisions = classes[D.best_agent.feedforward(X).argmax(axis=1)]\n",
    "\n",
    "print('Euclidean Distance Error Rate: {}%'.format((CS.evaluate(decisions)[1]*100).round(2)))\n",
    "print('Neural Net Error Rate: {}%'.format((CS.evaluate(new_NN_decisions)[1]*100).round(2)))"
   ]
  },
  {
   "cell_type": "markdown",
   "id": "atlantic-penetration",
   "metadata": {},
   "source": [
    "# Does model perform better? Then save the weights"
   ]
  },
  {
   "cell_type": "code",
   "execution_count": null,
   "id": "worldwide-philippines",
   "metadata": {},
   "outputs": [],
   "source": [
    "save_weights = False\n",
    "\n",
    "if save_weights:\n",
    "    D.save_params('decision_making_weights_CE_new3', 'decision_making_biases_CE_new3')"
   ]
  },
  {
   "cell_type": "code",
   "execution_count": null,
   "id": "cultural-soviet",
   "metadata": {},
   "outputs": [],
   "source": []
  }
 ],
 "metadata": {
  "kernelspec": {
   "display_name": "Python 3 (ipykernel)",
   "language": "python",
   "name": "python3"
  },
  "language_info": {
   "codemirror_mode": {
    "name": "ipython",
    "version": 3
   },
   "file_extension": ".py",
   "mimetype": "text/x-python",
   "name": "python",
   "nbconvert_exporter": "python",
   "pygments_lexer": "ipython3",
   "version": "3.8.12"
  }
 },
 "nbformat": 4,
 "nbformat_minor": 5
}

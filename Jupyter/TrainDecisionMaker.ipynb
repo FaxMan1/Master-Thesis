{
 "cells": [
  {
   "cell_type": "code",
   "execution_count": null,
   "id": "public-companion",
   "metadata": {},
   "outputs": [],
   "source": [
    "import sys\n",
    "import numpy as np\n",
    "sys.path.append('..')\n",
    "from Comms_System import Comms_System\n",
    "from train_decision_making import train_DM_model\n",
    "#from DE_minibatch import DE\n",
    "from DE import DE\n",
    "from objective_functions import MSE, crossEntropy, crossEntropyPytorch\n",
    "from Network import NeuralNetwork\n",
    "import matplotlib.pyplot as plt\n",
    "import scipy.stats\n",
    "from objective_functions import stablesoftmax as softmax"
   ]
  },
  {
   "cell_type": "markdown",
   "id": "appointed-retreat",
   "metadata": {},
   "source": [
    "# Train Model"
   ]
  },
  {
   "cell_type": "code",
   "execution_count": null,
   "id": "fitting-bibliography",
   "metadata": {},
   "outputs": [],
   "source": [
    "symbol_set = [3, 1, -1, -3] # all symbols that we use\n",
    "num_symbols = 2000\n",
    "SNRdb = 10\n",
    "symbol_seq = np.random.choice(symbol_set, num_symbols, replace=True)\n",
    "m = 8\n",
    "CS = Comms_System(symbol_set=symbol_set, symbol_seq=symbol_seq, num_samples=m)\n",
    "sigma = CS.SNRdb_to_sigma(SNRdb, use_gain=True)\n",
    "print(sigma)\n",
    "# calibrate\n",
    "gain_factor = np.max(np.convolve(CS.h, CS.h))\n",
    "\n",
    "# upsample symbol sequence and filter it on transmission side\n",
    "upsampled = CS.upsample()\n",
    "Tx = np.convolve(upsampled, CS.h)\n",
    "\n",
    "# Transmit the filtered signal (i.e. add noise)\n",
    "Tx = Tx + np.random.normal(0.0, sigma, Tx.shape)  # add gaussian noise\n",
    "\n",
    "# Filter on receiver side\n",
    "Rx = np.convolve(Tx, CS.h)#/np.sqrt(gain_factor)\n",
    "\n",
    "# Downsample the signal on the receiver side\n",
    "downsampled = CS.downsample(Rx)/gain_factor\n",
    "\n",
    "X = np.array(downsampled, ndmin=2).T    \n",
    "y = symbol_seq\n",
    "classes = np.array(symbol_set)\n",
    "num_classes = len(classes)\n",
    "sizes = [1, 8, 4]\n",
    "sizes[-1] = num_classes\n",
    "\n",
    "# Makes a dictionary that maps a number to each symbol e.g. 3: 0\n",
    "class_idx = {v: i for i, v in enumerate(classes)}\n",
    "\n",
    "# Maps class indexes to each value in targets\n",
    "y = np.array([class_idx[v] for v in y])\n",
    "\n",
    "# Converts to one-hot-encoded\n",
    "y = np.eye(num_classes)[y]\n",
    "\n",
    "\n",
    "# split train-test\n",
    "splitlen = int(X.shape[0] * 0.5)\n",
    "Xtrain, ytrain = X[:splitlen], y[:splitlen]\n",
    "Xtest, ytest = X[splitlen:], y[splitlen:]"
   ]
  },
  {
   "cell_type": "code",
   "execution_count": null,
   "id": "ac04b3f9",
   "metadata": {},
   "outputs": [],
   "source": [
    "# Inspect symbol distribution in training (downsampled) data\n",
    "plt.figure(figsize=(13,8))\n",
    "for symbol in symbol_set:\n",
    "\n",
    "    idx_ = symbol_seq[:splitlen] == symbol\n",
    "    plt.hist(Xtrain[idx_], label=str(symbol))\n",
    "    \n",
    "plt.xlabel('Downsampled Values', fontsize=22)\n",
    "plt.ylabel('Frequency', fontsize=22)\n",
    "plt.legend(fontsize=14)\n",
    "plt.show()\n",
    "#plt.savefig('SymbolDistribution', bbox_inches='tight', transparent=True)"
   ]
  },
  {
   "cell_type": "code",
   "execution_count": null,
   "id": "7268f386",
   "metadata": {},
   "outputs": [],
   "source": [
    "optimizer = 'DE'\n",
    "early_stop = False\n",
    "\n",
    "if optimizer == 'DE':\n",
    "    D = DE(objective_function=crossEntropy, sizes=sizes, pop_size=50, F=0.55, cr=0.85,\n",
    "           X=Xtrain, y=ytrain, Xtest=Xtest, ytest=ytest, type='classification', afunc='relu')\n",
    "    \n",
    "    if early_stop:\n",
    "        best_agent = D.early_stop_training(patience=100)\n",
    "    else:\n",
    "        best_agent = D.evolution(num_epochs=5001, verbose=True, print_epoch=500)\n",
    "        D.evaluate()\n",
    "    \n",
    "elif optimizer == 'BP':\n",
    "    NN = NeuralNetwork(sizes=sizes, type='classification', afunc='relu')\n",
    "    NN.train_loop(Xtrain, ytrain, Xtest, ytest, epochs=10000, batch_size=Xtrain.shape[0], \n",
    "                  cost=True, acc=True, plot=True)\n",
    "    best_agent = NN"
   ]
  },
  {
   "cell_type": "markdown",
   "id": "dependent-stanford",
   "metadata": {},
   "source": [
    "# Prediction Accuracy"
   ]
  },
  {
   "cell_type": "code",
   "execution_count": null,
   "id": "front-electricity",
   "metadata": {},
   "outputs": [],
   "source": [
    "best_agent = D.evolution(num_epochs=1001, verbose=True, print_epoch=500)\n",
    "D.evaluate()"
   ]
  },
  {
   "cell_type": "code",
   "execution_count": null,
   "id": "modified-aquarium",
   "metadata": {},
   "outputs": [],
   "source": [
    "# Get predictions\n",
    "predictions = best_agent.feedforward(Xtest).argmax(axis=1)\n",
    "true = ytest.argmax(axis=1)\n",
    "\n",
    "# Convert back to symbols\n",
    "predicted_symbols = classes[predictions]\n",
    "true_values = classes[true]\n",
    "# print(predicted_symbols, true_values)\n",
    "correct_preds = np.equal(true_values, predicted_symbols)\n",
    "print(\"Accuracy: \", (sum(correct_preds) / len(true_values)) * 100, \"%\")"
   ]
  },
  {
   "cell_type": "markdown",
   "id": "capable-statement",
   "metadata": {},
   "source": [
    "# Error Rate"
   ]
  },
  {
   "cell_type": "code",
   "execution_count": null,
   "id": "occupied-internship",
   "metadata": {},
   "outputs": [],
   "source": [
    "symbol_set = [3, 1, -1, -3] # all symbols that we use\n",
    "num_symbols = 100000\n",
    "symbol_seq = np.random.choice(symbol_set, num_symbols, replace=True)\n",
    "m = 8\n",
    "SNRdb = 10\n",
    "\n",
    "CS = Comms_System(symbol_set=symbol_set, symbol_seq=symbol_seq, num_samples=m)\n",
    "euclid_decisions, NN_decisions = CS.transmit_all_same(SNRdb=SNRdb, NN_model=NN, block=False)\n",
    "print('Euclidean Distance Error Rate: {}%'.format((CS.evaluate(euclid_decisions)[1]*100).round(2)))\n",
    "print('Neural Net Error Rate: {}%'.format((CS.evaluate(NN_decisions)[1]*100).round(2)))"
   ]
  },
  {
   "cell_type": "code",
   "execution_count": null,
   "id": "appointed-surfing",
   "metadata": {},
   "outputs": [],
   "source": [
    "symbol_set = [3, 1, -1, -3]  # all symbols that we use\n",
    "symbol_seq = np.random.choice(symbol_set, 10000, replace=True)\n",
    "CS = Comms_System(symbol_set=symbol_set, symbol_seq=symbol_seq, num_samples=8, beta=0.35)\n",
    "SNRdbs = np.linspace(0, 19, 50)\n",
    "euclid_error_rates = np.zeros(len(SNRdbs))\n",
    "NN_error_rates = np.zeros(len(SNRdbs))\n",
    "avg_symbol_energy = np.mean(symbol_seq ** 2)\n",
    "print('Avg symbol energy', avg_symbol_energy)\n",
    "gain_factor = np.max(np.convolve(CS.h, CS.h))\n",
    "print('gain', gain_factor)\n",
    "\n",
    "for i, SNRdb in enumerate(SNRdbs):\n",
    "    euclid_decisions, NN_decisions = CS.transmit_all_same(SNRdb=SNRdb, NN_model=NN, block=False)\n",
    "    euclid_error_rates[i] = CS.evaluate(euclid_decisions)[1]\n",
    "    NN_error_rates[i] = CS.evaluate(NN_decisions)[1]\n",
    "\n",
    "sigmas = np.array([CS.SNRdb_to_sigma(SNRdb, avg_symbol_energy, use_gain=True) for SNRdb in SNRdbs])\n",
    "error_theory = 1.5 * (1 - scipy.stats.norm.cdf(np.sqrt(gain_factor / sigmas ** 2)))"
   ]
  },
  {
   "cell_type": "code",
   "execution_count": null,
   "id": "antique-violence",
   "metadata": {},
   "outputs": [],
   "source": [
    "plt.figure(figsize=(13,8))\n",
    "plt.xlabel('SNR (dB)', fontsize=20)\n",
    "plt.ylabel('$P_e$', fontsize=24)\n",
    "num = 0\n",
    "plt.semilogy(SNRdbs[num:], euclid_error_rates[num:], alpha=1, linewidth=3, label='Euclidean')\n",
    "plt.semilogy(SNRdbs[num:], NN_error_rates[num:], alpha=0.75, linewidth=3, label='NN Dec Maker')\n",
    "plt.semilogy(SNRdbs[num:], error_theory[num:], alpha=0.75, linewidth=3, label='Theory')\n",
    "plt.legend(fontsize=16)\n",
    "plt.show()\n",
    "#plt.savefig('NN_Dec_Performance4')"
   ]
  },
  {
   "cell_type": "code",
   "execution_count": null,
   "id": "premium-pickup",
   "metadata": {},
   "outputs": [],
   "source": [
    "test_seq = np.linspace(-4, 4, 40)\n",
    "test_seq = np.array(test_seq, ndmin=2).T\n",
    "yhat_onehot = D.best_agent.feedforward(test_seq)\n",
    "\n",
    "\n",
    "plt.figure(figsize=(13,8))\n",
    "#plt.title('Decision Boundaries', fontsize=24)\n",
    "for i in range(yhat_onehot.shape[1]):\n",
    "    plt.plot(test_seq, yhat_onehot[:,i], '-x')\n",
    "#plt.axvline(x=-2, color='black')\n",
    "#plt.axvline(x=0, color='black')\n",
    "#plt.axvline(x=2, color='black')\n",
    "plt.xlabel('Downsampled', fontsize=20)\n",
    "plt.ylabel('Probability of choosing', fontsize=20)\n",
    "plt.legend(symbol_set + ['Euclidean Boundaries'], fontsize=14)\n",
    "plt.savefig('Boundaries2', bbox_inches='tight', transparent=True)"
   ]
  },
  {
   "cell_type": "markdown",
   "id": "academic-squad",
   "metadata": {},
   "source": [
    "----"
   ]
  },
  {
   "cell_type": "markdown",
   "id": "resident-import",
   "metadata": {},
   "source": [
    "# How to retrain automatically"
   ]
  },
  {
   "cell_type": "code",
   "execution_count": null,
   "id": "reflected-litigation",
   "metadata": {},
   "outputs": [],
   "source": [
    "train = False\n",
    "if train:\n",
    "    D = train_DM_model(sizes=[1,8,4], num_symbols=1000, epochs=2001)"
   ]
  },
  {
   "cell_type": "code",
   "execution_count": null,
   "id": "alien-trading",
   "metadata": {},
   "outputs": [],
   "source": [
    "# Evaluate\n",
    "symbol_set = [3, 1, -1, -3] # all symbols that we use\n",
    "num_symbols = 10000\n",
    "symbol_seq = np.random.choice(symbol_set, num_symbols, replace=True)\n",
    "m = 8\n",
    "CS = Comms_System(symbol_set=symbol_set, symbol_seq=symbol_seq, num_samples=m)\n",
    "noise_level = 1\n",
    "\n",
    "decisions, _ , _, downsampled = CS.test_CS(noise_level=noise_level, v=False)\n",
    "X = np.array(downsampled, ndmin=2).T\n",
    "classes = np.array(symbol_set)\n",
    "new_NN_decisions = classes[D.best_agent.feedforward(X).argmax(axis=1)]\n",
    "\n",
    "print('Euclidean Distance Error Rate: {}%'.format((CS.evaluate(decisions)[1]*100).round(2)))\n",
    "print('Neural Net Error Rate: {}%'.format((CS.evaluate(new_NN_decisions)[1]*100).round(2)))"
   ]
  },
  {
   "cell_type": "markdown",
   "id": "atlantic-penetration",
   "metadata": {},
   "source": [
    "# Does model perform better? Then save the weights"
   ]
  },
  {
   "cell_type": "code",
   "execution_count": null,
   "id": "worldwide-philippines",
   "metadata": {},
   "outputs": [],
   "source": [
    "save_weights = False\n",
    "\n",
    "if save_weights:\n",
    "    D.save_params('decision_making_weights_CE_new3', 'decision_making_biases_CE_new3')"
   ]
  }
 ],
 "metadata": {
  "kernelspec": {
   "display_name": "Python 3",
   "language": "python",
   "name": "python3"
  },
  "language_info": {
   "codemirror_mode": {
    "name": "ipython",
    "version": 3
   },
   "file_extension": ".py",
   "mimetype": "text/x-python",
   "name": "python",
   "nbconvert_exporter": "python",
   "pygments_lexer": "ipython3",
   "version": "3.6.13"
  }
 },
 "nbformat": 4,
 "nbformat_minor": 5
}

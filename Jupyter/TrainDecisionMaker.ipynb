{
 "cells": [
  {
   "cell_type": "code",
   "execution_count": 1,
   "id": "public-companion",
   "metadata": {},
   "outputs": [],
   "source": [
    "import sys\n",
    "import numpy as np\n",
    "sys.path.append('../DE_PyCharm')\n",
    "from Comms_System import Comms_System\n",
    "from train_decision_making import train_DM_model\n",
    "#from DE_minibatch import DE\n",
    "from DE import DE\n",
    "from objective_functions import MSE\n",
    "from objective_functions import crossEntropy\n",
    "from objective_functions import crossEntropyPytorch\n",
    "from Network import NeuralNetwork\n",
    "import matplotlib.pyplot as plt\n",
    "import scipy.stats\n",
    "from objective_functions import stablesoftmax as softmax"
   ]
  },
  {
   "cell_type": "markdown",
   "id": "fifteen-shepherd",
   "metadata": {},
   "source": [
    "# Train Model"
   ]
  },
  {
   "cell_type": "code",
   "execution_count": 2,
   "id": "packed-hands",
   "metadata": {},
   "outputs": [
    {
     "name": "stdout",
     "output_type": "stream",
     "text": [
      "0: cost= 0.50326\n",
      "0: testcost= 0.46804\n",
      "\n",
      "100: cost= 0.01488\n",
      "100: testcost= 0.00174\n",
      "\n",
      "200: cost= 0.01054\n",
      "200: testcost= 0.00257\n",
      "\n",
      "300: cost= 0.00821\n",
      "300: testcost= 0.01932\n",
      "\n",
      "400: cost= 0.00821\n",
      "400: testcost= 0.01932\n",
      "\n",
      "500: cost= 0.00798\n",
      "500: testcost= 0.02722\n",
      "\n",
      "600: cost= 0.00798\n",
      "600: testcost= 0.02722\n",
      "\n",
      "700: cost= 0.00648\n",
      "700: testcost= 0.00362\n",
      "\n",
      "800: cost= 0.00648\n",
      "800: testcost= 0.00362\n",
      "\n",
      "900: cost= 0.00648\n",
      "900: testcost= 0.00362\n",
      "\n",
      "1000: cost= 0.00648\n",
      "1000: testcost= 0.00362\n",
      "\n",
      "1100: cost= 0.00648\n",
      "1100: testcost= 0.00362\n",
      "\n",
      "1200: cost= 0.00648\n",
      "1200: testcost= 0.00362\n",
      "\n",
      "1300: cost= 0.00648\n",
      "1300: testcost= 0.00362\n",
      "\n",
      "1400: cost= 0.00648\n",
      "1400: testcost= 0.00362\n",
      "\n",
      "1500: cost= 0.00648\n",
      "1500: testcost= 0.00362\n",
      "\n",
      "1600: cost= 0.00648\n",
      "1600: testcost= 0.00362\n",
      "\n",
      "1700: cost= 0.00648\n",
      "1700: testcost= 0.00362\n",
      "\n",
      "1800: cost= 0.00648\n",
      "1800: testcost= 0.00362\n",
      "\n",
      "1900: cost= 0.00596\n",
      "1900: testcost= 0.01397\n",
      "\n",
      "2000: cost= 0.00596\n",
      "2000: testcost= 0.01397\n",
      "\n",
      "2100: cost= 0.00596\n",
      "2100: testcost= 0.01397\n",
      "\n",
      "2200: cost= 0.00596\n",
      "2200: testcost= 0.01397\n",
      "\n",
      "2300: cost= 0.00596\n",
      "2300: testcost= 0.01397\n",
      "\n",
      "2400: cost= 0.00596\n",
      "2400: testcost= 0.01397\n",
      "\n",
      "2500: cost= 0.00596\n",
      "2500: testcost= 0.01397\n",
      "\n",
      "2600: cost= 0.00596\n",
      "2600: testcost= 0.01397\n",
      "\n",
      "2700: cost= 0.00578\n",
      "2700: testcost= 0.01513\n",
      "\n",
      "2800: cost= 0.00578\n",
      "2800: testcost= 0.01513\n",
      "\n",
      "2900: cost= 0.00578\n",
      "2900: testcost= 0.01513\n",
      "\n",
      "3000: cost= 0.00566\n",
      "3000: testcost= 0.01779\n",
      "\n",
      "3100: cost= 0.00566\n",
      "3100: testcost= 0.01779\n",
      "\n",
      "3200: cost= 0.00566\n",
      "3200: testcost= 0.01779\n",
      "\n",
      "3300: cost= 0.00566\n",
      "3300: testcost= 0.01779\n",
      "\n",
      "3400: cost= 0.00566\n",
      "3400: testcost= 0.01779\n",
      "\n",
      "3500: cost= 0.00555\n",
      "3500: testcost= 0.02436\n",
      "\n",
      "3600: cost= 0.00555\n",
      "3600: testcost= 0.02436\n",
      "\n",
      "3700: cost= 0.00535\n",
      "3700: testcost= 0.02431\n",
      "\n",
      "3800: cost= 0.00535\n",
      "3800: testcost= 0.02431\n",
      "\n",
      "3900: cost= 0.00535\n",
      "3900: testcost= 0.02431\n",
      "\n",
      "4000: cost= 0.00535\n",
      "4000: testcost= 0.02431\n",
      "\n",
      "4100: cost= 0.00535\n",
      "4100: testcost= 0.02431\n",
      "\n",
      "4200: cost= 0.00535\n",
      "4200: testcost= 0.02431\n",
      "\n",
      "4300: cost= 0.00535\n",
      "4300: testcost= 0.02431\n",
      "\n",
      "4400: cost= 0.00535\n",
      "4400: testcost= 0.02431\n",
      "\n",
      "4500: cost= 0.00535\n",
      "4500: testcost= 0.02431\n",
      "\n",
      "4600: cost= 0.00535\n",
      "4600: testcost= 0.02431\n",
      "\n",
      "4700: cost= 0.00535\n",
      "4700: testcost= 0.02431\n",
      "\n",
      "4800: cost= 0.00535\n",
      "4800: testcost= 0.02431\n",
      "\n",
      "4900: cost= 0.00535\n",
      "4900: testcost= 0.02431\n",
      "\n",
      "5000: cost= 0.00535\n",
      "5000: testcost= 0.02431\n",
      "\n"
     ]
    },
    {
     "data": {
      "image/png": "[encoded data removed]",
      "text/plain": [
       "<Figure size 936x576 with 1 Axes>"
      ]
     },
     "metadata": {
      "needs_background": "light"
     },
     "output_type": "display_data"
    },
    {
     "name": "stdout",
     "output_type": "stream",
     "text": [
      "Best agent is <Network.NeuralNetwork object at 0x1a24d5aef0> with a train cost of 0.00535.\n",
      "And a test cost of 0.02431\n"
     ]
    }
   ],
   "source": [
    "symbol_set = [3, 1, -1, -3] # all symbols that we use\n",
    "num_symbols = 1334\n",
    "symbol_seq = np.random.choice(symbol_set, num_symbols, replace=True)\n",
    "m = 8\n",
    "CS = Comms_System(symbol_set=symbol_set, symbol_seq=symbol_seq, num_samples=m)\n",
    "noise_level = 1\n",
    "# Automatic test\n",
    "decisions, _, downsampled, _ = CS.test_CS(noise_level=noise_level, v=False)\n",
    "\n",
    "X = np.array(downsampled, ndmin=2).T\n",
    "y = symbol_seq\n",
    "classes = np.array(symbol_set)\n",
    "num_classes = len(classes)\n",
    "sizes = [1, 8, 4]\n",
    "sizes[-1] = num_classes\n",
    "\n",
    "# Makes a dictionary that maps a number to each symbol e.g. 3: 0\n",
    "class_idx = {v: i for i, v in enumerate(classes)}\n",
    "\n",
    "# Maps class indexes to each value in targets\n",
    "y = np.array([class_idx[v] for v in y])\n",
    "\n",
    "# Converts to one-hot-encoded\n",
    "y = np.eye(num_classes)[y]\n",
    "\n",
    "# split train-test\n",
    "splitlen = int(X.shape[0] * 0.75)\n",
    "Xtrain, ytrain = X[:splitlen], y[:splitlen]\n",
    "Xtest, ytest = X[splitlen:], y[splitlen:]\n",
    "\n",
    "\n",
    "\n",
    "optimizer = 'DE'\n",
    "early_stop = False\n",
    "\n",
    "if optimizer == 'DE':\n",
    "    D = DE(objective_function=crossEntropy, sizes=sizes, pop_size=50, F=0.55, cr=0.85,\n",
    "           X=Xtrain, y=ytrain, Xtest=Xtest, ytest=ytest, type='classification', afunc='relu')\n",
    "    \n",
    "    if early_stop:\n",
    "        best_agent = D.early_stop_training(patience=200)\n",
    "    else:\n",
    "        best_agent = D.evolution(num_epochs=5001, verbose=True, print_epoch=100)\n",
    "        D.evaluate()\n",
    "    \n",
    "elif optimizer == 'BP':\n",
    "    NN = NeuralNetwork(sizes=[8,8,4], afunc='relu')\n",
    "    NN.train_loop(Xtrain, ytrain, Xtest, ytest, epochs=100, batch_size=Xtrain.shape[0], \n",
    "                  cost=True, acc=True, plot=True)\n",
    "    best_agent = NN"
   ]
  },
  {
   "cell_type": "code",
   "execution_count": 3,
   "id": "military-agent",
   "metadata": {},
   "outputs": [
    {
     "data": {
      "image/png": "[encoded data removed]",
      "text/plain": [
       "<Figure size 432x288 with 1 Axes>"
      ]
     },
     "metadata": {
      "needs_background": "light"
     },
     "output_type": "display_data"
    }
   ],
   "source": [
    "# Inspect symbol distribution in training (downsampled) data\n",
    "\n",
    "for symbol in symbol_set:\n",
    "\n",
    "    idx_ = symbol_seq[:splitlen] == symbol\n",
    "    plt.hist(Xtrain[idx_])"
   ]
  },
  {
   "cell_type": "markdown",
   "id": "dependent-stanford",
   "metadata": {},
   "source": [
    "# Prediction Accuracy"
   ]
  },
  {
   "cell_type": "code",
   "execution_count": 4,
   "id": "modified-aquarium",
   "metadata": {},
   "outputs": [
    {
     "name": "stdout",
     "output_type": "stream",
     "text": [
      "Accuracy:  99.7005988023952 %\n"
     ]
    }
   ],
   "source": [
    "# Get predictions\n",
    "predictions = D.best_agent.feedforward(Xtest).argmax(axis=1)\n",
    "true = ytest.argmax(axis=1)\n",
    "\n",
    "# Convert back to symbols\n",
    "predicted_symbols = classes[predictions]\n",
    "true_values = classes[true]\n",
    "# print(predicted_symbols, true_values)\n",
    "correct_preds = np.equal(true_values, predicted_symbols)\n",
    "print(\"Accuracy: \", (sum(correct_preds) / len(true_values)) * 100, \"%\")"
   ]
  },
  {
   "cell_type": "markdown",
   "id": "capable-statement",
   "metadata": {},
   "source": [
    "# Error Rate"
   ]
  },
  {
   "cell_type": "code",
   "execution_count": 5,
   "id": "arranged-carter",
   "metadata": {},
   "outputs": [],
   "source": [
    "symbol_set = [3, 1, -1, -3] # all symbols that we use\n",
    "num_symbols = 10000\n",
    "symbol_seq = np.random.choice(symbol_set, num_symbols, replace=True)"
   ]
  },
  {
   "cell_type": "code",
   "execution_count": 7,
   "id": "african-climb",
   "metadata": {},
   "outputs": [
    {
     "name": "stdout",
     "output_type": "stream",
     "text": [
      "Euclidean Distance Error Rate: 0.39%\n",
      "Neural Net Error Rate: 0.46%\n",
      "Euclidean Distance Error Rate: 0.37%\n",
      "Neural Net Error Rate: 0.47%\n",
      "Euclidean Distance Error Rate: 0.35%\n",
      "Neural Net Error Rate: 0.41%\n",
      "Euclidean Distance Error Rate: 0.32%\n",
      "Neural Net Error Rate: 0.47%\n",
      "Euclidean Distance Error Rate: 0.25%\n",
      "Neural Net Error Rate: 0.42%\n",
      "Euclidean Distance Error Rate: 0.3%\n",
      "Neural Net Error Rate: 0.45%\n",
      "Euclidean Distance Error Rate: 0.35%\n",
      "Neural Net Error Rate: 0.42%\n",
      "Euclidean Distance Error Rate: 0.34%\n",
      "Neural Net Error Rate: 0.53%\n",
      "Euclidean Distance Error Rate: 0.32%\n",
      "Neural Net Error Rate: 0.42%\n",
      "Euclidean Distance Error Rate: 0.44%\n",
      "Neural Net Error Rate: 0.52%\n"
     ]
    }
   ],
   "source": [
    "for i in range(10):\n",
    "\n",
    "    m = 8\n",
    "    CS = Comms_System(symbol_set=symbol_set, symbol_seq=symbol_seq, num_samples=m)\n",
    "    sigma = 1\n",
    "\n",
    "    decisions, NN_decisions, downsampled, block_decisions = CS.test_CS(noise_level=sigma, model=D.best_agent, v=False)\n",
    "    X = np.array(downsampled, ndmin=2).T\n",
    "\n",
    "    print('Euclidean Distance Error Rate: {}%'.format((CS.evaluate(decisions)[1]*100).round(2)))\n",
    "    print('Neural Net Error Rate: {}%'.format((CS.evaluate(NN_decisions)[1]*100).round(2)))"
   ]
  },
  {
   "cell_type": "markdown",
   "id": "academic-squad",
   "metadata": {},
   "source": [
    "----"
   ]
  },
  {
   "cell_type": "markdown",
   "id": "resident-import",
   "metadata": {},
   "source": [
    "# How to retrain automatically"
   ]
  },
  {
   "cell_type": "code",
   "execution_count": null,
   "id": "reflected-litigation",
   "metadata": {},
   "outputs": [],
   "source": [
    "train = False\n",
    "if train:\n",
    "    D = train_DM_model(sizes=[1,8,4], num_symbols=1000, epochs=2001)"
   ]
  },
  {
   "cell_type": "code",
   "execution_count": null,
   "id": "alien-trading",
   "metadata": {},
   "outputs": [],
   "source": [
    "# Evaluate\n",
    "symbol_set = [3, 1, -1, -3] # all symbols that we use\n",
    "num_symbols = 10000\n",
    "symbol_seq = np.random.choice(symbol_set, num_symbols, replace=True)\n",
    "m = 8\n",
    "CS = Comms_System(symbol_set=symbol_set, symbol_seq=symbol_seq, num_samples=m)\n",
    "noise_level = 1\n",
    "\n",
    "decisions, _ , _, downsampled = CS.test_CS(noise_level=noise_level, v=False)\n",
    "X = np.array(downsampled, ndmin=2).T\n",
    "classes = np.array(symbol_set)\n",
    "new_NN_decisions = classes[D.best_agent.feedforward(X).argmax(axis=1)]\n",
    "\n",
    "print('Euclidean Distance Error Rate: {}%'.format((CS.evaluate(decisions)[1]*100).round(2)))\n",
    "print('Neural Net Error Rate: {}%'.format((CS.evaluate(new_NN_decisions)[1]*100).round(2)))"
   ]
  },
  {
   "cell_type": "markdown",
   "id": "atlantic-penetration",
   "metadata": {},
   "source": [
    "# Does model perform better? Then save the weights"
   ]
  },
  {
   "cell_type": "code",
   "execution_count": null,
   "id": "worldwide-philippines",
   "metadata": {},
   "outputs": [],
   "source": [
    "save_weights = False\n",
    "\n",
    "if save_weights:\n",
    "    D.save_params('decision_making_weights_CE_new3', 'decision_making_biases_CE_new3')"
   ]
  },
  {
   "cell_type": "code",
   "execution_count": null,
   "id": "cultural-soviet",
   "metadata": {},
   "outputs": [],
   "source": []
  }
 ],
 "metadata": {
  "kernelspec": {
   "display_name": "Python 3",
   "language": "python",
   "name": "python3"
  },
  "language_info": {
   "codemirror_mode": {
    "name": "ipython",
    "version": 3
   },
   "file_extension": ".py",
   "mimetype": "text/x-python",
   "name": "python",
   "nbconvert_exporter": "python",
   "pygments_lexer": "ipython3",
   "version": "3.6.13"
  }
 },
 "nbformat": 4,
 "nbformat_minor": 5
}

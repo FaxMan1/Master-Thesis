{
 "cells": [
  {
   "cell_type": "code",
   "execution_count": 1,
   "id": "fantastic-drilling",
   "metadata": {},
   "outputs": [],
   "source": [
    "import sys\n",
    "sys.path.append('..')\n",
    "from Comms_System import Comms_System, SNR_plot, network_sender_receiver\n",
    "from filters import butter_lowpass\n",
    "import numpy as np\n",
    "import matplotlib.pyplot as plt\n",
    "import torch\n",
    "#from NetworkPytorch import joint_train_loop\n",
    "from scipy import signal\n",
    "import scipy\n",
    "import torchaudio\n",
    "from scipy.stats import norm\n",
    "from commpy import rcosfilter\n",
    "from DE_Pytorch_Joint import DE\n",
    "from DE_Pytorch_Joint_Minibatch import DE as DEM\n",
    "import random"
   ]
  },
  {
   "cell_type": "code",
   "execution_count": 2,
   "id": "ordered-georgia",
   "metadata": {},
   "outputs": [],
   "source": [
    "def get_data():\n",
    "\n",
    "    upsampled = CS.upsample()\n",
    "    X_tx = torch.Tensor(upsampled).view(1, 1, -1)\n",
    "    classes = np.array(symbol_set)\n",
    "    y = symbol_seq\n",
    "    class_idx = {v: i for i, v in enumerate(classes)}\n",
    "    y_idx = np.array([class_idx[v] for v in y])\n",
    "    y = torch.Tensor(y_idx)\n",
    "    \n",
    "    return X_tx, y"
   ]
  },
  {
   "cell_type": "code",
   "execution_count": 3,
   "id": "immune-archives",
   "metadata": {},
   "outputs": [],
   "source": [
    "def make_nets():\n",
    "    NN_tx = torch.nn.Sequential(torch.nn.Conv1d(1, 1, 64, padding=63)) # padding=len(CS.h) - 1\n",
    "    NN_rx = torch.nn.Sequential(torch.nn.Conv1d(1, 1, 64), torch.nn.Conv1d(1, 4, 8, stride=8))\n",
    "    for param1, param2 in zip(NN_tx.parameters(), NN_rx.parameters()):\n",
    "        param1.requires_grad = False\n",
    "        param2.requires_grad = False\n",
    "    return (NN_tx, NN_rx)"
   ]
  },
  {
   "cell_type": "code",
   "execution_count": 4,
   "id": "approved-reception",
   "metadata": {},
   "outputs": [],
   "source": [
    "symbol_set = [3, 1, -1, -3] # all symbols that we use\n",
    "num_symbols = 100000\n",
    "symbol_seq = np.random.choice(symbol_set, num_symbols, replace=True)\n",
    "m = 8\n",
    "CS = Comms_System(symbol_set=symbol_set, symbol_seq=symbol_seq, num_samples=m, beta=0.35)\n",
    "classes = np.array(symbol_set)\n",
    "\n",
    "\n",
    "Xtrain, ytrain = get_data()\n",
    "\n",
    "D = DE(objective_function=torch.nn.CrossEntropyLoss(), pop_size=20, pop_fun=make_nets, \n",
    "      X=Xtrain, y=ytrain, F=0.6, cr=0.85, use_cuda=False, SNRdb=6.5)"
   ]
  },
  {
   "cell_type": "code",
   "execution_count": null,
   "id": "allied-journalism",
   "metadata": {},
   "outputs": [],
   "source": [
    "D.evolution(num_epochs=1000, verbose=True, print_epoch=100)"
   ]
  },
  {
   "cell_type": "code",
   "execution_count": null,
   "id": "athletic-nicaragua",
   "metadata": {},
   "outputs": [],
   "source": [
    "lf_tx = list(D.best_agent[0].parameters())[0].detach()[0][0]\n",
    "lf_rx = list(D.best_agent[1].parameters())[0].detach()[0][0]\n",
    "plt.plot(lf_tx)\n",
    "plt.show()\n",
    "plt.plot(lf_rx)\n",
    "plt.show()"
   ]
  },
  {
   "cell_type": "code",
   "execution_count": null,
   "id": "verbal-portfolio",
   "metadata": {},
   "outputs": [],
   "source": [
    "# Evaluate\n",
    "\n",
    "accs = np.zeros(10)\n",
    "accs_euclid = np.zeros(10)\n",
    "NN_tx = D.best_agent[0]\n",
    "NN_rx = D.best_agent[1]\n",
    "\n",
    "for i in range(10):\n",
    "\n",
    "    SNR = 6.5\n",
    "    joint_decisions = CS.transmission(SNRdb=SNR, mode='joint', joint_cutoff=0.675, model=[NN_tx, NN_rx], lowpass='butter')\n",
    "    euclid_decisions = CS.transmission(SNRdb=SNR, mode='euclidean')\n",
    "    acc = 1 - CS.evaluate(joint_decisions)[1]\n",
    "    acc_euclid = 1 - CS.evaluate(euclid_decisions)[1]\n",
    "\n",
    "    #print('Accuracy:', acc)\n",
    "    #print('Accuracy:', 1 - CS.evaluate(euclid_decisions)[1])\n",
    "    accs[i] = acc\n",
    "    accs_euclid[i] = acc_euclid\n",
    "    \n",
    "print(np.mean(accs))\n",
    "print(np.mean(accs_euclid))"
   ]
  },
  {
   "cell_type": "code",
   "execution_count": null,
   "id": "frank-first",
   "metadata": {},
   "outputs": [],
   "source": []
  }
 ],
 "metadata": {
  "kernelspec": {
   "display_name": "Python 3",
   "language": "python",
   "name": "python3"
  },
  "language_info": {
   "codemirror_mode": {
    "name": "ipython",
    "version": 3
   },
   "file_extension": ".py",
   "mimetype": "text/x-python",
   "name": "python",
   "nbconvert_exporter": "python",
   "pygments_lexer": "ipython3",
   "version": "3.6.13"
  }
 },
 "nbformat": 4,
 "nbformat_minor": 5
}

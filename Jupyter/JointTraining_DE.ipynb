{
 "cells": [
  {
   "cell_type": "code",
   "execution_count": null,
   "id": "fantastic-drilling",
   "metadata": {},
   "outputs": [],
   "source": [
    "import sys\n",
    "sys.path.append('..')\n",
    "from Comms_System import Comms_System, SNR_plot, network_sender_receiver\n",
    "from filters import butter_lowpass, ideal_lowpass\n",
    "import numpy as np\n",
    "import matplotlib.pyplot as plt\n",
    "import torch\n",
    "#from NetworkPytorch import joint_train_loop\n",
    "from scipy import signal\n",
    "import scipy\n",
    "import torchaudio\n",
    "from scipy.stats import norm\n",
    "from commpy import rcosfilter\n",
    "#from DE_Pytorch_Joint import DE\n",
    "from DE_Pytorch_Joint_Minibatch import DE as DE_mini\n",
    "import random"
   ]
  },
  {
   "cell_type": "code",
   "execution_count": null,
   "id": "ordered-georgia",
   "metadata": {},
   "outputs": [],
   "source": [
    "def get_data():\n",
    "\n",
    "    upsampled = CS.upsample()\n",
    "    X_tx = torch.Tensor(upsampled).view(1, 1, -1)\n",
    "    classes = np.array(symbol_set)\n",
    "    y = symbol_seq\n",
    "    class_idx = {v: i for i, v in enumerate(classes)}\n",
    "    y_idx = np.array([class_idx[v] for v in y])\n",
    "    y = torch.Tensor(y_idx)\n",
    "    \n",
    "    return X_tx, y"
   ]
  },
  {
   "cell_type": "code",
   "execution_count": null,
   "id": "immune-archives",
   "metadata": {},
   "outputs": [],
   "source": [
    "def make_nets():\n",
    "    NN_tx = torch.nn.Sequential(torch.nn.Conv1d(1, 1, 64, padding=63)) # padding=len(CS.h) - 1\n",
    "    NN_rx = torch.nn.Sequential(torch.nn.Conv1d(1, 1, 64), torch.nn.Conv1d(1, 4, 8, stride=8))\n",
    "    for param1, param2 in zip(NN_tx.parameters(), NN_rx.parameters()):\n",
    "        param1.requires_grad = False\n",
    "        param2.requires_grad = False\n",
    "    return (NN_tx, NN_rx)"
   ]
  },
  {
   "cell_type": "code",
   "execution_count": null,
   "id": "approved-reception",
   "metadata": {},
   "outputs": [],
   "source": [
    "symbol_set = [3, 1, -1, -3] # all symbols that we use\n",
    "num_symbols = 100000\n",
    "symbol_seq = np.random.choice(symbol_set, num_symbols, replace=True)\n",
    "m = 8\n",
    "CS = Comms_System(symbol_set=symbol_set, symbol_seq=symbol_seq, num_samples=m, beta=0.35)\n",
    "classes = np.array(symbol_set)\n",
    "\n",
    "\n",
    "Xtrain, ytrain = get_data()\n",
    "Xtest, ytest = get_data()\n",
    "\n",
    "\n",
    "D = DE_mini(objective_function=torch.nn.CrossEntropyLoss(), pop_size=20, pop_fun=make_nets, \n",
    "     X=Xtrain, y=ytrain, Xtest=Xtest, ytest=ytest, F=0.6, cr=0.85, use_cuda=False, SNRdb=10, lowpass='butter', \n",
    "            cutoff_freq=0.675, noise='constant')\n",
    "\n",
    "#D = DE(objective_function=torch.nn.CrossEntropyLoss(), pop_size=20, pop_fun=make_nets, \n",
    "#     X=Xtrain, y=ytrain, F=0.6, cr=0.85, use_cuda=False, SNRdb=6.5, lowpass='ideal', \n",
    "#            cutoff_freq=0.6)"
   ]
  },
  {
   "cell_type": "code",
   "execution_count": null,
   "id": "44412150",
   "metadata": {},
   "outputs": [],
   "source": [
    "D.evolution(num_epochs=300, batch_size=10000, verbose=True, print_epoch=1)"
   ]
  },
  {
   "cell_type": "code",
   "execution_count": null,
   "id": "frank-first",
   "metadata": {},
   "outputs": [],
   "source": [
    "\n",
    "\n",
    "SNRdbs, euclid_er3, network_er, NN_er, block_er, joint_er_ideal, error_theory = \\\n",
    "SNR_plot(num_symbols=200000, joint_cutoff=0.675, joint_models=[NN_tx, NN_rx], lowpass='ideal', \n",
    "         range=[0, 19], num_SNRs=50) #[NN_tx, NN_rx]"
   ]
  },
  {
   "cell_type": "code",
   "execution_count": null,
   "id": "1ba53828",
   "metadata": {},
   "outputs": [],
   "source": [
    "plt.figure(figsize=(13,8))\n",
    "#plt.title('Performance of DE-Trained Networks', fontsize=20)\n",
    "plt.xlabel('SNR (dB)', fontsize=20)\n",
    "plt.ylabel('$P_e$', fontsize=24)\n",
    "num = 0\n",
    "plt.semilogy(SNRdbs[num:], euclid_er2[num:], label='Euclidean', linewidth=3)\n",
    "plt.semilogy(SNRdbs[num:], joint_er_ideal[num:], label='Joint Networks (Ideal LPF)', linewidth=3)\n",
    "plt.semilogy(SNRdbs[num:], joint_er_butter[num:], label='Joint Networks (Butter LPF)', linewidth=3)\n",
    "#plt.semilogy(SNRdbs[num:], error_theory[num:], alpha=1, label='Theory', linewidth=3)\n",
    "plt.legend(fontsize=14)\n",
    "plt.grid(True)\n",
    "plt.show()\n",
    "#plt.savefig('JointPerformanceDE5', bbox_inches='tight', transparent=True)"
   ]
  },
  {
   "cell_type": "markdown",
   "id": "b1c1ceee",
   "metadata": {},
   "source": [
    "## Plot Full Response"
   ]
  },
  {
   "cell_type": "code",
   "execution_count": null,
   "id": "e1cd7391",
   "metadata": {},
   "outputs": [],
   "source": [
    "lowpass = 'butter'\n",
    "cutoff = 0.675\n",
    "\n",
    "CS = Comms_System(symbol_set=symbol_set, symbol_seq=symbol_seq, num_samples=m, beta=0.35)\n",
    "b, a = butter_lowpass(cutoff_freq=cutoff, sampling_rate=CS.m, order=10)\n",
    "learned_tx_filter = np.array(list(NN_tx.parameters())[0].detach()[0][0])\n",
    "learned_rx_filter = np.array(list(NN_rx.parameters())[0].detach()[0][0])\n",
    "if lowpass == 'butter':\n",
    "    total_sender_response = scipy.signal.filtfilt(b, a, learned_tx_filter)\n",
    "elif lowpass == 'ideal':\n",
    "    total_sender_response = ideal_lowpass(learned_tx_filter, cutoff, CS.m)\n",
    "total_sender_response = total_sender_response / np.sqrt(np.sum(np.square(total_sender_response))) # normalize\n",
    "full_response = np.convolve(total_sender_response, learned_rx_filter)\n",
    "full_response = full_response / np.sqrt(np.sum(np.square(full_response))) # normalize\n",
    "raised = np.convolve(CS.h, CS.h)\n",
    "#raised = rcosfilter(N=127, alpha=0.35, Ts=1, Fs=m)[1]\n",
    "raised /= np.sqrt(np.sum(np.square(raised)))\n",
    "\n",
    "\n",
    "figsize = (13, 8)\n",
    "plt.figure(figsize=figsize)\n",
    "plt.title('Full Response of System (Time)', fontsize=16)\n",
    "plt.plot(-full_response, label='Learned Full Response')\n",
    "plt.plot(raised, label='Raised Cosine')\n",
    "plt.ylabel('Amplitude', fontsize=16)\n",
    "plt.grid(True)\n",
    "plt.legend(fontsize=14)\n",
    "plt.show()\n",
    "\n",
    "plt.figure(figsize=figsize)\n",
    "plt.title('Full Response (Frequency)', fontsize=20)\n",
    "plt.magnitude_spectrum(full_response, Fs=8, scale='dB', sides='twosided', color='C1', label='Learned Full Response')\n",
    "plt.magnitude_spectrum(raised, Fs=8, scale='dB', sides='twosided', color='C2', label='Raised Cosine')\n",
    "plt.xlabel('Frequency', fontsize=16)\n",
    "plt.ylabel('Magnitude (dB)', fontsize=16)\n",
    "plt.ylim([-130, 0])\n",
    "plt.xlim([-2, 2])\n",
    "plt.legend(fontsize=14)\n",
    "plt.grid(True)\n",
    "plt.show()"
   ]
  },
  {
   "cell_type": "markdown",
   "id": "9dee2976",
   "metadata": {},
   "source": [
    "## Plot Sender Response and Weights"
   ]
  },
  {
   "cell_type": "code",
   "execution_count": null,
   "id": "a57c7f49",
   "metadata": {},
   "outputs": [],
   "source": [
    "figsize = (13, 8)\n",
    "print(lowpass)\n",
    "\n",
    "plt.figure(figsize=figsize)\n",
    "plt.title('Full Sender Response (Time)', fontsize=20)\n",
    "plt.plot(total_sender_response)\n",
    "plt.ylabel('Amplitude', fontsize=16)\n",
    "plt.show()\n",
    "\n",
    "plt.figure(figsize=figsize)\n",
    "plt.title('Full Sender Response (Frequency)', fontsize=20)\n",
    "plt.magnitude_spectrum(total_sender_response, Fs=8, scale='dB', sides='twosided', color='C1')\n",
    "plt.xlabel('Frequency', fontsize=16)\n",
    "plt.ylabel('Magnitude (dB)', fontsize=16)\n",
    "plt.ylim([-130, 0])\n",
    "plt.show()\n",
    "\n",
    "plt.title('Learned Sender Filter')\n",
    "plt.plot(learned_tx_filter)\n",
    "plt.show()\n",
    "plt.title('Learned Receiver Filter')\n",
    "plt.plot(learned_rx_filter)\n",
    "plt.show()"
   ]
  }
 ],
 "metadata": {
  "kernelspec": {
   "display_name": "Python 3 (ipykernel)",
   "language": "python",
   "name": "python3"
  },
  "language_info": {
   "codemirror_mode": {
    "name": "ipython",
    "version": 3
   },
   "file_extension": ".py",
   "mimetype": "text/x-python",
   "name": "python",
   "nbconvert_exporter": "python",
   "pygments_lexer": "ipython3",
   "version": "3.8.12"
  }
 },
 "nbformat": 4,
 "nbformat_minor": 5
}

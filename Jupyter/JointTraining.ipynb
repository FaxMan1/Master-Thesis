{
 "cells": [
  {
   "cell_type": "code",
   "execution_count": null,
   "id": "southwest-omaha",
   "metadata": {},
   "outputs": [],
   "source": [
    "import sys\n",
    "sys.path.append('..')\n",
    "from Comms_System import Comms_System, SNR_plot, network_sender_receiver\n",
    "from filters import butter_lowpass, ideal_lowpass, ideal_lowpass_torch\n",
    "import numpy as np\n",
    "import matplotlib.pyplot as plt\n",
    "import torch\n",
    "from NetworkPytorch import joint_train_loop\n",
    "from DE_Pytorch import DE\n",
    "from scipy import signal\n",
    "import scipy\n",
    "import torchaudio\n",
    "from scipy.stats import norm\n",
    "from commpy import rcosfilter\n",
    "import pandas as pd "
   ]
  },
  {
   "cell_type": "code",
   "execution_count": null,
   "id": "positive-newfoundland",
   "metadata": {},
   "outputs": [],
   "source": [
    "def get_data():\n",
    "\n",
    "    upsampled = CS.upsample()\n",
    "    X_tx = torch.Tensor(upsampled).view(1, 1, -1)\n",
    "    classes = np.array(symbol_set)\n",
    "    y = symbol_seq\n",
    "    class_idx = {v: i for i, v in enumerate(classes)}\n",
    "    y_idx = np.array([class_idx[v] for v in y])\n",
    "    y = torch.Tensor(y_idx)\n",
    "    \n",
    "    return X_tx, y"
   ]
  },
  {
   "cell_type": "code",
   "execution_count": null,
   "id": "brown-leadership",
   "metadata": {},
   "outputs": [],
   "source": [
    "symbol_set = [3, 1, -1, -3] # all symbols that we use\n",
    "num_symbols = 1000000\n",
    "symbol_seq = np.random.choice(symbol_set, num_symbols, replace=True)\n",
    "m = 8\n",
    "CS = Comms_System(symbol_set=symbol_set, symbol_seq=symbol_seq, num_samples=m, beta=0.35)\n",
    "\n",
    "# Create 1D Convolutional Neural Networks for transmitter and receiver and define optimizer and loss\n",
    "# Remember to double check padding and general design of NN_tx and NN_rx\n",
    "\n",
    "Xtrain, ytrain = get_data()\n",
    "Xtest, ytest = get_data()\n",
    "\n",
    "NN_tx = torch.nn.Sequential(torch.nn.Conv1d(1, 1, 64, padding=len(CS.h)-1)) # padding=len(CS.h) - 1\n",
    "NN_rx = torch.nn.Sequential(torch.nn.Conv1d(1, 1, 64), torch.nn.Conv1d(1, 4, 8, stride=8))\n",
    "criterion = torch.nn.CrossEntropyLoss()\n",
    "params = list(NN_tx.parameters()) + list(NN_rx.parameters())\n",
    "optimizer = torch.optim.Adam(params, lr=1e-2)"
   ]
  },
  {
   "cell_type": "code",
   "execution_count": null,
   "id": "b87549b8",
   "metadata": {
    "scrolled": true
   },
   "outputs": [],
   "source": [
    "# Joint train sender and receiver NN using Backpropagation\n",
    "\n",
    "epoch_losses = joint_train_loop(NN_tx, NN_rx, Xtrain, ytrain, optimizer, criterion, sample_rate=CS.m, \n",
    "                                epochs=500, cutoff_freq=0.57, v=True, use_cuda=False, SNRdb=6.5, plot_iteration=50,\n",
    "                               lowpass='butter')\n",
    "\n",
    "plt.figure(figsize=(13, 8))\n",
    "plt.plot(epoch_losses.to('cpu'))\n",
    "plt.show()"
   ]
  },
  {
   "cell_type": "code",
   "execution_count": null,
   "id": "protecting-vegetation",
   "metadata": {},
   "outputs": [],
   "source": [
    "# Evaluate\n",
    "symbol_set = [3, 1, -1, -3] # all symbols that we use\n",
    "num_symbols = 10000\n",
    "symbol_seq = np.random.choice(symbol_set, num_symbols, replace=True)\n",
    "m = 8\n",
    "CS = Comms_System(symbol_set=symbol_set, symbol_seq=symbol_seq, num_samples=m, beta=0.35)\n",
    "NN_tx.to('cpu')\n",
    "NN_rx.to('cpu')\n",
    "accs = np.zeros(10)\n",
    "accs_euclid = np.zeros(10)\n",
    "\n",
    "for i in range(10):\n",
    "\n",
    "    SNR = 6.5\n",
    "    joint_decisions = CS.transmission(SNRdb=SNR, mode='joint', joint_cutoff=0.675, model=[NN_tx, NN_rx], lowpass='ideal')\n",
    "    euclid_decisions = CS.transmission(SNRdb=SNR, mode='euclidean')\n",
    "    acc = 1 - CS.evaluate(joint_decisions)[1]\n",
    "    acc_euclid = 1 - CS.evaluate(euclid_decisions)[1]\n",
    "\n",
    "    #print('Accuracy:', acc)\n",
    "    #print('Accuracy:', 1 - CS.evaluate(euclid_decisions)[1])\n",
    "    accs[i] = acc\n",
    "    accs_euclid[i] = acc_euclid\n",
    "    \n",
    "print(np.mean(accs))\n",
    "print(np.mean(accs_euclid))"
   ]
  },
  {
   "cell_type": "code",
   "execution_count": null,
   "id": "arctic-bulletin",
   "metadata": {},
   "outputs": [],
   "source": [
    "SNRdbs, euclid_er, network_er, NN_er, block_er, joint_er, error_theory = \\\n",
    "SNR_plot(num_symbols=10000, joint_cutoff=0.57, joint_models=[NN_tx, NN_rx], lowpass='butterfiltfilt', \n",
    "         range=[0, 19], num_SNRs=30) #[NN_tx, NN_rx]"
   ]
  },
  {
   "cell_type": "code",
   "execution_count": null,
   "id": "refined-photographer",
   "metadata": {},
   "outputs": [],
   "source": [
    "plt.figure(figsize=(13,8))\n",
    "#plt.title('Noise Plot', fontsize=24)\n",
    "plt.xlabel('SNR (dB)', fontsize=20)\n",
    "plt.ylabel('$P_e$', fontsize=24)\n",
    "num = 0\n",
    "plt.semilogy(SNRdbs[num:], euclid_er[num:], label='Euclidean', linewidth=3)\n",
    "#plt.semilogy(SNRdbs[num:], NN_er[num:], label='NN Dec Maker')\n",
    "#plt.semilogy(SNRdbs[num:], block_er[num:], label='Block')\n",
    "#plt.semilogy(SNRdbs[num:], network_er[num:], label='Receiver Network')\n",
    "plt.semilogy(SNRdbs[num:], joint_er[num:], label='Joint Networks (Butter LPF 0.57)', linewidth=3)\n",
    "#plt.semilogy(SNRdbs[num:], joint_er_butter[num:], label='Joint Networks (Butterworth 0.57)', linewidth=3)\n",
    "\n",
    "#plt.semilogy(SNRdbs[num:], error_theory[num:], alpha=1, label='Theory', linewidth=3)\n",
    "plt.legend(fontsize=14)\n",
    "plt.grid(True)\n",
    "plt.show()\n",
    "#plt.savefig('JointPerformanceAll', bbox_inches='tight', transparent=True)"
   ]
  },
  {
   "cell_type": "markdown",
   "id": "e18b4fe8",
   "metadata": {},
   "source": [
    "## The Models:"
   ]
  },
  {
   "cell_type": "code",
   "execution_count": null,
   "id": "77a035b9",
   "metadata": {},
   "outputs": [],
   "source": [
    "use_case = 'butter0.57'\n",
    "\n",
    "\n",
    "\n",
    "if use_case == 'butter0.57':\n",
    "\n",
    "    NN_tx = torch.load('../Joint_Models/SenderButter0.57')\n",
    "    NN_rx = torch.load('../Joint_Models/ReceiverButter0.57')\n",
    "    cutoff = 0.57\n",
    "    lowpass = 'butter'\n",
    "    \n",
    "elif use_case == 'ideal0.675':\n",
    "\n",
    "    NN_tx = torch.load('../Joint_Models/SenderIdeal0.675')\n",
    "    NN_rx = torch.load('../Joint_Models/ReceiverIdeal0.675')\n",
    "    cutoff = 0.675\n",
    "    lowpass = 'ideal'\n",
    "    \n",
    "elif use_case == 'butter0.675':\n",
    "\n",
    "    NN_tx = torch.load('../Joint_Models/SenderButter0.675')\n",
    "    NN_rx = torch.load('../Joint_Models/ReceiverButter0.675')\n",
    "    cutoff = 0.675\n",
    "    lowpass = 'butter'\n",
    "    \n",
    "elif use_case == 'ideal0.57':\n",
    "    \n",
    "    NN_tx = torch.load('../Joint_Models/SenderIdeal0.57')\n",
    "    NN_rx = torch.load('../Joint_Models/ReceiverIdeal0.57')\n",
    "    cutoff = 0.57\n",
    "    lowpass = 'ideal'"
   ]
  },
  {
   "cell_type": "code",
   "execution_count": null,
   "id": "670eb4d5",
   "metadata": {},
   "outputs": [],
   "source": [
    "CS = Comms_System(symbol_set=symbol_set, symbol_seq=symbol_seq, num_samples=m, beta=0.35)\n",
    "b, a = butter_lowpass(cutoff_freq=cutoff, sampling_rate=CS.m, order=10)\n",
    "learned_tx_filter = np.array(list(NN_tx.parameters())[0].detach()[0][0])\n",
    "learned_rx_filter = np.array(list(NN_rx.parameters())[0].detach()[0][0])\n",
    "if lowpass == 'butter':\n",
    "    total_sender_response = scipy.signal.filtfilt(b, a, learned_tx_filter)\n",
    "elif lowpass == 'ideal':\n",
    "    total_sender_response = ideal_lowpass(learned_tx_filter, cutoff, CS.m)\n",
    "total_sender_response = total_sender_response / np.sqrt(np.sum(np.square(total_sender_response))) # normalize\n",
    "full_response = np.convolve(total_sender_response, learned_rx_filter)\n",
    "full_response = full_response / np.sqrt(np.sum(np.square(full_response))) # normalize\n",
    "raised = np.convolve(CS.h, CS.h)\n",
    "#raised = rcosfilter(N=127, alpha=0.35, Ts=1, Fs=m)[1]\n",
    "raised /= np.sqrt(np.sum(np.square(raised)))\n",
    "\n",
    "\n",
    "figsize = (13, 8)\n",
    "plt.figure(figsize=figsize)\n",
    "plt.title('Full Reponse of System (Time)', fontsize=16)\n",
    "plt.plot(full_response, label='Learned Full Response')\n",
    "plt.plot(raised, label='Raised Cosine')\n",
    "plt.ylabel('Amplitude', fontsize=16)\n",
    "plt.grid(True)\n",
    "plt.legend(fontsize=14)\n",
    "plt.show()\n",
    "\n",
    "plt.figure(figsize=figsize)\n",
    "plt.title('Full Sender Response (Frequency)', fontsize=20)\n",
    "plt.magnitude_spectrum(full_response, Fs=8, scale='dB', sides='twosided', color='C1', label='Learned Full Response')\n",
    "plt.magnitude_spectrum(raised, Fs=8, scale='dB', sides='twosided', color='C2', label='Raised Cosine')\n",
    "plt.xlabel('Frequency', fontsize=16)\n",
    "plt.ylabel('Magnitude (dB)', fontsize=16)\n",
    "plt.ylim([-130, 0])\n",
    "plt.xlim([-2, 2])\n",
    "plt.legend(fontsize=14)\n",
    "plt.grid(True)\n",
    "plt.show()"
   ]
  },
  {
   "cell_type": "markdown",
   "id": "10e8ae10",
   "metadata": {},
   "source": [
    "## Plot Sender Response"
   ]
  },
  {
   "cell_type": "code",
   "execution_count": null,
   "id": "ca860e6d",
   "metadata": {},
   "outputs": [],
   "source": [
    "figsize = (13, 8)\n",
    "cutoff = 0.675\n",
    "b, a = butter_lowpass(cutoff_freq=cutoff, sampling_rate=CS.m, order=10)\n",
    "learned_filter = list(NN_tx.parameters())[0].detach()[0][0]\n",
    "learned_filter = learned_filter / torch.sqrt(torch.sum(torch.square(learned_filter))) # normalize\n",
    "total_sender_response = scipy.signal.filtfilt(b, a, learned_filter)\n",
    "total_sender_response = total_sender_response / np.sqrt(np.sum(np.square(total_sender_response))) # normalize\n",
    "\n",
    "plt.figure(figsize=figsize)\n",
    "plt.title('Full Sender Response (Time)', fontsize=20)\n",
    "plt.plot(total_sender_response)\n",
    "plt.ylabel('Amplitude', fontsize=16)\n",
    "plt.show()\n",
    "\n",
    "plt.figure(figsize=figsize)\n",
    "plt.title('Full Sender Response (Frequency)', fontsize=20)\n",
    "plt.magnitude_spectrum(total_sender_response, Fs=8, scale='dB', sides='twosided', color='C1')\n",
    "plt.xlabel('Frequency', fontsize=16)\n",
    "plt.ylabel('Magnitude (dB)', fontsize=16)\n",
    "plt.ylim([-130, 0])\n",
    "plt.show()"
   ]
  },
  {
   "cell_type": "code",
   "execution_count": null,
   "id": "de26dc29",
   "metadata": {},
   "outputs": [],
   "source": []
  }
 ],
 "metadata": {
  "kernelspec": {
   "display_name": "Python 3 (ipykernel)",
   "language": "python",
   "name": "python3"
  },
  "language_info": {
   "codemirror_mode": {
    "name": "ipython",
    "version": 3
   },
   "file_extension": ".py",
   "mimetype": "text/x-python",
   "name": "python",
   "nbconvert_exporter": "python",
   "pygments_lexer": "ipython3",
   "version": "3.8.12"
  }
 },
 "nbformat": 4,
 "nbformat_minor": 5
}

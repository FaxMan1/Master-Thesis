{
 "cells": [
  {
   "cell_type": "code",
   "execution_count": null,
   "id": "southwest-omaha",
   "metadata": {},
   "outputs": [],
   "source": [
    "import sys\n",
    "sys.path.append('..')\n",
    "from Comms_System import Comms_System, SNR_plot, network_sender_receiver\n",
    "from filters import butter_lowpass\n",
    "import numpy as np\n",
    "import matplotlib.pyplot as plt\n",
    "import torch\n",
    "from NetworkPytorch import joint_train_loop\n",
    "from DE_Pytorch import DE\n",
    "from scipy import signal\n",
    "import scipy\n",
    "import torchaudio\n",
    "from scipy.stats import norm"
   ]
  },
  {
   "cell_type": "code",
   "execution_count": null,
   "id": "positive-newfoundland",
   "metadata": {},
   "outputs": [],
   "source": [
    "def get_data():\n",
    "\n",
    "    upsampled = CS.upsample()\n",
    "    X_tx = torch.Tensor(upsampled).view(1, 1, -1)\n",
    "    classes = np.array(symbol_set)\n",
    "    y = symbol_seq\n",
    "    class_idx = {v: i for i, v in enumerate(classes)}\n",
    "    y_idx = np.array([class_idx[v] for v in y])\n",
    "    y = torch.Tensor(y_idx)\n",
    "    \n",
    "    return X_tx, y"
   ]
  },
  {
   "cell_type": "code",
   "execution_count": null,
   "id": "brown-leadership",
   "metadata": {},
   "outputs": [],
   "source": [
    "symbol_set = [3, 1, -1, -3] # all symbols that we use\n",
    "num_symbols = 10000\n",
    "symbol_seq = np.random.choice(symbol_set, num_symbols, replace=True)\n",
    "m = 8\n",
    "CS = Comms_System(symbol_set=symbol_set, symbol_seq=symbol_seq, num_samples=m, beta=0.35)\n",
    "\n",
    "# Create 1D Convolutional Neural Networks for transmitter and receiver and define optimizer and loss\n",
    "# Remember to double check padding and general design of NN_tx and NN_rx\n",
    "\n",
    "Xtrain, ytrain = get_data()\n",
    "Xtest, ytest = get_data()\n",
    "\n",
    "NN_tx = torch.nn.Sequential(torch.nn.Conv1d(1, 1, 64, padding=len(CS.h)-1)) # padding=len(CS.h) - 1\n",
    "NN_rx = torch.nn.Sequential(torch.nn.Conv1d(1, 1, 64), torch.nn.Conv1d(1, 4, 8, stride=8))\n",
    "criterion = torch.nn.CrossEntropyLoss()\n",
    "params = list(NN_tx.parameters()) + list(NN_rx.parameters())\n",
    "optimizer = torch.optim.Adam(params, lr=1e-3)"
   ]
  },
  {
   "cell_type": "code",
   "execution_count": null,
   "id": "b87549b8",
   "metadata": {
    "scrolled": false
   },
   "outputs": [],
   "source": [
    "# Joint train sender and receiver NN using Backpropagation\n",
    "\n",
    "epoch_losses = joint_train_loop(NN_tx, NN_rx, Xtrain, ytrain, optimizer, criterion, sample_rate=CS.m, \n",
    "                                epochs=1000, cutoff_freq=0.5, v=True, use_cuda=False, SNRdb=10, plot_iteration=100,\n",
    "                               lowpass='ideal')\n",
    "\n",
    "plt.figure(figsize=(13, 8))\n",
    "plt.plot(epoch_losses.to('cpu'))\n",
    "plt.show()"
   ]
  },
  {
   "cell_type": "code",
   "execution_count": null,
   "id": "protecting-vegetation",
   "metadata": {},
   "outputs": [],
   "source": [
    "# Evaluate\n",
    "\n",
    "SNR = 10\n",
    "joint_decisions = CS.transmission(SNRdb=SNR, mode='joint', joint_cutoff=0.5, model=[NN_tx, NN_rx], lowpass='ideal')\n",
    "print('Accuracy:', 1 - CS.evaluate(joint_decisions)[1])"
   ]
  },
  {
   "cell_type": "code",
   "execution_count": null,
   "id": "unlike-distinction",
   "metadata": {},
   "outputs": [],
   "source": [
    "SNRdbs, euclid_er, network_er, NN_er, block_er, joint_er,  error_theory = \\\n",
    "SNR_plot(num_symbols=10000, joint_cutoff=0.5, joint_models=[NN_tx, NN_rx], lowpass='ideal') #[NN_tx, NN_rx]\n",
    "                                                                                          \n",
    "\n",
    "plt.figure(figsize=(18,11))\n",
    "plt.title('Noise Plot', fontsize=24)\n",
    "plt.xlabel('SNR (dB)', fontsize=20)\n",
    "plt.ylabel('$P_e$', fontsize=20)\n",
    "num = 0\n",
    "plt.semilogy(SNRdbs[num:], euclid_er[num:])\n",
    "#plt.semilogy(SNRdbs[num:], NN_er[num:])\n",
    "#plt.semilogy(SNRdbs[num:], block_er[num:])\n",
    "plt.semilogy(SNRdbs[num:], network_er[num:])\n",
    "plt.semilogy(SNRdbs[num:], joint_er[num:], alpha=1)\n",
    "plt.semilogy(SNRdbs[num:], error_theory[num:], alpha=1)\n",
    "legend0 = ['Receiver Network', 'Theory']\n",
    "legend1 = ['Euclidean', 'Receiver Network', 'Joint Networks', 'Theory']\n",
    "legend2 = ['Euclidean', 'NN Dec Maker', 'Block', 'Receiver Network', 'Joint Networks', 'Theory']\n",
    "plt.legend(legend1, fontsize=16)\n",
    "plt.show()"
   ]
  },
  {
   "cell_type": "code",
   "execution_count": null,
   "id": "exempt-playlist",
   "metadata": {},
   "outputs": [],
   "source": []
  }
 ],
 "metadata": {
  "kernelspec": {
   "display_name": "Python 3",
   "language": "python",
   "name": "python3"
  },
  "language_info": {
   "codemirror_mode": {
    "name": "ipython",
    "version": 3
   },
   "file_extension": ".py",
   "mimetype": "text/x-python",
   "name": "python",
   "nbconvert_exporter": "python",
   "pygments_lexer": "ipython3",
   "version": "3.6.13"
  }
 },
 "nbformat": 4,
 "nbformat_minor": 5
}

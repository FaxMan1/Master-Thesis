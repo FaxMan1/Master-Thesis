{
 "cells": [
  {
   "cell_type": "code",
   "execution_count": null,
   "id": "southwest-omaha",
   "metadata": {},
   "outputs": [],
   "source": [
    "import sys\n",
    "sys.path.append('..')\n",
    "from Comms_System import Comms_System, butter_lowpass\n",
    "import numpy as np\n",
    "import matplotlib.pyplot as plt\n",
    "import torch\n",
    "from NetworkPytorch import joint_train_loop\n",
    "from DE_Pytorch import DE\n",
    "from scipy import signal\n",
    "import scipy\n",
    "import torchaudio"
   ]
  },
  {
   "cell_type": "code",
   "execution_count": null,
   "id": "closed-variation",
   "metadata": {},
   "outputs": [],
   "source": [
    "# Create Data\n",
    "\n",
    "def get_data(num_symbols=10000):\n",
    "\n",
    "    symbol_set = [3, 1, -1, -3] # all symbols that we use\n",
    "    symbol_seq = np.random.choice(symbol_set, num_symbols, replace=True)\n",
    "    m = 8\n",
    "    CS = Comms_System(symbol_set=symbol_set, symbol_seq=symbol_seq, num_samples=m, beta=0.35)\n",
    "\n",
    "    upsampled = CS.upsample()\n",
    "    X_tx = torch.Tensor(upsampled).view(1, 1, -1)\n",
    "\n",
    "    classes = np.array(symbol_set)\n",
    "    y = symbol_seq\n",
    "    class_idx = {v: i for i, v in enumerate(classes)}\n",
    "    y_idx = np.array([class_idx[v] for v in y])\n",
    "    y = torch.Tensor(y_idx)\n",
    "    \n",
    "    return X_tx, y, CS"
   ]
  },
  {
   "cell_type": "code",
   "execution_count": null,
   "id": "brown-leadership",
   "metadata": {},
   "outputs": [],
   "source": [
    "# Create 1D Convolutional Neural Networks for transmitter and receiver and define optimizer and loss\n",
    "\n",
    "Xtrain, ytrain, CS = get_data(num_symbols=10000)\n",
    "\n",
    "NN_tx = torch.nn.Sequential(torch.nn.Conv1d(1, 1, 64, padding=len(CS.h)-1)) # padding=len(CS.h) - 1\n",
    "NN_rx = torch.nn.Sequential(torch.nn.Conv1d(1, 1, 64), torch.nn.Conv1d(1, 4, 8, stride=8))\n",
    "criterion = torch.nn.CrossEntropyLoss()\n",
    "params = list(NN_tx.parameters()) + list(NN_rx.parameters())\n",
    "optimizer = torch.optim.Adam(params, lr=1e-3)"
   ]
  },
  {
   "cell_type": "code",
   "execution_count": null,
   "id": "b87549b8",
   "metadata": {},
   "outputs": [],
   "source": [
    "# Joint train sender and receiver NN using Backpropagation\n",
    "\n",
    "epoch_losses = joint_train_loop(NN_tx, NN_rx, Xtrain, ytrain, optimizer, criterion, lowpass=False,\n",
    "                                sample_rate=CS.m, epochs=3000, cutoff_freq=3, v=True, use_cuda=True)\n",
    "\n",
    "plt.figure(figsize=(13, 8))\n",
    "plt.plot(epoch_losses.to('cpu'))\n",
    "plt.show()"
   ]
  },
  {
   "cell_type": "code",
   "execution_count": null,
   "id": "rapid-production",
   "metadata": {},
   "outputs": [],
   "source": [
    "# Evaluate\n",
    "\n",
    "def evaluate_yo(sigma, Xtest, ytest, CStest, cutoff_freq):\n",
    "\n",
    "    #Xtest, ytest, CStest = get_data(num_symbols=100000)\n",
    "    classes = np.array(CStest.symbol_set)\n",
    "    #sigma = 2\n",
    "\n",
    "    use_lowpass = False\n",
    "\n",
    "    # upsample symbol sequence and filter it on transmission side VIA a neural network\n",
    "    upsampled = CStest.upsample()\n",
    "    upsampled = torch.tensor(upsampled).view(1, 1, -1).float()\n",
    "\n",
    "    Tx = NN_tx(upsampled)\n",
    "    Tx = Tx + torch.normal(0.0, sigma, Tx.shape)\n",
    "    gain_factor = Tx**2\n",
    "    Tx = Tx/gain_factor\n",
    "\n",
    "    if use_lowpass:\n",
    "\n",
    "        #Send filtered signal through lowpass filter\n",
    "        b, a = butter_lowpass(cutoff_freq, CStest.m, 4)\n",
    "        Tx = signal.lfilter(b, a, Tx.detach())\n",
    "        Tx = Tx + np.random.normal(0.0, sigma, Tx.shape)  # add gaussian noise\n",
    "        Tx = torch.Tensor(Tx)\n",
    "\n",
    "    output = NN_rx(Tx)[0].T\n",
    "    decisions = classes[output.argmax(axis=1)]\n",
    "    \n",
    "    return CStest.evaluate(decisions)[1]\n",
    "\n",
    "    #print('Acc:', 1 - CS.evaluate(decisions)[1])\n",
    "    \n",
    "Xtest, ytest, CStest = get_data(num_symbols=1000)\n",
    "evaluate_yo(2, Xtest, ytest, CStest, 2)"
   ]
  },
  {
   "cell_type": "code",
   "execution_count": null,
   "id": "cooked-neighborhood",
   "metadata": {},
   "outputs": [],
   "source": [
    "Xtest, ytest, CStest = get_data(num_symbols=10000)\n",
    "\n",
    "sigmas = np.linspace(0.75, 4.5, 50) #sigmas = np.linspace(2.5, 4.5, 500)#\n",
    "SNRs = []\n",
    "error_rates_joint = []\n",
    "error_rates_euclid = []\n",
    "avg_symbol_energy = np.mean(np.array(CStest.symbol_seq)**2)\n",
    "#gain_factor = np.max(np.convolve(CS.h, CS.h))\n",
    "\n",
    "for sigma in sigmas:\n",
    "\n",
    "    error_rates_joint.append( evaluate_yo(sigma, Xtest, ytest, CStest, 2) )\n",
    "    received_symbols_euclid = CStest.transmission(mode='euclidean', noise_level=sigma)\n",
    "    SNRs.append(avg_symbol_energy/(sigma**2))\n",
    "    error_rates_euclid.append(CStest.evaluate(received_symbols_euclid)[1])\n",
    "\n",
    "SNRsDB = 10*np.log10(SNRs)\n",
    "error_rates_joint = np.array(error_rates_joint)\n",
    "error_rates_euclid = np.array(error_rates_euclid)\n",
    "error_theory = 1.5 * (1 - scipy.stats.norm.cdf(np.sqrt(gain_factor/sigmas**2)))"
   ]
  },
  {
   "cell_type": "code",
   "execution_count": null,
   "id": "internal-poultry",
   "metadata": {},
   "outputs": [],
   "source": [
    "plt.figure(figsize=(13,8))\n",
    "plt.title('Decision-Making Noise Plots', fontsize=24)\n",
    "plt.xlabel('SNR (dB)', fontsize=20)\n",
    "plt.ylabel('$P_e$', fontsize=20)\n",
    "num = 0\n",
    "plt.semilogy(SNRsDB[num:], error_rates_euclid[num:])\n",
    "plt.semilogy(SNRsDB[num:], error_rates_joint[num:])\n",
    "plt.semilogy(SNRsDB[num:], error_theory[num:])\n",
    "legend = ['Euclidean', 'Sender AND Receiver Network', 'Theory']\n",
    "plt.legend(legend, fontsize=16)\n",
    "#plt.ylim([1e-3, 1])\n",
    "plt.show()"
   ]
  },
  {
   "cell_type": "code",
   "execution_count": null,
   "id": "extended-guide",
   "metadata": {},
   "outputs": [],
   "source": []
  }
 ],
 "metadata": {
  "kernelspec": {
   "display_name": "Python 3 (ipykernel)",
   "language": "python",
   "name": "python3"
  },
  "language_info": {
   "codemirror_mode": {
    "name": "ipython",
    "version": 3
   },
   "file_extension": ".py",
   "mimetype": "text/x-python",
   "name": "python",
   "nbconvert_exporter": "python",
   "pygments_lexer": "ipython3",
   "version": "3.8.12"
  }
 },
 "nbformat": 4,
 "nbformat_minor": 5
}

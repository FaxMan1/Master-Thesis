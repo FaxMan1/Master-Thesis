{
 "cells": [
  {
   "cell_type": "code",
   "execution_count": 1,
   "id": "public-companion",
   "metadata": {},
   "outputs": [],
   "source": [
    "import sys\n",
    "import numpy as np\n",
    "sys.path.append('../DE_PyCharm')\n",
    "from Comms_System import Comms_System\n",
    "from train_decision_making import train_DM_model\n",
    "#from DE_minibatch import DE\n",
    "from DE import DE\n",
    "from objective_functions import MSE\n",
    "from objective_functions import crossEntropy\n",
    "from objective_functions import crossEntropyPytorch\n",
    "from Network import NeuralNetwork\n",
    "import matplotlib.pyplot as plt\n",
    "import scipy.stats\n",
    "from objective_functions import stablesoftmax as softmax"
   ]
  },
  {
   "cell_type": "markdown",
   "id": "fifteen-shepherd",
   "metadata": {},
   "source": [
    "# Train Model"
   ]
  },
  {
   "cell_type": "code",
   "execution_count": 3,
   "id": "packed-hands",
   "metadata": {},
   "outputs": [
    {
     "name": "stdout",
     "output_type": "stream",
     "text": [
      "0: cost= 0.41662\n",
      "0: testcost= 0.40815\n",
      "\n",
      "100: cost= 0.21366\n",
      "100: testcost= 0.18666\n",
      "\n",
      "200: cost= 0.21366\n",
      "200: testcost= 0.18666\n",
      "\n",
      "300: cost= 0.21366\n",
      "300: testcost= 0.18666\n",
      "\n",
      "400: cost= 0.21366\n",
      "400: testcost= 0.18666\n",
      "\n",
      "500: cost= 0.21366\n",
      "500: testcost= 0.18666\n",
      "\n",
      "600: cost= 0.21366\n",
      "600: testcost= 0.18666\n",
      "\n",
      "700: cost= 0.21366\n",
      "700: testcost= 0.18666\n",
      "\n",
      "800: cost= 0.21366\n",
      "800: testcost= 0.18666\n",
      "\n",
      "900: cost= 0.21366\n",
      "900: testcost= 0.18666\n",
      "\n",
      "1000: cost= 0.21366\n",
      "1000: testcost= 0.18666\n",
      "\n",
      "1100: cost= 0.21366\n",
      "1100: testcost= 0.18666\n",
      "\n",
      "1200: cost= 0.21366\n",
      "1200: testcost= 0.18666\n",
      "\n",
      "1300: cost= 0.21366\n",
      "1300: testcost= 0.18666\n",
      "\n",
      "1400: cost= 0.21366\n",
      "1400: testcost= 0.18666\n",
      "\n",
      "1500: cost= 0.19891\n",
      "1500: testcost= 0.17527\n",
      "\n",
      "1600: cost= 0.19887\n",
      "1600: testcost= 0.17696\n",
      "\n",
      "1700: cost= 0.19887\n",
      "1700: testcost= 0.17696\n",
      "\n",
      "1800: cost= 0.19887\n",
      "1800: testcost= 0.17696\n",
      "\n",
      "1900: cost= 0.19887\n",
      "1900: testcost= 0.17696\n",
      "\n",
      "2000: cost= 0.19887\n",
      "2000: testcost= 0.17696\n",
      "\n",
      "2100: cost= 0.19887\n",
      "2100: testcost= 0.17696\n",
      "\n",
      "2200: cost= 0.19887\n",
      "2200: testcost= 0.17696\n",
      "\n",
      "2300: cost= 0.19887\n",
      "2300: testcost= 0.17696\n",
      "\n",
      "2400: cost= 0.19887\n",
      "2400: testcost= 0.17696\n",
      "\n",
      "2500: cost= 0.19887\n",
      "2500: testcost= 0.17696\n",
      "\n",
      "2600: cost= 0.19887\n",
      "2600: testcost= 0.17696\n",
      "\n",
      "2700: cost= 0.19835\n",
      "2700: testcost= 0.17553\n",
      "\n",
      "2800: cost= 0.19835\n",
      "2800: testcost= 0.17553\n",
      "\n",
      "2900: cost= 0.19835\n",
      "2900: testcost= 0.17553\n",
      "\n",
      "3000: cost= 0.19835\n",
      "3000: testcost= 0.17553\n",
      "\n",
      "3100: cost= 0.19835\n",
      "3100: testcost= 0.17553\n",
      "\n",
      "3200: cost= 0.19537\n",
      "3200: testcost= 0.17181\n",
      "\n",
      "3300: cost= 0.19537\n",
      "3300: testcost= 0.17181\n",
      "\n",
      "3400: cost= 0.19397\n",
      "3400: testcost= 0.17311\n",
      "\n",
      "3500: cost= 0.19397\n",
      "3500: testcost= 0.17311\n",
      "\n",
      "3600: cost= 0.19397\n",
      "3600: testcost= 0.17311\n",
      "\n",
      "3700: cost= 0.19397\n",
      "3700: testcost= 0.17311\n",
      "\n",
      "3800: cost= 0.19397\n",
      "3800: testcost= 0.17311\n",
      "\n",
      "3900: cost= 0.19397\n",
      "3900: testcost= 0.17311\n",
      "\n",
      "4000: cost= 0.19397\n",
      "4000: testcost= 0.17311\n",
      "\n"
     ]
    },
    {
     "ename": "KeyboardInterrupt",
     "evalue": "",
     "output_type": "error",
     "traceback": [
      "\u001b[0;31m---------------------------------------------------------------------------\u001b[0m",
      "\u001b[0;31mKeyboardInterrupt\u001b[0m                         Traceback (most recent call last)",
      "\u001b[0;32m<ipython-input-3-ddde21c85a07>\u001b[0m in \u001b[0;36m<module>\u001b[0;34m\u001b[0m\n\u001b[1;32m     39\u001b[0m         \u001b[0mbest_agent\u001b[0m \u001b[0;34m=\u001b[0m \u001b[0mD\u001b[0m\u001b[0;34m.\u001b[0m\u001b[0mearly_stop_training\u001b[0m\u001b[0;34m(\u001b[0m\u001b[0mpatience\u001b[0m\u001b[0;34m=\u001b[0m\u001b[0;36m200\u001b[0m\u001b[0;34m)\u001b[0m\u001b[0;34m\u001b[0m\u001b[0;34m\u001b[0m\u001b[0m\n\u001b[1;32m     40\u001b[0m     \u001b[0;32melse\u001b[0m\u001b[0;34m:\u001b[0m\u001b[0;34m\u001b[0m\u001b[0;34m\u001b[0m\u001b[0m\n\u001b[0;32m---> 41\u001b[0;31m         \u001b[0mbest_agent\u001b[0m \u001b[0;34m=\u001b[0m \u001b[0mD\u001b[0m\u001b[0;34m.\u001b[0m\u001b[0mevolution\u001b[0m\u001b[0;34m(\u001b[0m\u001b[0mnum_epochs\u001b[0m\u001b[0;34m=\u001b[0m\u001b[0;36m5001\u001b[0m\u001b[0;34m,\u001b[0m \u001b[0mverbose\u001b[0m\u001b[0;34m=\u001b[0m\u001b[0;32mTrue\u001b[0m\u001b[0;34m,\u001b[0m \u001b[0mprint_epoch\u001b[0m\u001b[0;34m=\u001b[0m\u001b[0;36m100\u001b[0m\u001b[0;34m)\u001b[0m\u001b[0;34m\u001b[0m\u001b[0;34m\u001b[0m\u001b[0m\n\u001b[0m\u001b[1;32m     42\u001b[0m         \u001b[0mD\u001b[0m\u001b[0;34m.\u001b[0m\u001b[0mevaluate\u001b[0m\u001b[0;34m(\u001b[0m\u001b[0;34m)\u001b[0m\u001b[0;34m\u001b[0m\u001b[0;34m\u001b[0m\u001b[0m\n\u001b[1;32m     43\u001b[0m \u001b[0;34m\u001b[0m\u001b[0m\n",
      "\u001b[0;32m~/Documents/Master Thesis/Code/DE_PyCharm/DE.py\u001b[0m in \u001b[0;36mevolution\u001b[0;34m(self, num_epochs, verbose, print_epoch)\u001b[0m\n\u001b[1;32m    110\u001b[0m                 \u001b[0;31m# Selection\u001b[0m\u001b[0;34m\u001b[0m\u001b[0;34m\u001b[0m\u001b[0;34m\u001b[0m\u001b[0m\n\u001b[1;32m    111\u001b[0m                 \u001b[0mobj_u\u001b[0m \u001b[0;34m=\u001b[0m \u001b[0mself\u001b[0m\u001b[0;34m.\u001b[0m\u001b[0mNN_obj\u001b[0m\u001b[0;34m(\u001b[0m\u001b[0mself\u001b[0m\u001b[0;34m.\u001b[0m\u001b[0mtestNN\u001b[0m\u001b[0;34m)\u001b[0m\u001b[0;34m\u001b[0m\u001b[0;34m\u001b[0m\u001b[0m\n\u001b[0;32m--> 112\u001b[0;31m                 \u001b[0;32mif\u001b[0m \u001b[0mobj_u\u001b[0m \u001b[0;34m<\u001b[0m \u001b[0mself\u001b[0m\u001b[0;34m.\u001b[0m\u001b[0mNN_obj\u001b[0m\u001b[0;34m(\u001b[0m\u001b[0mx\u001b[0m\u001b[0;34m)\u001b[0m\u001b[0;34m:\u001b[0m\u001b[0;34m\u001b[0m\u001b[0;34m\u001b[0m\u001b[0m\n\u001b[0m\u001b[1;32m    113\u001b[0m                     \u001b[0mself\u001b[0m\u001b[0;34m.\u001b[0m\u001b[0mpop\u001b[0m\u001b[0;34m[\u001b[0m\u001b[0mj\u001b[0m\u001b[0;34m]\u001b[0m \u001b[0;34m=\u001b[0m \u001b[0mcopy\u001b[0m\u001b[0;34m.\u001b[0m\u001b[0mdeepcopy\u001b[0m\u001b[0;34m(\u001b[0m\u001b[0mself\u001b[0m\u001b[0;34m.\u001b[0m\u001b[0mtestNN\u001b[0m\u001b[0;34m)\u001b[0m\u001b[0;34m\u001b[0m\u001b[0;34m\u001b[0m\u001b[0m\n\u001b[1;32m    114\u001b[0m                     \u001b[0mobj_all\u001b[0m\u001b[0;34m[\u001b[0m\u001b[0mj\u001b[0m\u001b[0;34m]\u001b[0m \u001b[0;34m=\u001b[0m \u001b[0mobj_u\u001b[0m\u001b[0;34m\u001b[0m\u001b[0;34m\u001b[0m\u001b[0m\n",
      "\u001b[0;32m~/Documents/Master Thesis/Code/DE_PyCharm/DE.py\u001b[0m in \u001b[0;36mNN_obj\u001b[0;34m(self, agent)\u001b[0m\n\u001b[1;32m     45\u001b[0m     \u001b[0;32mdef\u001b[0m \u001b[0mNN_obj\u001b[0m\u001b[0;34m(\u001b[0m\u001b[0mself\u001b[0m\u001b[0;34m,\u001b[0m \u001b[0magent\u001b[0m\u001b[0;34m)\u001b[0m\u001b[0;34m:\u001b[0m\u001b[0;34m\u001b[0m\u001b[0;34m\u001b[0m\u001b[0m\n\u001b[1;32m     46\u001b[0m \u001b[0;34m\u001b[0m\u001b[0m\n\u001b[0;32m---> 47\u001b[0;31m         \u001b[0myhat\u001b[0m \u001b[0;34m=\u001b[0m \u001b[0magent\u001b[0m\u001b[0;34m.\u001b[0m\u001b[0mfeedforward\u001b[0m\u001b[0;34m(\u001b[0m\u001b[0mself\u001b[0m\u001b[0;34m.\u001b[0m\u001b[0mX\u001b[0m\u001b[0;34m)\u001b[0m\u001b[0;34m\u001b[0m\u001b[0;34m\u001b[0m\u001b[0m\n\u001b[0m\u001b[1;32m     48\u001b[0m         \u001b[0;32mreturn\u001b[0m \u001b[0mself\u001b[0m\u001b[0;34m.\u001b[0m\u001b[0mobj\u001b[0m\u001b[0;34m(\u001b[0m\u001b[0;34m[\u001b[0m\u001b[0mself\u001b[0m\u001b[0;34m.\u001b[0m\u001b[0my\u001b[0m\u001b[0;34m,\u001b[0m \u001b[0myhat\u001b[0m\u001b[0;34m]\u001b[0m\u001b[0;34m)\u001b[0m\u001b[0;34m\u001b[0m\u001b[0;34m\u001b[0m\u001b[0m\n\u001b[1;32m     49\u001b[0m \u001b[0;34m\u001b[0m\u001b[0m\n",
      "\u001b[0;32m~/Documents/Master Thesis/Code/DE_PyCharm/Network.py\u001b[0m in \u001b[0;36mfeedforward\u001b[0;34m(self, a)\u001b[0m\n\u001b[1;32m     56\u001b[0m         \u001b[0;31m# Feedforward\u001b[0m\u001b[0;34m\u001b[0m\u001b[0;34m\u001b[0m\u001b[0;34m\u001b[0m\u001b[0m\n\u001b[1;32m     57\u001b[0m         \u001b[0;32mfor\u001b[0m \u001b[0mb\u001b[0m\u001b[0;34m,\u001b[0m\u001b[0mw\u001b[0m \u001b[0;32min\u001b[0m \u001b[0mzip\u001b[0m\u001b[0;34m(\u001b[0m\u001b[0mself\u001b[0m\u001b[0;34m.\u001b[0m\u001b[0mbiases\u001b[0m\u001b[0;34m,\u001b[0m \u001b[0mself\u001b[0m\u001b[0;34m.\u001b[0m\u001b[0mweights\u001b[0m\u001b[0;34m)\u001b[0m\u001b[0;34m:\u001b[0m\u001b[0;34m\u001b[0m\u001b[0;34m\u001b[0m\u001b[0m\n\u001b[0;32m---> 58\u001b[0;31m             \u001b[0mself\u001b[0m\u001b[0;34m.\u001b[0m\u001b[0mz\u001b[0m \u001b[0;34m=\u001b[0m \u001b[0mnp\u001b[0m\u001b[0;34m.\u001b[0m\u001b[0mdot\u001b[0m\u001b[0;34m(\u001b[0m\u001b[0mself\u001b[0m\u001b[0;34m.\u001b[0m\u001b[0ma\u001b[0m\u001b[0;34m,\u001b[0m \u001b[0mw\u001b[0m\u001b[0;34m)\u001b[0m \u001b[0;34m+\u001b[0m \u001b[0mb\u001b[0m\u001b[0;34m\u001b[0m\u001b[0;34m\u001b[0m\u001b[0m\n\u001b[0m\u001b[1;32m     59\u001b[0m             \u001b[0mself\u001b[0m\u001b[0;34m.\u001b[0m\u001b[0ma\u001b[0m \u001b[0;34m=\u001b[0m \u001b[0mself\u001b[0m\u001b[0;34m.\u001b[0m\u001b[0mafunction\u001b[0m\u001b[0;34m(\u001b[0m\u001b[0mself\u001b[0m\u001b[0;34m.\u001b[0m\u001b[0mz\u001b[0m\u001b[0;34m)\u001b[0m\u001b[0;34m\u001b[0m\u001b[0;34m\u001b[0m\u001b[0m\n\u001b[1;32m     60\u001b[0m             \u001b[0mself\u001b[0m\u001b[0;34m.\u001b[0m\u001b[0mzs\u001b[0m\u001b[0;34m.\u001b[0m\u001b[0mappend\u001b[0m\u001b[0;34m(\u001b[0m\u001b[0mself\u001b[0m\u001b[0;34m.\u001b[0m\u001b[0mz\u001b[0m\u001b[0;34m)\u001b[0m\u001b[0;34m\u001b[0m\u001b[0;34m\u001b[0m\u001b[0m\n",
      "\u001b[0;32m<__array_function__ internals>\u001b[0m in \u001b[0;36mdot\u001b[0;34m(*args, **kwargs)\u001b[0m\n",
      "\u001b[0;31mKeyboardInterrupt\u001b[0m: "
     ]
    }
   ],
   "source": [
    "symbol_set = [3, 1, -1, -3] # all symbols that we use\n",
    "num_symbols = 1334\n",
    "symbol_seq = np.random.choice(symbol_set, num_symbols, replace=True)\n",
    "m = 8\n",
    "CS = Comms_System(symbol_set=symbol_set, symbol_seq=symbol_seq, num_samples=m)\n",
    "noise_level = 2\n",
    "# Automatic test\n",
    "decisions, _,_, downsampled = CS.test_CS(noise_level=noise_level, v=False)\n",
    "\n",
    "X = np.array(downsampled, ndmin=2).T\n",
    "y = symbol_seq\n",
    "classes = np.array(symbol_set)\n",
    "num_classes = len(classes)\n",
    "sizes = [1, 8, 4]\n",
    "sizes[-1] = num_classes\n",
    "\n",
    "# Makes a dictionary that maps a number to each symbol e.g. 3: 0\n",
    "class_idx = {v: i for i, v in enumerate(classes)}\n",
    "\n",
    "# Maps class indexes to each value in targets\n",
    "y = np.array([class_idx[v] for v in y])\n",
    "\n",
    "# Converts to one-hot-encoded\n",
    "y = np.eye(num_classes)[y]\n",
    "\n",
    "# split train-test\n",
    "splitlen = int(X.shape[0] * 0.75)\n",
    "Xtrain, ytrain = X[:splitlen], y[:splitlen]\n",
    "Xtest, ytest = X[splitlen:], y[splitlen:]\n",
    "\n",
    "optimizer = 'DE'\n",
    "early_stop = False\n",
    "\n",
    "if optimizer == 'DE':\n",
    "    D = DE(objective_function=crossEntropy, sizes=sizes, pop_size=50, F=0.55, cr=0.85,\n",
    "           X=Xtrain, y=ytrain, Xtest=Xtest, ytest=ytest, type='classification', afunc='relu')\n",
    "    \n",
    "    if early_stop:\n",
    "        best_agent = D.early_stop_training(patience=200)\n",
    "    else:\n",
    "        best_agent = D.evolution(num_epochs=5001, verbose=True, print_epoch=100)\n",
    "        D.evaluate()\n",
    "    \n",
    "elif optimizer == 'BP':\n",
    "    NN = NeuralNetwork(sizes=[8,8,4], afunc='relu')\n",
    "    NN.train_loop(Xtrain, ytrain, Xtest, ytest, epochs=100, batch_size=Xtrain.shape[0], \n",
    "                  cost=True, acc=True, plot=True)\n",
    "    best_agent = NN"
   ]
  },
  {
   "cell_type": "markdown",
   "id": "dependent-stanford",
   "metadata": {},
   "source": [
    "# Prediction Accuracy"
   ]
  },
  {
   "cell_type": "code",
   "execution_count": 5,
   "id": "north-geometry",
   "metadata": {},
   "outputs": [
    {
     "data": {
      "image/png": "[encoded data removed]",
      "text/plain": [
       "<Figure size 936x576 with 1 Axes>"
      ]
     },
     "metadata": {
      "needs_background": "light"
     },
     "output_type": "display_data"
    },
    {
     "name": "stdout",
     "output_type": "stream",
     "text": [
      "Best agent is <Network.NeuralNetwork object at 0x10a647ba8> with a train cost of 0.19397.\n",
      "And a test cost of 0.17311\n"
     ]
    }
   ],
   "source": [
    "D.evaluate()"
   ]
  },
  {
   "cell_type": "code",
   "execution_count": 6,
   "id": "modified-aquarium",
   "metadata": {},
   "outputs": [
    {
     "name": "stdout",
     "output_type": "stream",
     "text": [
      "Accuracy:  90.11976047904191 %\n"
     ]
    }
   ],
   "source": [
    "# Get predictions\n",
    "predictions = D.best_agent.feedforward(Xtest).argmax(axis=1)\n",
    "true = ytest.argmax(axis=1)\n",
    "\n",
    "# Convert back to symbols\n",
    "predicted_symbols = classes[predictions]\n",
    "true_values = classes[true]\n",
    "# print(predicted_symbols, true_values)\n",
    "correct_preds = np.equal(true_values, predicted_symbols)\n",
    "print(\"Accuracy: \", (sum(correct_preds) / len(true_values)) * 100, \"%\")"
   ]
  },
  {
   "cell_type": "markdown",
   "id": "capable-statement",
   "metadata": {},
   "source": [
    "# Error Rate"
   ]
  },
  {
   "cell_type": "code",
   "execution_count": 7,
   "id": "arranged-carter",
   "metadata": {},
   "outputs": [],
   "source": [
    "symbol_set = [3, 1, -1, -3] # all symbols that we use\n",
    "num_symbols = 10000\n",
    "symbol_seq = np.random.choice(symbol_set, num_symbols, replace=True)"
   ]
  },
  {
   "cell_type": "code",
   "execution_count": 10,
   "id": "african-climb",
   "metadata": {},
   "outputs": [
    {
     "name": "stdout",
     "output_type": "stream",
     "text": [
      "Euclidean Distance Error Rate: 12.16%\n",
      "Neural Net Error Rate: 18.23%\n",
      "Euclidean Distance Error Rate: 11.45%\n",
      "Neural Net Error Rate: 18.02%\n",
      "Euclidean Distance Error Rate: 11.67%\n",
      "Neural Net Error Rate: 18.44%\n",
      "Euclidean Distance Error Rate: 12.03%\n",
      "Neural Net Error Rate: 18.47%\n",
      "Euclidean Distance Error Rate: 12.0%\n",
      "Neural Net Error Rate: 18.61%\n",
      "Euclidean Distance Error Rate: 12.08%\n",
      "Neural Net Error Rate: 18.16%\n",
      "Euclidean Distance Error Rate: 12.22%\n",
      "Neural Net Error Rate: 18.44%\n",
      "Euclidean Distance Error Rate: 11.77%\n",
      "Neural Net Error Rate: 18.24%\n",
      "Euclidean Distance Error Rate: 11.54%\n",
      "Neural Net Error Rate: 17.96%\n",
      "Euclidean Distance Error Rate: 11.38%\n",
      "Neural Net Error Rate: 17.99%\n"
     ]
    }
   ],
   "source": [
    "for i in range(10):\n",
    "\n",
    "    m = 8\n",
    "    CS = Comms_System(symbol_set=symbol_set, symbol_seq=symbol_seq, num_samples=m)\n",
    "    sigma = 2\n",
    "\n",
    "    decisions, NN_decisions, downsampled, block_decisions = CS.test_CS(noise_level=sigma, model=D.best_agent, v=False)\n",
    "    X = np.array(downsampled, ndmin=2).T\n",
    "\n",
    "    print('Euclidean Distance Error Rate: {}%'.format((CS.evaluate(decisions)[1]*100).round(2)))\n",
    "    print('Neural Net Error Rate: {}%'.format((CS.evaluate(NN_decisions)[1]*100).round(2)))"
   ]
  },
  {
   "cell_type": "markdown",
   "id": "academic-squad",
   "metadata": {},
   "source": [
    "----"
   ]
  },
  {
   "cell_type": "markdown",
   "id": "resident-import",
   "metadata": {},
   "source": [
    "# How to retrain automatically"
   ]
  },
  {
   "cell_type": "code",
   "execution_count": null,
   "id": "reflected-litigation",
   "metadata": {},
   "outputs": [],
   "source": [
    "train = False\n",
    "if train:\n",
    "    D = train_DM_model(sizes=[1,8,4], num_symbols=1000, epochs=2001)"
   ]
  },
  {
   "cell_type": "code",
   "execution_count": null,
   "id": "alien-trading",
   "metadata": {},
   "outputs": [],
   "source": [
    "# Evaluate\n",
    "symbol_set = [3, 1, -1, -3] # all symbols that we use\n",
    "num_symbols = 10000\n",
    "symbol_seq = np.random.choice(symbol_set, num_symbols, replace=True)\n",
    "m = 8\n",
    "CS = Comms_System(symbol_set=symbol_set, symbol_seq=symbol_seq, num_samples=m)\n",
    "noise_level = 1\n",
    "\n",
    "decisions, _ , _, downsampled = CS.test_CS(noise_level=noise_level, v=False)\n",
    "X = np.array(downsampled, ndmin=2).T\n",
    "classes = np.array(symbol_set)\n",
    "new_NN_decisions = classes[D.best_agent.feedforward(X).argmax(axis=1)]\n",
    "\n",
    "print('Euclidean Distance Error Rate: {}%'.format((CS.evaluate(decisions)[1]*100).round(2)))\n",
    "print('Neural Net Error Rate: {}%'.format((CS.evaluate(new_NN_decisions)[1]*100).round(2)))"
   ]
  },
  {
   "cell_type": "markdown",
   "id": "atlantic-penetration",
   "metadata": {},
   "source": [
    "# Does model perform better? Then save the weights"
   ]
  },
  {
   "cell_type": "code",
   "execution_count": null,
   "id": "worldwide-philippines",
   "metadata": {},
   "outputs": [],
   "source": [
    "save_weights = False\n",
    "\n",
    "if save_weights:\n",
    "    D.save_params('decision_making_weights_CE_new3', 'decision_making_biases_CE_new3')"
   ]
  },
  {
   "cell_type": "code",
   "execution_count": null,
   "id": "cultural-soviet",
   "metadata": {},
   "outputs": [],
   "source": []
  }
 ],
 "metadata": {
  "kernelspec": {
   "display_name": "Python 3",
   "language": "python",
   "name": "python3"
  },
  "language_info": {
   "codemirror_mode": {
    "name": "ipython",
    "version": 3
   },
   "file_extension": ".py",
   "mimetype": "text/x-python",
   "name": "python",
   "nbconvert_exporter": "python",
   "pygments_lexer": "ipython3",
   "version": "3.6.13"
  }
 },
 "nbformat": 4,
 "nbformat_minor": 5
}

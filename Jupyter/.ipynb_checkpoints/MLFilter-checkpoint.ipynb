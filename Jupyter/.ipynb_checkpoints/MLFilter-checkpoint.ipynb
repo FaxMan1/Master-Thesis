{
 "cells": [
  {
   "cell_type": "code",
   "execution_count": 1,
   "id": "excessive-applicant",
   "metadata": {},
   "outputs": [],
   "source": [
    "import sys\n",
    "import numpy as np\n",
    "sys.path.append('../DE_PyCharm')\n",
    "from Comms_System import Comms_System\n",
    "from train_decision_making import train_DM_model\n",
    "from DE_minibatch import DE\n",
    "#from DE import DE\n",
    "from objective_functions import MSE\n",
    "from objective_functions import crossEntropy\n",
    "from Network import NeuralNetwork\n",
    "import matplotlib.pyplot as plt\n",
    "import scipy.stats"
   ]
  },
  {
   "cell_type": "code",
   "execution_count": 2,
   "id": "improved-reconstruction",
   "metadata": {},
   "outputs": [],
   "source": [
    "def get_data(num_symbols, sigma):\n",
    "    \n",
    "    symbol_set = [3, 1, -1, -3] # all symbols that we use\n",
    "    symbol_seq = np.random.choice(symbol_set, num_symbols, replace=True)\n",
    "    m = 8\n",
    "    CS = Comms_System(symbol_set=symbol_set, symbol_seq=symbol_seq, num_samples=m, beta=0.35)\n",
    "\n",
    "    # calibrate\n",
    "    gain_factor = np.max(CS.h)\n",
    "\n",
    "    # upsample symbol sequence and filter it on transmission side\n",
    "    upsampled = CS.upsample(v=False)\n",
    "    Tx = np.convolve(upsampled, CS.h)\n",
    "\n",
    "    # Transmit the filtered signal (i.e. add noise)\n",
    "    Rx = Tx + np.random.normal(0.0, sigma, Tx.shape)  # add gaussian noise\n",
    "    Rx_ = Rx/gain_factor\n",
    "\n",
    "    blocks = CS.get_signal_in_blocks(Rx_)\n",
    "    X = np.array(blocks)\n",
    "    \n",
    "    y = symbol_seq\n",
    "    classes = np.array(symbol_set)\n",
    "    num_classes = len(classes)\n",
    "    sizes = [X.shape[1], 8, num_classes]\n",
    "\n",
    "    # Makes a dictionary that maps a number to each symbol e.g. 3: 0\n",
    "    class_idx = {v: i for i, v in enumerate(classes)}\n",
    "\n",
    "    # Maps class indexes to each value in targets\n",
    "    y = np.array([class_idx[v] for v in y])\n",
    "\n",
    "    # Converts to one-hot-encoded\n",
    "    y = np.eye(num_classes)[y]\n",
    "    \n",
    "    return X, y, classes, sizes"
   ]
  },
  {
   "cell_type": "code",
   "execution_count": 3,
   "id": "injured-reproduction",
   "metadata": {},
   "outputs": [],
   "source": [
    "Xtrain, ytrain, classes, sizes = get_data(num_symbols=10000, sigma=1)\n",
    "Xtest, ytest, _, _ = get_data(num_symbols=10000, sigma=1)"
   ]
  },
  {
   "cell_type": "code",
   "execution_count": 4,
   "id": "european-diameter",
   "metadata": {},
   "outputs": [
    {
     "name": "stdout",
     "output_type": "stream",
     "text": [
      "1: Test Accuracy Rising  0.336\n",
      "2: Test Accuracy Rising  0.392\n",
      "13: Test Accuracy Rising  0.4183\n",
      "19: Test Accuracy Rising  0.4262\n",
      "20: Test Accuracy Rising  0.4687\n",
      "30: Test Accuracy Rising  0.5323\n",
      "61: Test Accuracy Rising  0.5429\n",
      "70: Test Accuracy Rising  0.6197\n",
      "74: Test Accuracy Rising  0.6353\n",
      "79: Test Accuracy Rising  0.6675\n",
      "87: Test Accuracy Rising  0.6899\n",
      "92: Test Accuracy Rising  0.7307\n",
      "111: Test Accuracy Rising  0.7684\n",
      "126: Test Accuracy Rising  0.7759\n",
      "137: Test Accuracy Rising  0.7768\n",
      "138: Test Accuracy Rising  0.7966\n",
      "140: Test Accuracy Rising  0.8096\n",
      "141: Test Accuracy Rising  0.8259\n",
      "143: Test Accuracy Rising  0.8391\n",
      "145: Test Accuracy Rising  0.8614\n",
      "166: Test Accuracy Rising  0.8777\n",
      "170: Test Accuracy Rising  0.88\n",
      "171: Test Accuracy Rising  0.8953\n",
      "189: Test Accuracy Rising  0.9038\n",
      "194: Test Accuracy Rising  0.9042\n",
      "199: Test Accuracy Rising  0.934\n",
      "213: Test Accuracy Rising  0.9342\n",
      "232: Test Accuracy Rising  0.9379\n",
      "234: Test Accuracy Rising  0.9413\n",
      "236: Test Accuracy Rising  0.9443\n",
      "237: Test Accuracy Rising  0.9445\n",
      "246: Test Accuracy Rising  0.9485\n",
      "252: Test Accuracy Rising  0.954\n",
      "264: Test Accuracy Rising  0.955\n",
      "270: Test Accuracy Rising  0.9579\n",
      "274: Test Accuracy Rising  0.9621\n",
      "279: Test Accuracy Rising  0.9664\n",
      "283: Test Accuracy Rising  0.9719\n",
      "310: Test Accuracy Rising  0.9721\n",
      "324: Test Accuracy Rising  0.9739\n",
      "339: Test Accuracy Rising  0.9744\n",
      "346: Test Accuracy Rising  0.9793\n",
      "373: Test Accuracy Rising  0.9813\n",
      "404: Test Accuracy Rising  0.9827\n",
      "414: Test Accuracy Rising  0.9835\n",
      "424: Test Accuracy Rising  0.9853\n",
      "442: Test Accuracy Rising  0.986\n",
      "483: Test Accuracy Rising  0.9868\n",
      "527: Test Accuracy Rising  0.9872\n",
      "554: Test Accuracy Rising  0.9876\n",
      "557: Test Accuracy Rising  0.9886\n",
      "596: Test Accuracy Rising  0.9889\n",
      "652: Test Accuracy Rising  0.9892\n",
      "655: Test Accuracy Rising  0.9893\n",
      "677: Test Accuracy Rising  0.9904\n",
      "754: Test Accuracy Rising  0.9906\n",
      "799: Test Accuracy Rising  0.9907\n",
      "816: Test Accuracy Rising  0.9911\n",
      "867: Test Accuracy Rising  0.9913\n",
      "869: Test Accuracy Rising  0.9919\n",
      "959: Test Accuracy Rising  0.9923\n",
      "1073: Test Accuracy Rising  0.9925\n",
      "1108: Test Accuracy Rising  0.9928\n",
      "1157: Test Accuracy Rising  0.9932\n",
      "1319: Test Accuracy Rising  0.9935\n",
      "1360: Test Accuracy Rising  0.9939\n",
      "1698: Test Accuracy Rising  0.994\n",
      "1892: Test Accuracy Rising  0.9943\n",
      "1944: Test Accuracy Rising  0.9945\n",
      "1968: Test Accuracy Rising  0.9946\n",
      "Optimal number of iterations: 1968\n",
      "Best accuracy: 0.9946\n",
      "Accuracy at stop: 0.9933\n"
     ]
    },
    {
     "data": {
      "image/png": "[encoded data removed]",
      "text/plain": [
       "<Figure size 936x576 with 1 Axes>"
      ]
     },
     "metadata": {
      "needs_background": "light"
     },
     "output_type": "display_data"
    }
   ],
   "source": [
    "optimizer = 'DE'\n",
    "early_stop = True\n",
    "\n",
    "if optimizer == 'DE':\n",
    "    D = DE(objective_function=crossEntropy, sizes=sizes, pop_size=50, F=0.55, cr=0.85,\n",
    "           X=Xtrain, y=ytrain, Xtest=Xtest, ytest=ytest, type='classification', afunc='relu')\n",
    "    \n",
    "    if early_stop:\n",
    "        best_agent, opt_agent = D.early_stop_training(patience=600, batch_size=Xtrain.shape[0]//3, measure='accuracy')\n",
    "    else:\n",
    "        best_agent = D.evolution(num_epochs=1001, batch_size=Xtrain.shape[0]//3, verbose=True, print_epoch=100)\n",
    "        D.evaluate()\n",
    "    \n",
    "elif optimizer == 'BP':\n",
    "    NN = NeuralNetwork(sizes=sizes, afunc='relu')\n",
    "    NN.train_loop(Xtrain, ytrain, Xtest, ytest, epochs=10000, batch_size=Xtrain.shape[0], \n",
    "                  cost=True, acc=True, plot=True)\n",
    "    best_agent = NN"
   ]
  },
  {
   "cell_type": "code",
   "execution_count": 6,
   "id": "miniature-publicity",
   "metadata": {},
   "outputs": [
    {
     "name": "stdout",
     "output_type": "stream",
     "text": [
      "Accuracy:  99.33 %\n"
     ]
    }
   ],
   "source": [
    "# Get predictions\n",
    "predictions = D.best_agent.feedforward(Xtest).argmax(axis=1)\n",
    "true = ytest.argmax(axis=1)\n",
    "\n",
    "# Convert back to symbols\n",
    "predicted_symbols = classes[predictions]\n",
    "true_values = classes[true]\n",
    "# print(predicted_symbols, true_values)\n",
    "correct_preds = np.equal(true_values, predicted_symbols)\n",
    "print(\"Accuracy: \", (sum(correct_preds) / len(true_values)) * 100, \"%\")"
   ]
  },
  {
   "cell_type": "code",
   "execution_count": 7,
   "id": "considerable-looking",
   "metadata": {},
   "outputs": [
    {
     "name": "stdout",
     "output_type": "stream",
     "text": [
      "Euclidean Distance Error Rate: 0.4%\n",
      "Filtering Neural Net Error Rate: 0.59%\n",
      "\n",
      "Euclidean Distance Error Rate: 0.31%\n",
      "Filtering Neural Net Error Rate: 0.71%\n",
      "\n",
      "Euclidean Distance Error Rate: 0.41%\n",
      "Filtering Neural Net Error Rate: 0.5%\n",
      "\n",
      "Euclidean Distance Error Rate: 0.34%\n",
      "Filtering Neural Net Error Rate: 0.73%\n",
      "\n",
      "Euclidean Distance Error Rate: 0.38%\n",
      "Filtering Neural Net Error Rate: 0.67%\n",
      "\n"
     ]
    }
   ],
   "source": [
    "for i in range(5):\n",
    "    \n",
    "    symbol_set = [3, 1, -1, -3] # all symbols that we use\n",
    "    num_symbols = 10000\n",
    "    symbol_seq = np.random.choice(symbol_set, num_symbols, replace=True)\n",
    "    m = 8\n",
    "    CS = Comms_System(symbol_set=symbol_set, symbol_seq=symbol_seq, num_samples=m, beta=0.35)\n",
    "    sigma = 1\n",
    "    classes = np.array(symbol_set)\n",
    "\n",
    "    # calibrate\n",
    "    gain_factor = np.max(CS.h)\n",
    "\n",
    "    # upsample symbol sequence and filter it on transmission side\n",
    "    upsampled = CS.upsample(v=False)\n",
    "    Tx = np.convolve(upsampled, CS.h)\n",
    "\n",
    "    # Transmit the filtered signal (i.e. add noise)\n",
    "    Rx = Tx + np.random.normal(0.0, sigma, Tx.shape)  # add gaussian noise\n",
    "    Rx_ = Rx/gain_factor\n",
    "\n",
    "    blocks = CS.get_signal_in_blocks(Rx_)\n",
    "    X = np.array(blocks)\n",
    "    euclid_decisions = CS.transmission(mode='euclidean', noise_level=sigma)\n",
    "    NN_decisions = classes[best_agent.feedforward(X).argmax(axis=1)]\n",
    "    \n",
    "    print('Euclidean Distance Error Rate: {}%'.format((CS.evaluate(euclid_decisions)[1]*100).round(2)))\n",
    "    print('Filtering Neural Net Error Rate: {}%'.format((CS.evaluate(NN_decisions)[1]*100).round(2)))\n",
    "    print()"
   ]
  },
  {
   "cell_type": "code",
   "execution_count": 8,
   "id": "widespread-porcelain",
   "metadata": {},
   "outputs": [],
   "source": [
    "D.save_params('best_filtering_weights2', 'best_filtering_biases2')"
   ]
  },
  {
   "cell_type": "code",
   "execution_count": null,
   "id": "constant-stack",
   "metadata": {},
   "outputs": [],
   "source": []
  }
 ],
 "metadata": {
  "kernelspec": {
   "display_name": "Python 3",
   "language": "python",
   "name": "python3"
  },
  "language_info": {
   "codemirror_mode": {
    "name": "ipython",
    "version": 3
   },
   "file_extension": ".py",
   "mimetype": "text/x-python",
   "name": "python",
   "nbconvert_exporter": "python",
   "pygments_lexer": "ipython3",
   "version": "3.6.13"
  }
 },
 "nbformat": 4,
 "nbformat_minor": 5
}

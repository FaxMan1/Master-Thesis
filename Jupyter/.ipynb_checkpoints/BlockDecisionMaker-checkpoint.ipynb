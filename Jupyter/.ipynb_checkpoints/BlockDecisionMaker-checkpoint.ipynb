{
 "cells": [
  {
   "cell_type": "code",
   "execution_count": 2,
   "id": "realistic-michigan",
   "metadata": {},
   "outputs": [],
   "source": [
    "import sys\n",
    "import numpy as np\n",
    "sys.path.append('..')\n",
    "from Comms_System import Comms_System\n",
    "from train_decision_making import train_DM_model\n",
    "from DE_minibatch import DE\n",
    "#from DE import DE\n",
    "from objective_functions import MSE\n",
    "from objective_functions import crossEntropy\n",
    "from Network import NeuralNetwork\n",
    "import matplotlib.pyplot as plt\n",
    "import scipy.stats"
   ]
  },
  {
   "cell_type": "code",
   "execution_count": 3,
   "id": "basic-manner",
   "metadata": {},
   "outputs": [],
   "source": [
    "symbol_set = [3, 1, -1, -3] # all symbols that we use\n",
    "num_symbols = 1334\n",
    "symbol_seq = np.random.choice(symbol_set, num_symbols, replace=True)\n",
    "m = 8\n",
    "CS = Comms_System(symbol_set=symbol_set, symbol_seq=symbol_seq, num_samples=m, beta=0.35)\n",
    "sigma = 2\n",
    "\n",
    "# calibrate\n",
    "gain_factor = np.max(np.convolve(CS.h, CS.h))\n",
    "\n",
    "# upsample symbol sequence and filter it on transmission side\n",
    "upsampled = CS.upsample(v=False)\n",
    "Tx = np.convolve(upsampled, CS.h)\n",
    "\n",
    "# Transmit the filtered signal (i.e. add noise)\n",
    "Tx = Tx + np.random.normal(0.0, sigma, Tx.shape)  # add gaussian noise\n",
    "\n",
    "# Filter on receiver side\n",
    "Rx = np.convolve(Tx, CS.h)\n",
    "downsampled = CS.downsample(Rx)/gain_factor\n",
    "Rx_ = Rx/gain_factor\n",
    "\n",
    "blocks = CS.get_periods(Rx_)\n",
    "X = np.array(blocks)"
   ]
  },
  {
   "cell_type": "code",
   "execution_count": 4,
   "id": "handy-creativity",
   "metadata": {},
   "outputs": [],
   "source": [
    "X = np.array(blocks)\n",
    "y = symbol_seq\n",
    "classes = np.array(symbol_set)\n",
    "num_classes = len(classes)\n",
    "sizes = [8, 8, 4]\n",
    "sizes[-1] = num_classes\n",
    "\n",
    "# Makes a dictionary that maps a number to each symbol e.g. 3: 0\n",
    "class_idx = {v: i for i, v in enumerate(classes)}\n",
    "\n",
    "# Maps class indexes to each value in targets\n",
    "y = np.array([class_idx[v] for v in y])\n",
    "\n",
    "# Converts to one-hot-encoded\n",
    "y = np.eye(num_classes)[y]\n",
    "\n",
    "# split train-test\n",
    "splitlen = int(X.shape[0] * 0.75)\n",
    "Xtrain, ytrain = X[:splitlen], y[:splitlen]\n",
    "Xtest, ytest = X[splitlen:], y[splitlen:]"
   ]
  },
  {
   "cell_type": "code",
   "execution_count": 7,
   "id": "everyday-equilibrium",
   "metadata": {},
   "outputs": [
    {
     "name": "stdout",
     "output_type": "stream",
     "text": [
      "0: cost= 0.54031\n",
      "0: testcost= 0.55940\n",
      "\n",
      "100: cost= 0.26168\n",
      "100: testcost= 0.31682\n",
      "\n",
      "200: cost= 0.24444\n",
      "200: testcost= 0.25947\n",
      "\n",
      "300: cost= 0.18312\n",
      "300: testcost= 0.17273\n",
      "\n",
      "400: cost= 0.18206\n",
      "400: testcost= 0.16615\n",
      "\n",
      "500: cost= 0.17870\n",
      "500: testcost= 0.15945\n",
      "\n"
     ]
    },
    {
     "data": {
      "image/png": "[encoded data removed]",
      "text/plain": [
       "<Figure size 936x576 with 1 Axes>"
      ]
     },
     "metadata": {
      "needs_background": "light"
     },
     "output_type": "display_data"
    },
    {
     "name": "stdout",
     "output_type": "stream",
     "text": [
      "Best agent is <Network.NeuralNetwork object at 0x00000132BC332850> with a train cost of \\ 0.178702111925014.\n",
      "And a test cost of 0.159450304895261\n"
     ]
    }
   ],
   "source": [
    "optimizer = 'DE'\n",
    "early_stop = False\n",
    "\n",
    "if optimizer == 'DE':\n",
    "    D = DE(objective_function=crossEntropy, sizes=sizes, pop_size=50, F=0.55, cr=0.85,\n",
    "           X=Xtrain, y=ytrain, Xtest=Xtest, ytest=ytest, type='classification', afunc='relu')\n",
    "    \n",
    "    if early_stop:\n",
    "        best_agent, opt_agent = D.early_stop_training(patience=4000, batch_size=Xtrain.shape[0], measure='accuracy')\n",
    "    else:\n",
    "        best_agent = D.evolution(num_epochs=501, batch_size=Xtrain.shape[0], verbose=True, print_epoch=100)\n",
    "        D.evaluate()\n",
    "    \n",
    "elif optimizer == 'BP':\n",
    "    NN = NeuralNetwork(sizes=[8,8,4], afunc='relu')\n",
    "    NN.train_loop(Xtrain, ytrain, Xtest, ytest, epochs=100, batch_size=Xtrain.shape[0], \n",
    "                  cost=True, acc=True, plot=True)\n",
    "    best_agent = NN"
   ]
  },
  {
   "cell_type": "code",
   "execution_count": 9,
   "id": "japanese-bottom",
   "metadata": {},
   "outputs": [
    {
     "name": "stdout",
     "output_type": "stream",
     "text": [
      "Accuracy:  85.62874251497006 %\n"
     ]
    }
   ],
   "source": [
    "# Get predictions\n",
    "predictions = best_agent.feedforward(Xtest).argmax(axis=1)\n",
    "true = ytest.argmax(axis=1)\n",
    "\n",
    "# Convert back to symbols\n",
    "predicted_symbols = classes[predictions]\n",
    "true_values = classes[true]\n",
    "# print(predicted_symbols, true_values)\n",
    "correct_preds = np.equal(true_values, predicted_symbols)\n",
    "print(\"Accuracy: \", (sum(correct_preds) / len(true_values)) * 100, \"%\")"
   ]
  },
  {
   "cell_type": "markdown",
   "id": "answering-complex",
   "metadata": {},
   "source": [
    "# Error Rate"
   ]
  },
  {
   "cell_type": "code",
   "execution_count": 15,
   "id": "ffc76291",
   "metadata": {},
   "outputs": [
    {
     "name": "stdout",
     "output_type": "stream",
     "text": [
      "Euclidean Distance Error Rate: 0.42%\n",
      "NN Block Error Rate: 2.14%\n",
      "\n",
      "Euclidean Distance Error Rate: 0.38%\n",
      "NN Block Error Rate: 2.02%\n",
      "\n",
      "Euclidean Distance Error Rate: 0.37%\n",
      "NN Block Error Rate: 2.04%\n",
      "\n",
      "Euclidean Distance Error Rate: 0.42%\n",
      "NN Block Error Rate: 2.03%\n",
      "\n",
      "Euclidean Distance Error Rate: 0.36%\n",
      "NN Block Error Rate: 2.23%\n",
      "\n",
      "Euclidean Distance Error Rate: 0.31%\n",
      "NN Block Error Rate: 2.05%\n",
      "\n",
      "Euclidean Distance Error Rate: 0.43%\n",
      "NN Block Error Rate: 1.99%\n",
      "\n",
      "Euclidean Distance Error Rate: 0.34%\n",
      "NN Block Error Rate: 1.89%\n",
      "\n",
      "Euclidean Distance Error Rate: 0.32%\n",
      "NN Block Error Rate: 1.96%\n",
      "\n",
      "Euclidean Distance Error Rate: 0.44%\n",
      "NN Block Error Rate: 2.31%\n",
      "\n"
     ]
    }
   ],
   "source": [
    "for i in range(10):\n",
    "\n",
    "    symbol_set = [3, 1, -1, -3] # all symbols that we use\n",
    "    num_symbols = 10000\n",
    "    symbol_seq = np.random.choice(symbol_set, num_symbols, replace=True)\n",
    "    m = 8\n",
    "    CS = Comms_System(symbol_set=symbol_set, symbol_seq=symbol_seq, num_samples=m)\n",
    "    noise_level = 1\n",
    "\n",
    "    # Automatic test\n",
    "    euclid_decisions, NN_decisions, block_decisions, filter_decisions, _ = CS.test_CS(noise_level=noise_level, \n",
    "                                                                                      block_model=best_agent)\n",
    "    print('Euclidean Distance Error Rate: {}%'.format((CS.evaluate(euclid_decisions)[1]*100).round(2)))\n",
    "    #print('NN Decision Making Error Rate: {}%'.format((CS.evaluate(NN_decisions)[1]*100).round(2)))\n",
    "    print('NN Block Error Rate: {}%'.format((CS.evaluate(block_decisions)[1]*100).round(2)))\n",
    "    #print('NN Filter Error Rate: {}%'.format((CS.evaluate(filter_decisions)[1]*100).round(2)))\n",
    "    print()"
   ]
  },
  {
   "cell_type": "code",
   "execution_count": null,
   "id": "speaking-personality",
   "metadata": {},
   "outputs": [],
   "source": [
    "save_weights = False\n",
    "\n",
    "if save_weights:\n",
    "    D.save_params('block_decision_making_weights', 'block_decision_making_biases')"
   ]
  },
  {
   "cell_type": "code",
   "execution_count": null,
   "id": "economic-minutes",
   "metadata": {},
   "outputs": [],
   "source": []
  }
 ],
 "metadata": {
  "kernelspec": {
   "display_name": "Python 3 (ipykernel)",
   "language": "python",
   "name": "python3"
  },
  "language_info": {
   "codemirror_mode": {
    "name": "ipython",
    "version": 3
   },
   "file_extension": ".py",
   "mimetype": "text/x-python",
   "name": "python",
   "nbconvert_exporter": "python",
   "pygments_lexer": "ipython3",
   "version": "3.8.12"
  }
 },
 "nbformat": 4,
 "nbformat_minor": 5
}

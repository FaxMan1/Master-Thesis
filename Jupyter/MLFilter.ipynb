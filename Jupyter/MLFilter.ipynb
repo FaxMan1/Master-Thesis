{
 "cells": [
  {
   "cell_type": "code",
   "execution_count": 1,
   "id": "excessive-applicant",
   "metadata": {},
   "outputs": [],
   "source": [
    "import sys\n",
    "import numpy as np\n",
    "sys.path.append('../DE_PyCharm')\n",
    "from Comms_System import Comms_System\n",
    "from train_decision_making import train_DM_model\n",
    "from DE_minibatch import DE\n",
    "#from DE import DE\n",
    "from objective_functions import MSE\n",
    "from objective_functions import crossEntropy\n",
    "from Network import NeuralNetwork\n",
    "import matplotlib.pyplot as plt\n",
    "import scipy.stats"
   ]
  },
  {
   "cell_type": "code",
   "execution_count": 4,
   "id": "earlier-philippines",
   "metadata": {},
   "outputs": [],
   "source": [
    "def get_data(num_symbols, sigma):\n",
    "    \n",
    "    symbol_set = [3, 1, -1, -3] # all symbols that we use\n",
    "    symbol_seq = np.random.choice(symbol_set, num_symbols, replace=True)\n",
    "    m = 8\n",
    "    CS = Comms_System(symbol_set=symbol_set, symbol_seq=symbol_seq, num_samples=m, beta=0.35)\n",
    "\n",
    "    # calibrate\n",
    "    gain_factor = np.max(CS.h)\n",
    "\n",
    "    # upsample symbol sequence and filter it on transmission side\n",
    "    upsampled = CS.upsample(v=False)\n",
    "    Tx = np.convolve(upsampled, CS.h)\n",
    "\n",
    "    # Transmit the filtered signal (i.e. add noise)\n",
    "    Rx = Tx + np.random.normal(0.0, sigma, Tx.shape)  # add gaussian noise\n",
    "    Rx_ = Rx/gain_factor\n",
    "\n",
    "    blocks = CS.get_signal_in_blocks(Rx_)\n",
    "    X = np.array(blocks)\n",
    "    \n",
    "    y = symbol_seq\n",
    "    classes = np.array(symbol_set)\n",
    "    num_classes = len(classes)\n",
    "    sizes = [X.shape[1], 16, num_classes]\n",
    "\n",
    "    # Makes a dictionary that maps a number to each symbol e.g. 3: 0\n",
    "    class_idx = {v: i for i, v in enumerate(classes)}\n",
    "\n",
    "    # Maps class indexes to each value in targets\n",
    "    y = np.array([class_idx[v] for v in y])\n",
    "\n",
    "    # Converts to one-hot-encoded\n",
    "    y = np.eye(num_classes)[y]\n",
    "    \n",
    "    return X, y, classes, sizes"
   ]
  },
  {
   "cell_type": "code",
   "execution_count": 5,
   "id": "fluid-decade",
   "metadata": {},
   "outputs": [],
   "source": [
    "Xtrain, ytrain, classes, sizes = get_data(num_symbols=10000, sigma=1)\n",
    "Xtest, ytest, _, _ = get_data(num_symbols=10000, sigma=1)"
   ]
  },
  {
   "cell_type": "code",
   "execution_count": 13,
   "id": "european-diameter",
   "metadata": {},
   "outputs": [
    {
     "name": "stdout",
     "output_type": "stream",
     "text": [
      "1: Test Accuracy Rising  0.3214\n",
      "7: Test Accuracy Rising  0.3881\n",
      "12: Test Accuracy Rising  0.39\n",
      "21: Test Accuracy Rising  0.4567\n",
      "41: Test Accuracy Rising  0.4854\n",
      "44: Test Accuracy Rising  0.4921\n",
      "69: Test Accuracy Rising  0.5501\n",
      "83: Test Accuracy Rising  0.6089\n",
      "98: Test Accuracy Rising  0.6298\n",
      "102: Test Accuracy Rising  0.657\n",
      "115: Test Accuracy Rising  0.6637\n",
      "121: Test Accuracy Rising  0.7053\n",
      "130: Test Accuracy Rising  0.7186\n",
      "140: Test Accuracy Rising  0.7224\n",
      "148: Test Accuracy Rising  0.7368\n",
      "160: Test Accuracy Rising  0.7398\n",
      "175: Test Accuracy Rising  0.7637\n",
      "185: Test Accuracy Rising  0.7696\n",
      "188: Test Accuracy Rising  0.77\n",
      "194: Test Accuracy Rising  0.7857\n",
      "198: Test Accuracy Rising  0.8206\n",
      "213: Test Accuracy Rising  0.8441\n",
      "229: Test Accuracy Rising  0.8522\n",
      "238: Test Accuracy Rising  0.8793\n",
      "260: Test Accuracy Rising  0.8873\n",
      "262: Test Accuracy Rising  0.8971\n",
      "283: Test Accuracy Rising  0.9042\n",
      "285: Test Accuracy Rising  0.9068\n",
      "288: Test Accuracy Rising  0.9224\n",
      "305: Test Accuracy Rising  0.9289\n",
      "315: Test Accuracy Rising  0.9305\n",
      "320: Test Accuracy Rising  0.9328\n",
      "325: Test Accuracy Rising  0.9343\n",
      "330: Test Accuracy Rising  0.9364\n",
      "333: Test Accuracy Rising  0.9419\n",
      "348: Test Accuracy Rising  0.9432\n",
      "349: Test Accuracy Rising  0.9455\n",
      "353: Test Accuracy Rising  0.9477\n",
      "359: Test Accuracy Rising  0.954\n",
      "367: Test Accuracy Rising  0.9544\n",
      "369: Test Accuracy Rising  0.9558\n",
      "376: Test Accuracy Rising  0.9584\n",
      "379: Test Accuracy Rising  0.9616\n",
      "390: Test Accuracy Rising  0.9659\n",
      "392: Test Accuracy Rising  0.9676\n",
      "397: Test Accuracy Rising  0.9688\n",
      "398: Test Accuracy Rising  0.9696\n",
      "405: Test Accuracy Rising  0.9715\n",
      "411: Test Accuracy Rising  0.9722\n",
      "435: Test Accuracy Rising  0.973\n",
      "437: Test Accuracy Rising  0.9743\n",
      "456: Test Accuracy Rising  0.9751\n",
      "458: Test Accuracy Rising  0.9753\n",
      "466: Test Accuracy Rising  0.9761\n",
      "467: Test Accuracy Rising  0.9772\n",
      "478: Test Accuracy Rising  0.9783\n",
      "479: Test Accuracy Rising  0.9804\n",
      "495: Test Accuracy Rising  0.9815\n",
      "512: Test Accuracy Rising  0.9833\n",
      "550: Test Accuracy Rising  0.984\n",
      "563: Test Accuracy Rising  0.9858\n",
      "611: Test Accuracy Rising  0.9875\n"
     ]
    },
    {
     "ename": "KeyboardInterrupt",
     "evalue": "",
     "output_type": "error",
     "traceback": [
      "\u001b[0;31m---------------------------------------------------------------------------\u001b[0m",
      "\u001b[0;31mKeyboardInterrupt\u001b[0m                         Traceback (most recent call last)",
      "\u001b[0;32m<ipython-input-13-decc23b238ee>\u001b[0m in \u001b[0;36m<module>\u001b[0;34m\u001b[0m\n\u001b[1;32m      7\u001b[0m \u001b[0;34m\u001b[0m\u001b[0m\n\u001b[1;32m      8\u001b[0m     \u001b[0;32mif\u001b[0m \u001b[0mearly_stop\u001b[0m\u001b[0;34m:\u001b[0m\u001b[0;34m\u001b[0m\u001b[0;34m\u001b[0m\u001b[0m\n\u001b[0;32m----> 9\u001b[0;31m         \u001b[0mbest_agent\u001b[0m\u001b[0;34m,\u001b[0m \u001b[0mopt_agent\u001b[0m \u001b[0;34m=\u001b[0m \u001b[0mD\u001b[0m\u001b[0;34m.\u001b[0m\u001b[0mearly_stop_training\u001b[0m\u001b[0;34m(\u001b[0m\u001b[0mpatience\u001b[0m\u001b[0;34m=\u001b[0m\u001b[0;36m600\u001b[0m\u001b[0;34m,\u001b[0m \u001b[0mbatch_size\u001b[0m\u001b[0;34m=\u001b[0m\u001b[0mXtrain\u001b[0m\u001b[0;34m.\u001b[0m\u001b[0mshape\u001b[0m\u001b[0;34m[\u001b[0m\u001b[0;36m0\u001b[0m\u001b[0;34m]\u001b[0m\u001b[0;34m//\u001b[0m\u001b[0;36m3\u001b[0m\u001b[0;34m,\u001b[0m \u001b[0mmeasure\u001b[0m\u001b[0;34m=\u001b[0m\u001b[0;34m'accuracy'\u001b[0m\u001b[0;34m)\u001b[0m\u001b[0;34m\u001b[0m\u001b[0;34m\u001b[0m\u001b[0m\n\u001b[0m\u001b[1;32m     10\u001b[0m     \u001b[0;32melse\u001b[0m\u001b[0;34m:\u001b[0m\u001b[0;34m\u001b[0m\u001b[0;34m\u001b[0m\u001b[0m\n\u001b[1;32m     11\u001b[0m         \u001b[0mbest_agent\u001b[0m \u001b[0;34m=\u001b[0m \u001b[0mD\u001b[0m\u001b[0;34m.\u001b[0m\u001b[0mevolution\u001b[0m\u001b[0;34m(\u001b[0m\u001b[0mnum_epochs\u001b[0m\u001b[0;34m=\u001b[0m\u001b[0;36m1001\u001b[0m\u001b[0;34m,\u001b[0m \u001b[0mbatch_size\u001b[0m\u001b[0;34m=\u001b[0m\u001b[0mXtrain\u001b[0m\u001b[0;34m.\u001b[0m\u001b[0mshape\u001b[0m\u001b[0;34m[\u001b[0m\u001b[0;36m0\u001b[0m\u001b[0;34m]\u001b[0m\u001b[0;34m//\u001b[0m\u001b[0;36m3\u001b[0m\u001b[0;34m,\u001b[0m \u001b[0mverbose\u001b[0m\u001b[0;34m=\u001b[0m\u001b[0;32mTrue\u001b[0m\u001b[0;34m,\u001b[0m \u001b[0mprint_epoch\u001b[0m\u001b[0;34m=\u001b[0m\u001b[0;36m100\u001b[0m\u001b[0;34m)\u001b[0m\u001b[0;34m\u001b[0m\u001b[0;34m\u001b[0m\u001b[0m\n",
      "\u001b[0;32m~/Documents/Master Thesis/Code/DE_PyCharm/DE_minibatch.py\u001b[0m in \u001b[0;36mearly_stop_training\u001b[0;34m(self, patience, batch_size, measure, eval, v)\u001b[0m\n\u001b[1;32m    222\u001b[0m \u001b[0;34m\u001b[0m\u001b[0m\n\u001b[1;32m    223\u001b[0m             \u001b[0;32mwhile\u001b[0m \u001b[0;34m(\u001b[0m\u001b[0mno_iterations_falling\u001b[0m \u001b[0;34m<\u001b[0m \u001b[0mpatience\u001b[0m\u001b[0;34m)\u001b[0m\u001b[0;34m:\u001b[0m\u001b[0;34m\u001b[0m\u001b[0;34m\u001b[0m\u001b[0m\n\u001b[0;32m--> 224\u001b[0;31m                 \u001b[0mself\u001b[0m\u001b[0;34m.\u001b[0m\u001b[0mevolution\u001b[0m\u001b[0;34m(\u001b[0m\u001b[0mnum_epochs\u001b[0m\u001b[0;34m=\u001b[0m\u001b[0mn\u001b[0m\u001b[0;34m,\u001b[0m \u001b[0mbatch_size\u001b[0m\u001b[0;34m=\u001b[0m\u001b[0mbatch_size\u001b[0m\u001b[0;34m,\u001b[0m \u001b[0mverbose\u001b[0m\u001b[0;34m=\u001b[0m\u001b[0;32mFalse\u001b[0m\u001b[0;34m,\u001b[0m \u001b[0mprint_epoch\u001b[0m\u001b[0;34m=\u001b[0m\u001b[0;36m1\u001b[0m\u001b[0;34m)\u001b[0m\u001b[0;34m\u001b[0m\u001b[0;34m\u001b[0m\u001b[0m\n\u001b[0m\u001b[1;32m    225\u001b[0m                 \u001b[0miterations\u001b[0m \u001b[0;34m=\u001b[0m \u001b[0miterations\u001b[0m \u001b[0;34m+\u001b[0m \u001b[0mn\u001b[0m\u001b[0;34m\u001b[0m\u001b[0;34m\u001b[0m\u001b[0m\n\u001b[1;32m    226\u001b[0m                 \u001b[0mval_acc_new\u001b[0m \u001b[0;34m=\u001b[0m \u001b[0mself\u001b[0m\u001b[0;34m.\u001b[0m\u001b[0maccuracy\u001b[0m\u001b[0;34m(\u001b[0m\u001b[0mself\u001b[0m\u001b[0;34m.\u001b[0m\u001b[0mbest_agent\u001b[0m\u001b[0;34m.\u001b[0m\u001b[0mfeedforward\u001b[0m\u001b[0;34m(\u001b[0m\u001b[0mself\u001b[0m\u001b[0;34m.\u001b[0m\u001b[0mXtest\u001b[0m\u001b[0;34m)\u001b[0m\u001b[0;34m,\u001b[0m \u001b[0mself\u001b[0m\u001b[0;34m.\u001b[0m\u001b[0mytest\u001b[0m\u001b[0;34m)\u001b[0m\u001b[0;34m\u001b[0m\u001b[0;34m\u001b[0m\u001b[0m\n",
      "\u001b[0;32m~/Documents/Master Thesis/Code/DE_PyCharm/DE_minibatch.py\u001b[0m in \u001b[0;36mevolution\u001b[0;34m(self, num_epochs, batch_size, verbose, print_epoch)\u001b[0m\n\u001b[1;32m    126\u001b[0m             \u001b[0;32mfor\u001b[0m \u001b[0mk\u001b[0m \u001b[0;32min\u001b[0m \u001b[0mrange\u001b[0m\u001b[0;34m(\u001b[0m\u001b[0miterations_per_epoch\u001b[0m\u001b[0;34m)\u001b[0m\u001b[0;34m:\u001b[0m\u001b[0;34m\u001b[0m\u001b[0;34m\u001b[0m\u001b[0m\n\u001b[1;32m    127\u001b[0m                 \u001b[0mchosen\u001b[0m \u001b[0;34m=\u001b[0m \u001b[0mnp\u001b[0m\u001b[0;34m.\u001b[0m\u001b[0mrandom\u001b[0m\u001b[0;34m.\u001b[0m\u001b[0mchoice\u001b[0m\u001b[0;34m(\u001b[0m\u001b[0midx\u001b[0m\u001b[0;34m,\u001b[0m \u001b[0mbatch_size\u001b[0m\u001b[0;34m,\u001b[0m \u001b[0mreplace\u001b[0m\u001b[0;34m=\u001b[0m\u001b[0;32mFalse\u001b[0m\u001b[0;34m)\u001b[0m\u001b[0;34m\u001b[0m\u001b[0;34m\u001b[0m\u001b[0m\n\u001b[0;32m--> 128\u001b[0;31m                 \u001b[0mself\u001b[0m\u001b[0;34m.\u001b[0m\u001b[0mevolve\u001b[0m\u001b[0;34m(\u001b[0m\u001b[0mchosen\u001b[0m\u001b[0;34m)\u001b[0m  \u001b[0;31m# evolve all agents in the population\u001b[0m\u001b[0;34m\u001b[0m\u001b[0;34m\u001b[0m\u001b[0m\n\u001b[0m\u001b[1;32m    129\u001b[0m \u001b[0;34m\u001b[0m\u001b[0m\n\u001b[1;32m    130\u001b[0m                 \u001b[0;31m# after all agents in the minibatch have been evolved, update the current best objective function value\u001b[0m\u001b[0;34m\u001b[0m\u001b[0;34m\u001b[0m\u001b[0;34m\u001b[0m\u001b[0m\n",
      "\u001b[0;32m~/Documents/Master Thesis/Code/DE_PyCharm/DE_minibatch.py\u001b[0m in \u001b[0;36mevolve\u001b[0;34m(self, chosen)\u001b[0m\n\u001b[1;32m     97\u001b[0m             \u001b[0;31m# Selection\u001b[0m\u001b[0;34m\u001b[0m\u001b[0;34m\u001b[0m\u001b[0;34m\u001b[0m\u001b[0m\n\u001b[1;32m     98\u001b[0m             \u001b[0mobj_u\u001b[0m \u001b[0;34m=\u001b[0m \u001b[0mself\u001b[0m\u001b[0;34m.\u001b[0m\u001b[0mNN_obj\u001b[0m\u001b[0;34m(\u001b[0m\u001b[0mself\u001b[0m\u001b[0;34m.\u001b[0m\u001b[0mtestNN\u001b[0m\u001b[0;34m,\u001b[0m \u001b[0mchosen\u001b[0m\u001b[0;34m)\u001b[0m\u001b[0;34m\u001b[0m\u001b[0;34m\u001b[0m\u001b[0m\n\u001b[0;32m---> 99\u001b[0;31m             \u001b[0;32mif\u001b[0m \u001b[0mobj_u\u001b[0m \u001b[0;34m<\u001b[0m \u001b[0mself\u001b[0m\u001b[0;34m.\u001b[0m\u001b[0mNN_obj\u001b[0m\u001b[0;34m(\u001b[0m\u001b[0mx\u001b[0m\u001b[0;34m,\u001b[0m \u001b[0mchosen\u001b[0m\u001b[0;34m)\u001b[0m\u001b[0;34m:\u001b[0m\u001b[0;34m\u001b[0m\u001b[0;34m\u001b[0m\u001b[0m\n\u001b[0m\u001b[1;32m    100\u001b[0m                 \u001b[0mself\u001b[0m\u001b[0;34m.\u001b[0m\u001b[0mpop\u001b[0m\u001b[0;34m[\u001b[0m\u001b[0mj\u001b[0m\u001b[0;34m]\u001b[0m \u001b[0;34m=\u001b[0m \u001b[0mcopy\u001b[0m\u001b[0;34m.\u001b[0m\u001b[0mdeepcopy\u001b[0m\u001b[0;34m(\u001b[0m\u001b[0mself\u001b[0m\u001b[0;34m.\u001b[0m\u001b[0mtestNN\u001b[0m\u001b[0;34m)\u001b[0m\u001b[0;34m\u001b[0m\u001b[0;34m\u001b[0m\u001b[0m\n\u001b[1;32m    101\u001b[0m                 \u001b[0mself\u001b[0m\u001b[0;34m.\u001b[0m\u001b[0mobj_all\u001b[0m\u001b[0;34m[\u001b[0m\u001b[0mj\u001b[0m\u001b[0;34m]\u001b[0m \u001b[0;34m=\u001b[0m \u001b[0mobj_u\u001b[0m\u001b[0;34m\u001b[0m\u001b[0;34m\u001b[0m\u001b[0m\n",
      "\u001b[0;32m~/Documents/Master Thesis/Code/DE_PyCharm/DE_minibatch.py\u001b[0m in \u001b[0;36mNN_obj\u001b[0;34m(self, agent, chosen)\u001b[0m\n\u001b[1;32m     47\u001b[0m     \u001b[0;32mdef\u001b[0m \u001b[0mNN_obj\u001b[0m\u001b[0;34m(\u001b[0m\u001b[0mself\u001b[0m\u001b[0;34m,\u001b[0m \u001b[0magent\u001b[0m\u001b[0;34m,\u001b[0m \u001b[0mchosen\u001b[0m\u001b[0;34m)\u001b[0m\u001b[0;34m:\u001b[0m\u001b[0;34m\u001b[0m\u001b[0;34m\u001b[0m\u001b[0m\n\u001b[1;32m     48\u001b[0m \u001b[0;34m\u001b[0m\u001b[0m\n\u001b[0;32m---> 49\u001b[0;31m         \u001b[0myhat\u001b[0m \u001b[0;34m=\u001b[0m \u001b[0magent\u001b[0m\u001b[0;34m.\u001b[0m\u001b[0mfeedforward\u001b[0m\u001b[0;34m(\u001b[0m\u001b[0mself\u001b[0m\u001b[0;34m.\u001b[0m\u001b[0mX\u001b[0m\u001b[0;34m[\u001b[0m\u001b[0mchosen\u001b[0m\u001b[0;34m]\u001b[0m\u001b[0;34m)\u001b[0m\u001b[0;34m\u001b[0m\u001b[0;34m\u001b[0m\u001b[0m\n\u001b[0m\u001b[1;32m     50\u001b[0m         \u001b[0;32mreturn\u001b[0m \u001b[0mself\u001b[0m\u001b[0;34m.\u001b[0m\u001b[0mobj\u001b[0m\u001b[0;34m(\u001b[0m\u001b[0;34m[\u001b[0m\u001b[0mself\u001b[0m\u001b[0;34m.\u001b[0m\u001b[0my\u001b[0m\u001b[0;34m[\u001b[0m\u001b[0mchosen\u001b[0m\u001b[0;34m]\u001b[0m\u001b[0;34m,\u001b[0m \u001b[0myhat\u001b[0m\u001b[0;34m]\u001b[0m\u001b[0;34m)\u001b[0m\u001b[0;34m\u001b[0m\u001b[0;34m\u001b[0m\u001b[0m\n\u001b[1;32m     51\u001b[0m \u001b[0;34m\u001b[0m\u001b[0m\n",
      "\u001b[0;32m~/Documents/Master Thesis/Code/DE_PyCharm/Network.py\u001b[0m in \u001b[0;36mfeedforward\u001b[0;34m(self, a)\u001b[0m\n\u001b[1;32m     56\u001b[0m         \u001b[0;31m# Feedforward\u001b[0m\u001b[0;34m\u001b[0m\u001b[0;34m\u001b[0m\u001b[0;34m\u001b[0m\u001b[0m\n\u001b[1;32m     57\u001b[0m         \u001b[0;32mfor\u001b[0m \u001b[0mb\u001b[0m\u001b[0;34m,\u001b[0m\u001b[0mw\u001b[0m \u001b[0;32min\u001b[0m \u001b[0mzip\u001b[0m\u001b[0;34m(\u001b[0m\u001b[0mself\u001b[0m\u001b[0;34m.\u001b[0m\u001b[0mbiases\u001b[0m\u001b[0;34m,\u001b[0m \u001b[0mself\u001b[0m\u001b[0;34m.\u001b[0m\u001b[0mweights\u001b[0m\u001b[0;34m)\u001b[0m\u001b[0;34m:\u001b[0m\u001b[0;34m\u001b[0m\u001b[0;34m\u001b[0m\u001b[0m\n\u001b[0;32m---> 58\u001b[0;31m             \u001b[0mself\u001b[0m\u001b[0;34m.\u001b[0m\u001b[0mz\u001b[0m \u001b[0;34m=\u001b[0m \u001b[0mnp\u001b[0m\u001b[0;34m.\u001b[0m\u001b[0mdot\u001b[0m\u001b[0;34m(\u001b[0m\u001b[0mself\u001b[0m\u001b[0;34m.\u001b[0m\u001b[0ma\u001b[0m\u001b[0;34m,\u001b[0m \u001b[0mw\u001b[0m\u001b[0;34m)\u001b[0m \u001b[0;34m+\u001b[0m \u001b[0mb\u001b[0m\u001b[0;34m\u001b[0m\u001b[0;34m\u001b[0m\u001b[0m\n\u001b[0m\u001b[1;32m     59\u001b[0m             \u001b[0mself\u001b[0m\u001b[0;34m.\u001b[0m\u001b[0ma\u001b[0m \u001b[0;34m=\u001b[0m \u001b[0mself\u001b[0m\u001b[0;34m.\u001b[0m\u001b[0mafunction\u001b[0m\u001b[0;34m(\u001b[0m\u001b[0mself\u001b[0m\u001b[0;34m.\u001b[0m\u001b[0mz\u001b[0m\u001b[0;34m)\u001b[0m\u001b[0;34m\u001b[0m\u001b[0;34m\u001b[0m\u001b[0m\n\u001b[1;32m     60\u001b[0m             \u001b[0mself\u001b[0m\u001b[0;34m.\u001b[0m\u001b[0mzs\u001b[0m\u001b[0;34m.\u001b[0m\u001b[0mappend\u001b[0m\u001b[0;34m(\u001b[0m\u001b[0mself\u001b[0m\u001b[0;34m.\u001b[0m\u001b[0mz\u001b[0m\u001b[0;34m)\u001b[0m\u001b[0;34m\u001b[0m\u001b[0;34m\u001b[0m\u001b[0m\n",
      "\u001b[0;32m<__array_function__ internals>\u001b[0m in \u001b[0;36mdot\u001b[0;34m(*args, **kwargs)\u001b[0m\n",
      "\u001b[0;31mKeyboardInterrupt\u001b[0m: "
     ]
    }
   ],
   "source": [
    "optimizer = 'DE'\n",
    "early_stop = True\n",
    "\n",
    "if optimizer == 'DE':\n",
    "    D = DE(objective_function=crossEntropy, sizes=sizes, pop_size=50, F=0.55, cr=0.85,\n",
    "           X=Xtrain, y=ytrain, Xtest=Xtest, ytest=ytest, type='classification', afunc='relu')\n",
    "    \n",
    "    if early_stop:\n",
    "        best_agent, opt_agent = D.early_stop_training(patience=600, batch_size=Xtrain.shape[0]//3, measure='accuracy')\n",
    "    else:\n",
    "        best_agent = D.evolution(num_epochs=1001, batch_size=Xtrain.shape[0]//3, verbose=True, print_epoch=100)\n",
    "        D.evaluate()\n",
    "    \n",
    "elif optimizer == 'BP':\n",
    "    NN = NeuralNetwork(sizes=sizes, afunc='relu')\n",
    "    NN.train_loop(Xtrain, ytrain, Xtest, ytest, epochs=10000, batch_size=Xtrain.shape[0], \n",
    "                  cost=True, acc=True, plot=True)\n",
    "    best_agent = NN"
   ]
  },
  {
   "cell_type": "code",
   "execution_count": 14,
   "id": "miniature-publicity",
   "metadata": {},
   "outputs": [
    {
     "name": "stdout",
     "output_type": "stream",
     "text": [
      "Accuracy:  98.75 %\n"
     ]
    }
   ],
   "source": [
    "# Get predictions\n",
    "predictions = D.opt_agent.feedforward(Xtest).argmax(axis=1)\n",
    "true = ytest.argmax(axis=1)\n",
    "\n",
    "# Convert back to symbols\n",
    "predicted_symbols = classes[predictions]\n",
    "true_values = classes[true]\n",
    "# print(predicted_symbols, true_values)\n",
    "correct_preds = np.equal(true_values, predicted_symbols)\n",
    "print(\"Accuracy: \", (sum(correct_preds) / len(true_values)) * 100, \"%\")"
   ]
  },
  {
   "cell_type": "code",
   "execution_count": 16,
   "id": "considerable-looking",
   "metadata": {},
   "outputs": [
    {
     "name": "stdout",
     "output_type": "stream",
     "text": [
      "Euclidean Distance Error Rate: 0.33%\n",
      "Filtering Neural Net Error Rate: 1.83%\n",
      "Euclidean Distance Error Rate: 0.4%\n",
      "Filtering Neural Net Error Rate: 1.71%\n",
      "Euclidean Distance Error Rate: 0.32%\n",
      "Filtering Neural Net Error Rate: 1.55%\n",
      "Euclidean Distance Error Rate: 0.3%\n",
      "Filtering Neural Net Error Rate: 1.64%\n",
      "Euclidean Distance Error Rate: 0.45%\n",
      "Filtering Neural Net Error Rate: 1.36%\n"
     ]
    }
   ],
   "source": [
    "for i in range(5):\n",
    "    \n",
    "    symbol_set = [3, 1, -1, -3] # all symbols that we use\n",
    "    num_symbols = 10000\n",
    "    symbol_seq = np.random.choice(symbol_set, num_symbols, replace=True)\n",
    "    m = 8\n",
    "    CS = Comms_System(symbol_set=symbol_set, symbol_seq=symbol_seq, num_samples=m, beta=0.35)\n",
    "    sigma = 1\n",
    "    classes = np.array(symbol_set)\n",
    "\n",
    "    # calibrate\n",
    "    gain_factor = np.max(CS.h)\n",
    "\n",
    "    # upsample symbol sequence and filter it on transmission side\n",
    "    upsampled = CS.upsample(v=False)\n",
    "    Tx = np.convolve(upsampled, CS.h)\n",
    "\n",
    "    # Transmit the filtered signal (i.e. add noise)\n",
    "    Rx = Tx + np.random.normal(0.0, sigma, Tx.shape)  # add gaussian noise\n",
    "    Rx_ = Rx/gain_factor\n",
    "\n",
    "    blocks = CS.get_signal_in_blocks(Rx_)\n",
    "    X = np.array(blocks)\n",
    "    euclid_decisions = CS.transmission(mode='euclidean', noise_level=sigma)\n",
    "    NN_decisions = classes[D.opt_agent.feedforward(X).argmax(axis=1)]\n",
    "    \n",
    "    print('Euclidean Distance Error Rate: {}%'.format((CS.evaluate(euclid_decisions)[1]*100).round(2)))\n",
    "    print('Filtering Neural Net Error Rate: {}%'.format((CS.evaluate(NN_decisions)[1]*100).round(2)))\n",
    "    # print('Filtering Neural Net Accuracy: {}%'.format((1-CS.evaluate(NN_decisions)[1])*100))\n"
   ]
  },
  {
   "cell_type": "code",
   "execution_count": null,
   "id": "laden-context",
   "metadata": {},
   "outputs": [],
   "source": []
  }
 ],
 "metadata": {
  "kernelspec": {
   "display_name": "Python 3",
   "language": "python",
   "name": "python3"
  },
  "language_info": {
   "codemirror_mode": {
    "name": "ipython",
    "version": 3
   },
   "file_extension": ".py",
   "mimetype": "text/x-python",
   "name": "python",
   "nbconvert_exporter": "python",
   "pygments_lexer": "ipython3",
   "version": "3.6.13"
  }
 },
 "nbformat": 4,
 "nbformat_minor": 5
}

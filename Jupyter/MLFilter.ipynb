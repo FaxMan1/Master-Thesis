{
 "cells": [
  {
   "cell_type": "code",
   "execution_count": 1,
   "id": "excessive-applicant",
   "metadata": {},
   "outputs": [],
   "source": [
    "import sys\n",
    "import numpy as np\n",
    "sys.path.append('..')\n",
    "from Comms_System import Comms_System\n",
    "from train_decision_making import train_DM_model\n",
    "from DE_minibatch import DE\n",
    "#from DE import DE\n",
    "from objective_functions import MSE\n",
    "from objective_functions import crossEntropy\n",
    "from Network import NeuralNetwork\n",
    "import matplotlib.pyplot as plt\n",
    "import scipy.stats"
   ]
  },
  {
   "cell_type": "code",
   "execution_count": 2,
   "id": "earlier-philippines",
   "metadata": {},
   "outputs": [],
   "source": [
    "def get_data(num_symbols, sigma):\n",
    "    \n",
    "    symbol_set = [3, 1, -1, -3] # all symbols that we use\n",
    "    symbol_seq = np.random.choice(symbol_set, num_symbols, replace=True)\n",
    "    m = 8\n",
    "    CS = Comms_System(symbol_set=symbol_set, symbol_seq=symbol_seq, num_samples=m, beta=0.35)\n",
    "\n",
    "    # calibrate\n",
    "    gain_factor = np.max(CS.h)\n",
    "\n",
    "    # upsample symbol sequence and filter it on transmission side\n",
    "    upsampled = CS.upsample(v=False)\n",
    "    Tx = np.convolve(upsampled, CS.h)\n",
    "\n",
    "    # Transmit the filtered signal (i.e. add noise)\n",
    "    Rx = Tx + np.random.normal(0.0, sigma, Tx.shape)  # add gaussian noise\n",
    "    Rx_ = Rx/gain_factor\n",
    "\n",
    "    blocks = CS.get_signal_in_blocks(Rx_)\n",
    "    X = np.array(blocks)\n",
    "    \n",
    "    y = symbol_seq\n",
    "    classes = np.array(symbol_set)\n",
    "    num_classes = len(classes)\n",
    "    sizes = [X.shape[1], 16, num_classes]\n",
    "\n",
    "    # Makes a dictionary that maps a number to each symbol e.g. 3: 0\n",
    "    class_idx = {v: i for i, v in enumerate(classes)}\n",
    "\n",
    "    # Maps class indexes to each value in targets\n",
    "    y = np.array([class_idx[v] for v in y])\n",
    "\n",
    "    # Converts to one-hot-encoded\n",
    "    y = np.eye(num_classes)[y]\n",
    "    \n",
    "    return X, y, classes, sizes"
   ]
  },
  {
   "cell_type": "code",
   "execution_count": 3,
   "id": "fluid-decade",
   "metadata": {},
   "outputs": [],
   "source": [
    "Xtrain, ytrain, classes, sizes = get_data(num_symbols=20000, sigma=1)\n",
    "Xtest, ytest, _, _ = get_data(num_symbols=20000, sigma=1)"
   ]
  },
  {
   "cell_type": "code",
   "execution_count": null,
   "id": "european-diameter",
   "metadata": {},
   "outputs": [],
   "source": [
    "optimizer = 'DE'\n",
    "early_stop = True\n",
    "\n",
    "if optimizer == 'DE':\n",
    "    D = DE(objective_function=crossEntropy, sizes=sizes, pop_size=50, F=0.55, cr=0.85,\n",
    "           X=Xtrain, y=ytrain, Xtest=Xtest, ytest=ytest, type='classification', afunc='relu')\n",
    "    \n",
    "    if early_stop:\n",
    "        best_agent, opt_agent = D.early_stop_training(patience=600, batch_size=Xtrain.shape[0]//3, measure='accuracy')\n",
    "    else:\n",
    "        best_agent = D.evolution(num_epochs=101, batch_size=Xtrain.shape[0], verbose=True, print_epoch=100)\n",
    "        D.evaluate()\n",
    "    \n",
    "elif optimizer == 'BP':\n",
    "    NN = NeuralNetwork(sizes=sizes, afunc='relu')\n",
    "    NN.train_loop(Xtrain, ytrain, Xtest, ytest, epochs=10000, batch_size=Xtrain.shape[0], \n",
    "                  cost=True, acc=True, plot=True)\n",
    "    best_agent = NN"
   ]
  },
  {
   "cell_type": "code",
   "execution_count": null,
   "id": "miniature-publicity",
   "metadata": {},
   "outputs": [],
   "source": [
    "# Get predictions\n",
    "predictions = D.opt_agent.feedforward(Xtest).argmax(axis=1)\n",
    "true = ytest.argmax(axis=1)\n",
    "\n",
    "# Convert back to symbols\n",
    "predicted_symbols = classes[predictions]\n",
    "true_values = classes[true]\n",
    "# print(predicted_symbols, true_values)\n",
    "correct_preds = np.equal(true_values, predicted_symbols)\n",
    "print(\"Accuracy: \", (sum(correct_preds) / len(true_values)) * 100, \"%\")"
   ]
  },
  {
   "cell_type": "code",
   "execution_count": null,
   "id": "dff801b7",
   "metadata": {},
   "outputs": [],
   "source": [
    "for i in range(10):\n",
    "\n",
    "    symbol_set = [3, 1, -1, -3] # all symbols that we use\n",
    "    num_symbols = 10000\n",
    "    symbol_seq = np.random.choice(symbol_set, num_symbols, replace=True)\n",
    "    m = 8\n",
    "    CS = Comms_System(symbol_set=symbol_set, symbol_seq=symbol_seq, num_samples=m)\n",
    "    noise_level = 1\n",
    "\n",
    "    # Automatic test\n",
    "    euclid_decisions, NN_decisions, block_decisions, filter_decisions, _ = CS.test_CS(noise_level=noise_level,\n",
    "                                                                                     filter_model=D.best_agent)\n",
    "    print('Euclidean Distance Error Rate: {}%'.format((CS.evaluate(euclid_decisions)[1]*100).round(2)))\n",
    "    #print('NN Decision Making Error Rate: {}%'.format((CS.evaluate(NN_decisions)[1]*100).round(2)))\n",
    "    #print('NN Block Error Rate: {}%'.format((CS.evaluate(block_decisions)[1]*100).round(2)))\n",
    "    print('NN Filter Error Rate: {}%'.format((CS.evaluate(filter_decisions)[1]*100).round(2)))\n",
    "    print()"
   ]
  }
 ],
 "metadata": {
  "kernelspec": {
   "display_name": "Python 3 (ipykernel)",
   "language": "python",
   "name": "python3"
  },
  "language_info": {
   "codemirror_mode": {
    "name": "ipython",
    "version": 3
   },
   "file_extension": ".py",
   "mimetype": "text/x-python",
   "name": "python",
   "nbconvert_exporter": "python",
   "pygments_lexer": "ipython3",
   "version": "3.8.12"
  }
 },
 "nbformat": 4,
 "nbformat_minor": 5
}

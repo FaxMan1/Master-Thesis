{
 "cells": [
  {
   "cell_type": "code",
   "execution_count": 1,
   "id": "laden-combining",
   "metadata": {},
   "outputs": [],
   "source": [
    "import sys\n",
    "sys.path.append('..')\n",
    "from Comms_System import Comms_System\n",
    "import numpy as np\n",
    "import matplotlib.pyplot as plt\n",
    "import torch\n",
    "from objective_functions import crossEntropy\n",
    "from NetworkPytorch import train_loop, train_loop_old\n",
    "from DE_Pytorch import DE\n",
    "from operator import itemgetter\n",
    "import copy"
   ]
  },
  {
   "cell_type": "code",
   "execution_count": 2,
   "id": "close-athletics",
   "metadata": {},
   "outputs": [],
   "source": [
    "def get_data(num_symbols, sigma):\n",
    "    \n",
    "    symbol_set = [3, 1, -1, -3,] # all symbols that we use\n",
    "    symbol_seq = np.random.choice(symbol_set, num_symbols, replace=True)\n",
    "    m = 8\n",
    "    CS = Comms_System(symbol_set=symbol_set, symbol_seq=symbol_seq, num_samples=m)\n",
    "\n",
    "    gain_factor = np.max(np.convolve(CS.h, CS.h))\n",
    "    upsampled = CS.upsample(v=False)\n",
    "    Tx = np.convolve(upsampled, CS.h)\n",
    "    Tx = Tx + np.random.normal(0.0, sigma, Tx.shape)  # add gaussian noise\n",
    "    \n",
    "    X = torch.tensor(Tx)\n",
    "    X = X.view(1, 1, -1).float() # reshape and cast to float so PyTorch understands it\n",
    "    y = symbol_seq\n",
    "    classes = np.array(symbol_set)\n",
    "    num_classes = len(classes)\n",
    "\n",
    "    class_idx = {v: i for i, v in enumerate(classes)}\n",
    "    y_idx = np.array([class_idx[v] for v in y])\n",
    "    y = torch.Tensor(y_idx)\n",
    "    \n",
    "    return X, y\n",
    "\n",
    "def make_net():\n",
    "    net = torch.nn.Sequential(torch.nn.Conv1d(1, 1, 64), torch.nn.Conv1d(1, 4, 8, stride=8))\n",
    "    for param in net.parameters():\n",
    "        param.requires_grad = False\n",
    "    return net"
   ]
  },
  {
   "cell_type": "code",
   "execution_count": 3,
   "id": "external-pound",
   "metadata": {},
   "outputs": [],
   "source": [
    "# Create Data\n",
    "Xtrain, ytrain = get_data(num_symbols=1000, sigma=2)\n",
    "Xtest, ytest = get_data(num_symbols=1000, sigma=2)\n",
    "\n",
    "# Create 1D Convolutional Neural Network with PyTorch and define optimizer and loss\n",
    "NN = torch.nn.Sequential(torch.nn.Conv1d(1, 1, 64), torch.nn.Conv1d(1, 4, 8, stride=8))\n",
    "criterion = torch.nn.CrossEntropyLoss()\n",
    "optimizer = torch.optim.Adam(NN.parameters(), lr=1e-3)\n",
    "D = DE(objective_function=torch.nn.CrossEntropyLoss(), population_function=make_net, \n",
    "       X=Xtrain, y=ytrain, Xtest=Xtest, ytest=ytest, F=0.55, cr=0.85)"
   ]
  },
  {
   "cell_type": "code",
   "execution_count": null,
   "id": "incorrect-cancellation",
   "metadata": {},
   "outputs": [],
   "source": [
    "# Backprop Training\n",
    "\n",
    "testcosts, traincosts = train_loop(model=NN, optimizer=optimizer, cost=criterion, Xtrain=Xtrain, ytrain=ytrain, \n",
    "                                   Xtest=Xtest, ytest=ytest, epochs=100000, eval=True, plot_iteration=1000)"
   ]
  },
  {
   "cell_type": "code",
   "execution_count": 4,
   "id": "acting-cosmetic",
   "metadata": {},
   "outputs": [
    {
     "name": "stdout",
     "output_type": "stream",
     "text": [
      "0: cost= 1.41082\n",
      "0: testcost= 1.39281\n",
      "\n",
      "100: cost= 0.94758\n",
      "100: testcost= 0.93336\n",
      "\n",
      "200: cost= 0.72537\n",
      "200: testcost= 0.70484\n",
      "\n",
      "300: cost= 0.58292\n",
      "300: testcost= 0.62238\n",
      "\n",
      "400: cost= 0.49493\n",
      "400: testcost= 0.50827\n",
      "\n",
      "500: cost= 0.44618\n",
      "500: testcost= 0.47124\n",
      "\n",
      "600: cost= 0.44035\n",
      "600: testcost= 0.48160\n",
      "\n",
      "700: cost= 0.41636\n",
      "700: testcost= 0.43454\n",
      "\n",
      "800: cost= 0.41056\n",
      "800: testcost= 0.46275\n",
      "\n",
      "900: cost= 0.39220\n",
      "900: testcost= 0.42705\n",
      "\n",
      "1000: cost= 0.38983\n",
      "1000: testcost= 0.42182\n",
      "\n",
      "1100: cost= 0.37463\n",
      "1100: testcost= 0.40081\n",
      "\n",
      "1200: cost= 0.36479\n",
      "1200: testcost= 0.40316\n",
      "\n",
      "1300: cost= 0.35436\n",
      "1300: testcost= 0.39249\n",
      "\n",
      "1400: cost= 0.34967\n",
      "1400: testcost= 0.38514\n",
      "\n",
      "1500: cost= 0.33847\n",
      "1500: testcost= 0.37904\n",
      "\n",
      "1600: cost= 0.33847\n",
      "1600: testcost= 0.37904\n",
      "\n",
      "1700: cost= 0.32979\n",
      "1700: testcost= 0.39496\n",
      "\n",
      "1800: cost= 0.32614\n",
      "1800: testcost= 0.37957\n",
      "\n",
      "1900: cost= 0.32614\n",
      "1900: testcost= 0.37957\n",
      "\n"
     ]
    }
   ],
   "source": [
    "# DE Training\n",
    "\n",
    "best_agent = D.evolution(num_epochs=2000, verbose=True, print_epoch=100)"
   ]
  },
  {
   "cell_type": "code",
   "execution_count": null,
   "id": "involved-professional",
   "metadata": {},
   "outputs": [],
   "source": []
  },
  {
   "cell_type": "code",
   "execution_count": null,
   "id": "reverse-madonna",
   "metadata": {},
   "outputs": [],
   "source": [
    "# Accuracy\n",
    "\n",
    "torch.sum(D.best_agent.forward(Xtest).argmax(axis=1) == ytest)/len(ytest)"
   ]
  },
  {
   "cell_type": "code",
   "execution_count": null,
   "id": "tropical-guinea",
   "metadata": {},
   "outputs": [],
   "source": [
    "#%%timeit -o -r 5\n",
    "#best_agent = D.evolution(num_epochs=1)"
   ]
  }
 ],
 "metadata": {
  "kernelspec": {
   "display_name": "Python 3",
   "language": "python",
   "name": "python3"
  },
  "language_info": {
   "codemirror_mode": {
    "name": "ipython",
    "version": 3
   },
   "file_extension": ".py",
   "mimetype": "text/x-python",
   "name": "python",
   "nbconvert_exporter": "python",
   "pygments_lexer": "ipython3",
   "version": "3.6.13"
  }
 },
 "nbformat": 4,
 "nbformat_minor": 5
}

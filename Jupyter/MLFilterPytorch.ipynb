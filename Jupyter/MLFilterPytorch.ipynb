{
 "cells": [
  {
   "cell_type": "code",
   "execution_count": null,
   "id": "laden-combining",
   "metadata": {},
   "outputs": [],
   "source": [
    "import sys\n",
    "sys.path.append('..')\n",
    "from Comms_System import Comms_System, SNR_plot\n",
    "from filters import butter_lowpass\n",
    "import numpy as np\n",
    "import matplotlib.pyplot as plt\n",
    "import torch\n",
    "from NetworkPytorch import train_loop\n",
    "from DE_Pytorch import DE\n",
    "from scipy import signal\n",
    "from scipy.stats import norm\n",
    "from torchsummary import summary"
   ]
  },
  {
   "cell_type": "code",
   "execution_count": null,
   "id": "close-athletics",
   "metadata": {},
   "outputs": [],
   "source": [
    "def get_data(num_symbols, SNRdb, lowpass=None):\n",
    "    \n",
    "    symbol_set = [3, 1, -1, -3,] # all symbols that we use\n",
    "    symbol_seq = np.random.choice(symbol_set, num_symbols, replace=True)\n",
    "    m = 8\n",
    "    CS = Comms_System(symbol_set=symbol_set, symbol_seq=symbol_seq, num_samples=m)\n",
    "    \n",
    "    sigma = CS.SNRdb_to_sigma(SNRdb, 8, use_gain=False)\n",
    "    print(sigma)\n",
    "\n",
    "    gain_factor = np.max(np.convolve(CS.h, CS.h))\n",
    "    upsampled = CS.upsample(v=False)\n",
    "    Tx = np.convolve(upsampled, CS.h)\n",
    "    \n",
    "    if lowpass is not None:\n",
    "        print('low')\n",
    "        b, a = butter_lowpass(lowpass, CS.m, 10)\n",
    "        Tx = signal.filtfilt(b, a, Tx)\n",
    "        #Tx = torch.tensor(Tx)\n",
    "        #Tx = Tx.view(1, 1, -1).float()\n",
    "        #Tx_freq = torch.fft.rfft(Tx)\n",
    "        #xf = torch.fft.rfftfreq(Tx.shape[2], 1/CS.m)\n",
    "        #Tx_freq[0][0][xf > lowpass] = 0\n",
    "        #Tx_low = torch.fft.irfft(Tx_freq, n=Tx.shape[2])\n",
    "        #Tx = Tx_low\n",
    "\n",
    "\n",
    "    # Normalize signal\n",
    "    Tx = Tx / np.sqrt(np.mean(np.square(Tx)))\n",
    "    Tx = Tx + np.random.normal(0.0, sigma, Tx.shape)  # add gaussian noise\n",
    "    #Tx = Tx / torch.sqrt(torch.mean(torch.square(Tx))) # normalize\n",
    "    #Tx = Tx + torch.normal(0.0, sigma, Tx.shape)\n",
    "    \n",
    "    #X = Tx\n",
    "    X = torch.tensor(Tx)\n",
    "    X = X.view(1, 1, -1).float() # reshape and cast to float so PyTorch understands it\n",
    "    y = symbol_seq\n",
    "    classes = np.array(symbol_set)\n",
    "    num_classes = len(classes)\n",
    "\n",
    "    class_idx = {v: i for i, v in enumerate(classes)}\n",
    "    y_idx = np.array([class_idx[v] for v in y])\n",
    "    y = torch.Tensor(y_idx)\n",
    "    \n",
    "    return X, y\n",
    "\n",
    "def make_net():\n",
    "    net = torch.nn.Sequential(torch.nn.Conv1d(1, 1, 64), torch.nn.Conv1d(1, 4, 8, stride=8))\n",
    "    for param in net.parameters():\n",
    "        param.requires_grad = False\n",
    "    return net"
   ]
  },
  {
   "cell_type": "code",
   "execution_count": null,
   "id": "external-pound",
   "metadata": {},
   "outputs": [],
   "source": [
    "# Create Data\n",
    "Xtrain, ytrain = get_data(num_symbols=100000, SNRdb=6.5, lowpass=0.57)\n",
    "Xtest, ytest = get_data(num_symbols=100000, SNRdb=6.5, lowpass=0.57)\n",
    "\n",
    "# Create 1D Convolutional Neural Network with PyTorch and define optimizer and loss\n",
    "NN = torch.nn.Sequential(torch.nn.Conv1d(1, 1, 64), torch.nn.Conv1d(1, 4, 8, stride=8))\n",
    "criterion = torch.nn.CrossEntropyLoss()\n",
    "optimizer = torch.optim.Adam(NN.parameters(), lr=1e-2)\n",
    "\n",
    "D = DE(objective_function=torch.nn.CrossEntropyLoss(), pop_size=20, population_function=make_net, \n",
    "       X=Xtrain, y=ytrain, Xtest=Xtest, ytest=ytest, F=0.6, cr=0.85, use_cuda=False)\n",
    "#summary(make_net(), input_size=(1, 1, 8063))"
   ]
  },
  {
   "cell_type": "code",
   "execution_count": null,
   "id": "extra-denial",
   "metadata": {
    "scrolled": true
   },
   "outputs": [],
   "source": [
    "# DE Training\n",
    "\n",
    "best_agent = D.evolution(num_epochs=2000, verbose=True, print_epoch=100)\n",
    "#best_agent, opt_agent = D.early_stop_training(patience=500, measure='accuracy')\n",
    "\n",
    "D.evaluate()\n",
    "acc = torch.sum(D.best_agent.to('cpu')(Xtest).argmax(axis=1) == ytest)/len(ytest)\n",
    "print('Accuracy:', acc.item())\n",
    "#D.best_agent.to('cuda')"
   ]
  },
  {
   "cell_type": "code",
   "execution_count": null,
   "id": "ddf920c1",
   "metadata": {
    "scrolled": true
   },
   "outputs": [],
   "source": [
    "# Backprop Training\n",
    "\n",
    "\n",
    "#Xtrain, ytrain = get_data(num_symbols=1000, SNRdb=10, lowpass=None)\n",
    "#Xtest, ytest = get_data(num_symbols=1000, SNRdb=10, lowpass=None)\n",
    "\n",
    "testcosts, traincosts = train_loop(model=NN.to('cpu'), optimizer=optimizer, cost=criterion, Xtrain=Xtrain, ytrain=ytrain, \n",
    "                                   Xtest=Xtest, ytest=ytest, epochs=1000, eval=True, plot_iteration=100, \n",
    "                                   use_cuda=False)"
   ]
  },
  {
   "cell_type": "code",
   "execution_count": null,
   "id": "53251318",
   "metadata": {},
   "outputs": [],
   "source": [
    "num = 300\n",
    "plt.plot(traincosts[num:], label='train (BP)')\n",
    "plt.plot(testcosts[num:], label='test (BP)')\n",
    "#plt.plot(D.best_objs[num:], label= 'train (DE)')\n",
    "#plt.plot(D.best_test_objs[num:], label='test (DE)')\n",
    "#plt.yscale('log')\n",
    "plt.legend()\n",
    "plt.show()"
   ]
  },
  {
   "cell_type": "code",
   "execution_count": null,
   "id": "lucky-rocket",
   "metadata": {},
   "outputs": [],
   "source": [
    "# Evaluate\n",
    "\n",
    "#NN.to('cpu')\n",
    "symbol_set = [3, 1, -1, -3] # all symbols that we use\n",
    "num_symbols = 100000\n",
    "symbol_seq = np.random.choice(symbol_set, num_symbols, replace=True)\n",
    "m = 8\n",
    "CS = Comms_System(symbol_set=symbol_set, symbol_seq=symbol_seq, num_samples=m, beta=0.35)\n",
    "SNR = -60\n",
    "# can never not normalize and not use gain. Either one or both.\n",
    "\n",
    "euclid_decisions = CS.transmission(SNRdb=SNR, mode='euclidean')\n",
    "receiver_net_decisions = CS.transmission(SNRdb=SNR, mode='network', rx_cutoff=None, model=net_BP)\n",
    "receiver_net_decisions2 = CS.transmission(SNRdb=SNR, mode='network', rx_cutoff=None, model=net_DE)\n",
    "\n",
    "\n",
    "print(\"Accuracy:\", 1 - CS.evaluate(euclid_decisions)[1])\n",
    "print(\"Accuracy:\", 1 - CS.evaluate(receiver_net_decisions)[1])\n",
    "print(\"Accuracy:\", 1 - CS.evaluate(receiver_net_decisions2)[1])"
   ]
  },
  {
   "cell_type": "code",
   "execution_count": null,
   "id": "designed-eclipse",
   "metadata": {},
   "outputs": [],
   "source": [
    "SNRdbs, euclid_er, network_er, NN_er, block_er, joint_er,  error_theory = \\\n",
    "SNR_plot(num_symbols=10000, rx_model=NN, rx_cutoff=0.57)"
   ]
  },
  {
   "cell_type": "code",
   "execution_count": null,
   "id": "seasonal-organizer",
   "metadata": {},
   "outputs": [],
   "source": [
    "plt.figure(figsize=(18,11))\n",
    "plt.title('Noise Plot', fontsize=24)\n",
    "plt.xlabel('SNR (dB)', fontsize=20)\n",
    "plt.ylabel('$P_e$', fontsize=20)\n",
    "num = 0\n",
    "plt.semilogy(SNRdbs[num:], euclid_er[num:], label='Euclidean')\n",
    "#plt.semilogy(SNRdbs[num:], NN_er[num:])\n",
    "#plt.semilogy(SNRdbs[num:], block_er[num:])\n",
    "plt.semilogy(SNRdbs[num:], network_er[num:], label='Receiver Network')\n",
    "#plt.semilogy(SNRdbs[num:], joint_er[num:], alpha=1)\n",
    "#plt.semilogy(SNRdbs[num:], error_theory[num:], alpha=1, label='Theory')\n",
    "plt.legend(fontsize=16)\n",
    "plt.show()"
   ]
  },
  {
   "cell_type": "code",
   "execution_count": null,
   "id": "acddf165",
   "metadata": {},
   "outputs": [],
   "source": []
  }
 ],
 "metadata": {
  "kernelspec": {
   "display_name": "Python 3",
   "language": "python",
   "name": "python3"
  },
  "language_info": {
   "codemirror_mode": {
    "name": "ipython",
    "version": 3
   },
   "file_extension": ".py",
   "mimetype": "text/x-python",
   "name": "python",
   "nbconvert_exporter": "python",
   "pygments_lexer": "ipython3",
   "version": "3.6.13"
  }
 },
 "nbformat": 4,
 "nbformat_minor": 5
}

{
 "cells": [
  {
   "cell_type": "code",
   "execution_count": null,
   "id": "laden-combining",
   "metadata": {},
   "outputs": [],
   "source": [
    "import sys\n",
    "sys.path.append('..')\n",
    "from Comms_System import Comms_System\n",
    "import numpy as np\n",
    "import matplotlib.pyplot as plt\n",
    "import torch\n",
    "from NetworkPytorch import train_loop\n",
    "from DE_Pytorch import DE\n",
    "from torchsummary import summary"
   ]
  },
  {
   "cell_type": "code",
   "execution_count": null,
   "id": "close-athletics",
   "metadata": {},
   "outputs": [],
   "source": [
    "def get_data(num_symbols, sigma):\n",
    "    \n",
    "    symbol_set = [3, 1, -1, -3,] # all symbols that we use\n",
    "    symbol_seq = np.random.choice(symbol_set, num_symbols, replace=True)\n",
    "    m = 8\n",
    "    CS = Comms_System(symbol_set=symbol_set, symbol_seq=symbol_seq, num_samples=m)\n",
    "\n",
    "    gain_factor = np.max(np.convolve(CS.h, CS.h))\n",
    "    upsampled = CS.upsample(v=False)\n",
    "    Tx = np.convolve(upsampled, CS.h)\n",
    "    Tx = Tx + np.random.normal(0.0, sigma, Tx.shape)  # add gaussian noise\n",
    "    \n",
    "    X = torch.tensor(Tx)\n",
    "    X = X.view(1, 1, -1).float() # reshape and cast to float so PyTorch understands it\n",
    "    y = symbol_seq\n",
    "    classes = np.array(symbol_set)\n",
    "    num_classes = len(classes)\n",
    "\n",
    "    class_idx = {v: i for i, v in enumerate(classes)}\n",
    "    y_idx = np.array([class_idx[v] for v in y])\n",
    "    y = torch.Tensor(y_idx)\n",
    "    \n",
    "    return X, y\n",
    "\n",
    "def make_net():\n",
    "    net = torch.nn.Sequential(torch.nn.Conv1d(1, 1, 64), torch.nn.Conv1d(1, 4, 8, stride=8))\n",
    "    for param in net.parameters():\n",
    "        param.requires_grad = False\n",
    "    return net"
   ]
  },
  {
   "cell_type": "code",
   "execution_count": null,
   "id": "external-pound",
   "metadata": {},
   "outputs": [],
   "source": [
    "# Create Data\n",
    "Xtrain, ytrain = get_data(num_symbols=10000, sigma=2)\n",
    "Xtest, ytest = get_data(num_symbols=10000, sigma=2)\n",
    "\n",
    "# Create 1D Convolutional Neural Network with PyTorch and define optimizer and loss\n",
    "NN = torch.nn.Sequential(torch.nn.Conv1d(1, 1, 64), torch.nn.Conv1d(1, 4, 8, stride=8))\n",
    "criterion = torch.nn.CrossEntropyLoss()\n",
    "optimizer = torch.optim.Adam(NN.parameters(), lr=1e-3)\n",
    "\n",
    "D = DE(objective_function=torch.nn.CrossEntropyLoss(), population_function=make_net, \n",
    "       X=Xtrain, y=ytrain, Xtest=Xtest, ytest=ytest, F=0.55, cr=0.85, use_cuda=False)\n",
    "#summary(make_net(), input_size=(1, 1, 8063))"
   ]
  },
  {
   "cell_type": "code",
   "execution_count": null,
   "id": "extra-denial",
   "metadata": {},
   "outputs": [],
   "source": [
    "# DE Training\n",
    "\n",
    "best_agent = D.evolution(num_epochs=10000, verbose=True, print_epoch=500)\n",
    "#best_agent, opt_agent = D.early_stop_training(patience=500, measure='accuracy')\n",
    "\n",
    "D.evaluate()\n",
    "acc = torch.sum(D.best_agent.to('cpu')(Xtest).argmax(axis=1) == ytest)/len(ytest)\n",
    "print('Accuracy:', acc.item())"
   ]
  },
  {
   "cell_type": "code",
   "execution_count": null,
   "id": "ddf920c1",
   "metadata": {},
   "outputs": [],
   "source": [
    "# Backprop Training\n",
    "\n",
    "testcosts, traincosts = train_loop(model=NN, optimizer=optimizer, cost=criterion, Xtrain=Xtrain, ytrain=ytrain, \n",
    "                                   Xtest=Xtest, ytest=ytest, epochs=10000, eval=True, plot_iteration=1000)"
   ]
  }
 ],
 "metadata": {
  "kernelspec": {
   "display_name": "Python 3",
   "language": "python",
   "name": "python3"
  },
  "language_info": {
   "codemirror_mode": {
    "name": "ipython",
    "version": 3
   },
   "file_extension": ".py",
   "mimetype": "text/x-python",
   "name": "python",
   "nbconvert_exporter": "python",
   "pygments_lexer": "ipython3",
   "version": "3.6.13"
  }
 },
 "nbformat": 4,
 "nbformat_minor": 5
}

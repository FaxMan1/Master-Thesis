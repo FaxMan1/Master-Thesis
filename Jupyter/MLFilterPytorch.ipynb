{
 "cells": [
  {
   "cell_type": "code",
   "execution_count": 1,
   "id": "laden-combining",
   "metadata": {},
   "outputs": [],
   "source": [
    "import sys\n",
    "sys.path.append('..')\n",
    "from Comms_System import Comms_System\n",
    "import numpy as np\n",
    "import matplotlib.pyplot as plt\n",
    "import torch\n",
    "from NetworkPytorch import train_loop\n",
    "from DE_Pytorch import DE\n",
    "from torchsummary import summary"
   ]
  },
  {
   "cell_type": "code",
   "execution_count": 2,
   "id": "close-athletics",
   "metadata": {},
   "outputs": [],
   "source": [
    "def get_data(num_symbols, sigma):\n",
    "    \n",
    "    symbol_set = [3, 1, -1, -3,] # all symbols that we use\n",
    "    symbol_seq = np.random.choice(symbol_set, num_symbols, replace=True)\n",
    "    m = 8\n",
    "    CS = Comms_System(symbol_set=symbol_set, symbol_seq=symbol_seq, num_samples=m)\n",
    "\n",
    "    gain_factor = np.max(np.convolve(CS.h, CS.h))\n",
    "    upsampled = CS.upsample(v=False)\n",
    "    Tx = np.convolve(upsampled, CS.h)\n",
    "    Tx = Tx + np.random.normal(0.0, sigma, Tx.shape)  # add gaussian noise\n",
    "    \n",
    "    X = torch.tensor(Tx)\n",
    "    X = X.view(1, 1, -1).float() # reshape and cast to float so PyTorch understands it\n",
    "    y = symbol_seq\n",
    "    classes = np.array(symbol_set)\n",
    "    num_classes = len(classes)\n",
    "\n",
    "    class_idx = {v: i for i, v in enumerate(classes)}\n",
    "    y_idx = np.array([class_idx[v] for v in y])\n",
    "    y = torch.Tensor(y_idx)\n",
    "    \n",
    "    return X, y\n",
    "\n",
    "def make_net():\n",
    "    net = torch.nn.Sequential(torch.nn.Conv1d(1, 1, 64), torch.nn.Conv1d(1, 4, 8, stride=8))\n",
    "    for param in net.parameters():\n",
    "        param.requires_grad = False\n",
    "    return net"
   ]
  },
  {
   "cell_type": "code",
   "execution_count": 17,
   "id": "external-pound",
   "metadata": {},
   "outputs": [],
   "source": [
    "# Create Data\n",
    "Xtrain, ytrain = get_data(num_symbols=10000, sigma=2)\n",
    "Xtest, ytest = get_data(num_symbols=10000, sigma=2)\n",
    "\n",
    "# Create 1D Convolutional Neural Network with PyTorch and define optimizer and loss\n",
    "NN = torch.nn.Sequential(torch.nn.Conv1d(1, 1, 64), torch.nn.Conv1d(1, 4, 8, stride=8))\n",
    "criterion = torch.nn.CrossEntropyLoss()\n",
    "optimizer = torch.optim.Adam(NN.parameters(), lr=1e-3)\n",
    "\n",
    "D = DE(objective_function=torch.nn.CrossEntropyLoss(), population_function=make_net, \n",
    "       X=Xtrain, y=ytrain, Xtest=Xtest, ytest=ytest, F=0.55, cr=0.85, use_cuda=False)\n",
    "#summary(make_net(), input_size=(1, 1, 8063))"
   ]
  },
  {
   "cell_type": "code",
   "execution_count": null,
   "id": "extra-denial",
   "metadata": {},
   "outputs": [
    {
     "name": "stdout",
     "output_type": "stream",
     "text": [
      "1: Test Accuracy Rising  0.40209999680519104\n",
      "7: Test Accuracy Rising  0.4372999966144562\n",
      "17: Test Accuracy Rising  0.4438000023365021\n",
      "21: Test Accuracy Rising  0.44670000672340393\n",
      "31: Test Accuracy Rising  0.4968000054359436\n",
      "99: Test Accuracy Rising  0.5924999713897705\n",
      "178: Test Accuracy Rising  0.6381999850273132\n",
      "243: Test Accuracy Rising  0.6510999798774719\n",
      "250: Test Accuracy Rising  0.6610999703407288\n",
      "265: Test Accuracy Rising  0.6977999806404114\n",
      "313: Test Accuracy Rising  0.7074000239372253\n",
      "319: Test Accuracy Rising  0.7152000069618225\n",
      "332: Test Accuracy Rising  0.7347000241279602\n",
      "351: Test Accuracy Rising  0.7505000233650208\n",
      "416: Test Accuracy Rising  0.7529000043869019\n",
      "440: Test Accuracy Rising  0.7560999989509583\n",
      "482: Test Accuracy Rising  0.7807999849319458\n",
      "497: Test Accuracy Rising  0.7936000227928162\n",
      "533: Test Accuracy Rising  0.7975999712944031\n",
      "590: Test Accuracy Rising  0.8021000027656555\n",
      "613: Test Accuracy Rising  0.8044000267982483\n",
      "635: Test Accuracy Rising  0.8198000192642212\n",
      "659: Test Accuracy Rising  0.8335999846458435\n",
      "703: Test Accuracy Rising  0.8458999991416931\n",
      "805: Test Accuracy Rising  0.8485999703407288\n",
      "824: Test Accuracy Rising  0.8515999913215637\n",
      "850: Test Accuracy Rising  0.8525000214576721\n",
      "870: Test Accuracy Rising  0.8550000190734863\n",
      "880: Test Accuracy Rising  0.858299970626831\n"
     ]
    }
   ],
   "source": [
    "# DE Training\n",
    "\n",
    "#best_agent = D.evolution(num_epochs=10000, verbose=True, print_epoch=100)\n",
    "best_agent, opt_agent = D.early_stop_training(patience=500, measure='accuracy')\n",
    "\n",
    "#D.evaluate()\n",
    "acc = torch.sum(D.best_agent.to('cpu')(Xtest).argmax(axis=1) == ytest)/len(ytest)\n",
    "print('Accuracy:', acc.item())"
   ]
  },
  {
   "cell_type": "code",
   "execution_count": 44,
   "id": "fifteen-matter",
   "metadata": {},
   "outputs": [],
   "source": [
    "\n",
    "Xtrain, ytrain = get_data(num_symbols=100000, sigma=2)\n",
    "Xtest, ytest = get_data(num_symbols=100000, sigma=2)"
   ]
  },
  {
   "cell_type": "code",
   "execution_count": 45,
   "id": "affiliated-knife",
   "metadata": {},
   "outputs": [
    {
     "name": "stdout",
     "output_type": "stream",
     "text": [
      "Accuracy: 0.8723800182342529\n"
     ]
    }
   ],
   "source": [
    "acc = torch.sum(opt_agent.to('cpu')(Xtest).argmax(axis=1) == ytest)/len(ytest)\n",
    "print('Accuracy:', acc.item())"
   ]
  },
  {
   "cell_type": "code",
   "execution_count": 47,
   "id": "effective-holocaust",
   "metadata": {},
   "outputs": [
    {
     "data": {
      "text/plain": [
       "[<matplotlib.lines.Line2D at 0x11217be80>]"
      ]
     },
     "execution_count": 47,
     "metadata": {},
     "output_type": "execute_result"
    },
    {
     "data": {
      "image/png": "[encoded data removed]",
      "text/plain": [
       "<Figure size 432x288 with 1 Axes>"
      ]
     },
     "metadata": {
      "needs_background": "light"
     },
     "output_type": "display_data"
    }
   ],
   "source": [
    "plt.plot(list(opt_agent.parameters())[0].detach()[0][0])"
   ]
  },
  {
   "cell_type": "code",
   "execution_count": null,
   "id": "ddf920c1",
   "metadata": {},
   "outputs": [],
   "source": [
    "# Backprop Training\n",
    "\n",
    "testcosts, traincosts = train_loop(model=NN, optimizer=optimizer, cost=criterion, Xtrain=Xtrain, ytrain=ytrain, \n",
    "                                   Xtest=Xtest, ytest=ytest, epochs=1000, eval=True, plot_iteration=100)"
   ]
  },
  {
   "cell_type": "code",
   "execution_count": null,
   "id": "faced-process",
   "metadata": {},
   "outputs": [],
   "source": []
  }
 ],
 "metadata": {
  "kernelspec": {
   "display_name": "Python 3",
   "language": "python",
   "name": "python3"
  },
  "language_info": {
   "codemirror_mode": {
    "name": "ipython",
    "version": 3
   },
   "file_extension": ".py",
   "mimetype": "text/x-python",
   "name": "python",
   "nbconvert_exporter": "python",
   "pygments_lexer": "ipython3",
   "version": "3.6.13"
  }
 },
 "nbformat": 4,
 "nbformat_minor": 5
}

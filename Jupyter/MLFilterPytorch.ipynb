{
 "cells": [
  {
   "cell_type": "code",
   "execution_count": 1,
   "id": "laden-combining",
   "metadata": {},
   "outputs": [],
   "source": [
    "import sys\n",
    "sys.path.append('..')\n",
    "from Comms_System import Comms_System, butter_lowpass, SNR_plot\n",
    "import numpy as np\n",
    "import matplotlib.pyplot as plt\n",
    "import torch\n",
    "from NetworkPytorch import train_loop\n",
    "from DE_Pytorch import DE\n",
    "from torchsummary import summary\n",
    "from scipy import signal\n",
    "from scipy.stats import norm"
   ]
  },
  {
   "cell_type": "code",
   "execution_count": 2,
   "id": "close-athletics",
   "metadata": {},
   "outputs": [],
   "source": [
    "def get_data(num_symbols, sigma, lowpass=None):\n",
    "    \n",
    "    symbol_set = [3, 1, -1, -3,] # all symbols that we use\n",
    "    symbol_seq = np.random.choice(symbol_set, num_symbols, replace=True)\n",
    "    m = 8\n",
    "    CS = Comms_System(symbol_set=symbol_set, symbol_seq=symbol_seq, num_samples=m)\n",
    "\n",
    "    gain_factor = np.max(np.convolve(CS.h, CS.h))\n",
    "    upsampled = CS.upsample(v=False)\n",
    "    if lowpass is not None:\n",
    "        print('low')\n",
    "        b, a = butter_lowpass(lowpass, CS.m, 4)\n",
    "        upsampled = signal.lfilter(b, a, upsampled)\n",
    "\n",
    "    Tx = np.convolve(upsampled, CS.h)\n",
    "    Tx = Tx + np.random.normal(0.0, sigma, Tx.shape)  # add gaussian noise\n",
    "    \n",
    "    X = torch.tensor(Tx)\n",
    "    X = X.view(1, 1, -1).float() # reshape and cast to float so PyTorch understands it\n",
    "    y = symbol_seq\n",
    "    classes = np.array(symbol_set)\n",
    "    num_classes = len(classes)\n",
    "\n",
    "    class_idx = {v: i for i, v in enumerate(classes)}\n",
    "    y_idx = np.array([class_idx[v] for v in y])\n",
    "    y = torch.Tensor(y_idx)\n",
    "    \n",
    "    return X, y\n",
    "\n",
    "def make_net():\n",
    "    net = torch.nn.Sequential(torch.nn.Conv1d(1, 1, 64), torch.nn.Conv1d(1, 4, 8, stride=8))\n",
    "    for param in net.parameters():\n",
    "        param.requires_grad = False\n",
    "    return net"
   ]
  },
  {
   "cell_type": "code",
   "execution_count": 3,
   "id": "external-pound",
   "metadata": {},
   "outputs": [],
   "source": [
    "# Create Data\n",
    "Xtrain, ytrain = get_data(num_symbols=1000000, sigma=2, lowpass=None)\n",
    "Xtest, ytest = get_data(num_symbols=1000000, sigma=2, lowpass=None)\n",
    "\n",
    "# Create 1D Convolutional Neural Network with PyTorch and define optimizer and loss\n",
    "NN = torch.nn.Sequential(torch.nn.Conv1d(1, 1, 64), torch.nn.Conv1d(1, 4, 8, stride=8))\n",
    "criterion = torch.nn.CrossEntropyLoss()\n",
    "optimizer = torch.optim.Adam(NN.parameters(), lr=1e-3)\n",
    "\n",
    "D = DE(objective_function=torch.nn.CrossEntropyLoss(), population_function=make_net, \n",
    "       X=Xtrain, y=ytrain, Xtest=Xtest, ytest=ytest, F=0.55, cr=0.85, use_cuda=False)\n",
    "#summary(make_net(), input_size=(1, 1, 8063))"
   ]
  },
  {
   "cell_type": "code",
   "execution_count": null,
   "id": "extra-denial",
   "metadata": {},
   "outputs": [],
   "source": [
    "# DE Training\n",
    "\n",
    "best_agent = D.evolution(num_epochs=10000, verbose=True, print_epoch=500)\n",
    "#best_agent, opt_agent = D.early_stop_training(patience=500, measure='accuracy')\n",
    "\n",
    "D.evaluate()\n",
    "acc = torch.sum(D.best_agent.to('cpu')(Xtest).argmax(axis=1) == ytest)/len(ytest)\n",
    "print('Accuracy:', acc.item())"
   ]
  },
  {
   "cell_type": "code",
   "execution_count": null,
   "id": "ddf920c1",
   "metadata": {},
   "outputs": [],
   "source": [
    "# Backprop Training\n",
    "\n",
    "testcosts, traincosts = train_loop(model=NN.to('cuda'), optimizer=optimizer, cost=criterion, Xtrain=Xtrain, ytrain=ytrain, \n",
    "                                   Xtest=Xtest, ytest=ytest, epochs=3000, eval=True, plot_iteration=300, use_cuda=True)"
   ]
  },
  {
   "cell_type": "code",
   "execution_count": null,
   "id": "a4651f31",
   "metadata": {},
   "outputs": [],
   "source": [
    "# Evaluate\n",
    "\n",
    "symbol_set = [3, 1, -1, -3] # all symbols that we use\n",
    "num_symbols = 100000\n",
    "symbol_seq = np.random.choice(symbol_set, num_symbols, replace=True)\n",
    "m = 8\n",
    "CS = Comms_System(symbol_set=symbol_set, symbol_seq=symbol_seq, num_samples=m, beta=0.35)\n",
    "noise_level = 2\n",
    "\n",
    "euclid_decisions, _, _, _, conv_decisions, _ = CS.test_CS(noise_level=noise_level, conv_model=None, lowpass=None)\n",
    "print(1-CS.evaluate(euclid_decisions)[1])\n",
    "print(1-CS.evaluate(conv_decisions)[1])"
   ]
  },
  {
   "cell_type": "code",
   "execution_count": null,
   "id": "a83ef256",
   "metadata": {},
   "outputs": [],
   "source": [
    "SNRsDB, _, _, _, _, error_rates_conv, error_theory = SNR_plot(1000, lowpass=None, conv_model=None)"
   ]
  },
  {
   "cell_type": "code",
   "execution_count": null,
   "id": "da15a6f8",
   "metadata": {},
   "outputs": [],
   "source": [
    "plt.figure(figsize=(18,11))\n",
    "plt.title('Noise Plot with lowpass', fontsize=24)\n",
    "plt.xlabel('SNR (dB)', fontsize=20)\n",
    "plt.ylabel('$P_e$', fontsize=20)\n",
    "num = 0\n",
    "plt.semilogy(SNRsDB[num:], error_rates_conv[num:])\n",
    "plt.semilogy(SNRsDB[num:], error_theory[num:])\n",
    "legend = ['Receiver Network Trained on Lowpass Filtered Data', 'Theory']\n",
    "plt.legend(legend, fontsize=16)\n",
    "plt.show()"
   ]
  },
  {
   "cell_type": "code",
   "execution_count": null,
   "id": "584c28bb",
   "metadata": {},
   "outputs": [],
   "source": []
  }
 ],
 "metadata": {
  "kernelspec": {
   "display_name": "Python 3 (ipykernel)",
   "language": "python",
   "name": "python3"
  },
  "language_info": {
   "codemirror_mode": {
    "name": "ipython",
    "version": 3
   },
   "file_extension": ".py",
   "mimetype": "text/x-python",
   "name": "python",
   "nbconvert_exporter": "python",
   "pygments_lexer": "ipython3",
   "version": "3.8.12"
  }
 },
 "nbformat": 4,
 "nbformat_minor": 5
}
